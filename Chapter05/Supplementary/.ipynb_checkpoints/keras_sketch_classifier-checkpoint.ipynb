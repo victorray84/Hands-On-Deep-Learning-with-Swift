{
 "cells": [
  {
   "cell_type": "code",
   "execution_count": 1,
   "metadata": {},
   "outputs": [],
   "source": [
    "# Keras model "
   ]
  },
  {
   "cell_type": "code",
   "execution_count": 2,
   "metadata": {},
   "outputs": [
    {
     "name": "stderr",
     "output_type": "stream",
     "text": [
      "/anaconda3/lib/python3.6/site-packages/h5py/__init__.py:36: FutureWarning: Conversion of the second argument of issubdtype from `float` to `np.floating` is deprecated. In future, it will be treated as `np.float64 == np.dtype(float).type`.\n",
      "  from ._conv import register_converters as _register_converters\n"
     ]
    }
   ],
   "source": [
    "import numpy as np \n",
    "import tensorflow as tf\n",
    "import os "
   ]
  },
  {
   "cell_type": "code",
   "execution_count": 3,
   "metadata": {},
   "outputs": [],
   "source": [
    "ROOT_DIR = '/Users/joshua.newnham/Documents/Shared Playground Data/Sketches/preprocessed/'\n",
    "VALID_DIR = os.path.join(ROOT_DIR, \"valid\")\n",
    "TRAIN_DIR = os.path.join(ROOT_DIR, \"train\")\n",
    "WEIGHTS_FILE = \"sketch_classifier.h5\"\n",
    "\n",
    "TARGET_SIZE = (68,68)\n",
    "INPUT_SHAPE = (68,68,1)\n",
    "NUM_CLASSES = 22\n",
    "\n",
    "EPOCHS = 1000 \n",
    "BATCH_SIZE = 64"
   ]
  },
  {
   "cell_type": "code",
   "execution_count": 4,
   "metadata": {},
   "outputs": [],
   "source": [
    "def count_files(full_path):\n",
    "    count = 0 \n",
    "    def is_image(file_path):\n",
    "        image_extensions = ['png', 'jpg', 'jpeg']\n",
    "        \n",
    "        for image_extension in image_extensions:\n",
    "            if image_extension in file_path.lower():\n",
    "                return True\n",
    "            \n",
    "        return False \n",
    "    \n",
    "    for d in os.listdir(full_path):\n",
    "        if not os.path.isdir(os.path.join(full_path, d)):\n",
    "            continue\n",
    "            \n",
    "        sub_full_path = os.path.join(full_path, d)\n",
    "        \n",
    "        for f in os.listdir(sub_full_path):\n",
    "            img_path = os.path.join(sub_full_path, f)\n",
    "            if os.path.isfile(img_path) and is_image(img_path):\n",
    "                count += 1\n",
    "            \n",
    "    return count"
   ]
  },
  {
   "cell_type": "code",
   "execution_count": 5,
   "metadata": {},
   "outputs": [],
   "source": [
    "NUM_TRAIN_FILES = count_files(TRAIN_DIR)\n",
    "NUM_VALID_FILES = count_files(VALID_DIR)"
   ]
  },
  {
   "cell_type": "code",
   "execution_count": 188,
   "metadata": {},
   "outputs": [],
   "source": [
    "def create_model():\n",
    "    \"\"\"\n",
    "    65% accuracy input size 68\n",
    "    \"\"\"\n",
    "    model = tf.keras.models.Sequential() \n",
    "    #model.add(tf.keras.layers.BatchNormalization(name='l0_batchnorm', input_shape=INPUT_SHAPE))\n",
    "    \n",
    "    model.add(tf.keras.layers.Conv2D(32, \n",
    "                                     kernel_size=(3,3), \n",
    "                                     strides=(1,1),  \n",
    "                                     padding='same',                                       \n",
    "                                     activation=None, \n",
    "                                     input_shape=INPUT_SHAPE, \n",
    "                                     name=\"l1_conv\"))    \n",
    "    model.add(tf.keras.layers.Activation('relu', name=\"l1_relu\"))    \n",
    "    model.add(tf.keras.layers.Conv2D(32, \n",
    "                                     kernel_size=(3,3), \n",
    "                                     strides=(1,1),  \n",
    "                                     padding='same',                                       \n",
    "                                     activation=None, \n",
    "                                     name=\"l1_conv_b\"))    \n",
    "    model.add(tf.keras.layers.Activation('relu', name=\"l1_relu_b\"))    \n",
    "    model.add(tf.keras.layers.MaxPooling2D(2,2, name=\"l1_maxpool\", padding='same'))    \n",
    "    \n",
    "    model.add(tf.keras.layers.Conv2D(32, \n",
    "                                     kernel_size=(3,3),\n",
    "                                     strides=(1,1),  \n",
    "                                     padding='same', \n",
    "                                     activation=None, \n",
    "                                     name=\"l2_conv\"))            \n",
    "    model.add(tf.keras.layers.Activation('relu', name=\"l2_relu\"))\n",
    "    model.add(tf.keras.layers.MaxPooling2D(2,2, name=\"l2_maxpool\", padding='same')) \n",
    "    \n",
    "    model.add(tf.keras.layers.Conv2D(32, \n",
    "                                     kernel_size=(3,3),\n",
    "                                     strides=(1,1),  \n",
    "                                     padding='same', \n",
    "                                     activation=None, \n",
    "                                     name=\"l3_conv\"))        \n",
    "    model.add(tf.keras.layers.Activation('relu', name=\"l3_relu\"))\n",
    "    model.add(tf.keras.layers.MaxPooling2D(2,2, name=\"l3_maxpool\", padding='same')) \n",
    "    model.add(tf.keras.layers.Dropout(0.35, name=\"l3_dropout\"))\n",
    "        \n",
    "    \n",
    "    model.add(tf.keras.layers.Flatten())      \n",
    "    \n",
    "    model.add(tf.keras.layers.Dense(256, \n",
    "                                    activation=None, \n",
    "                                    name='l4_fc'))    \n",
    "    model.add(tf.keras.layers.Activation('relu', name=\"l4_relu\"))\n",
    "    model.add(tf.keras.layers.Dropout(0.35, name=\"l4_dropout\"))\n",
    "        \n",
    "    model.add(tf.keras.layers.Dense(NUM_CLASSES, \n",
    "                                    activation=None, \n",
    "                                    name='l5_fc'))\n",
    "    model.add(tf.keras.layers.Activation('softmax', name=\"output\"))\n",
    "    \n",
    "    model.compile(\n",
    "        loss='categorical_crossentropy', \n",
    "        optimizer=\"rmsprop\", # tf.keras.optimizers.Adam(), \n",
    "        metrics=['accuracy']) \n",
    "    \n",
    "    return model "
   ]
  },
  {
   "cell_type": "code",
   "execution_count": 130,
   "metadata": {},
   "outputs": [],
   "source": [
    "def create_model2():\n",
    "    inputs = tf.keras.layers.Input(shape=INPUT_SHAPE)    \n",
    "    x = tf.keras.layers.BatchNormalization()(inputs)\n",
    "    \n",
    "    stacks = []\n",
    "    for kernel_size in [7, 5, 3]:                \n",
    "        x0 = tf.keras.layers.Conv2D(\n",
    "            32, \n",
    "            kernel_size=(kernel_size,kernel_size), \n",
    "            strides=(1,1),  \n",
    "            padding='same',                                       \n",
    "            activation=None)(x)    \n",
    "        x0 = tf.keras.layers.Activation('relu')(x0)\n",
    "        stacks.append(x0)\n",
    "        \n",
    "    x = tf.keras.layers.concatenate(stacks,axis=-1)\n",
    "    x = tf.keras.layers.MaxPooling2D(2,2, padding='valid')(x)\n",
    "    x = tf.keras.layers.Dropout(0.5)(x)\n",
    "    \n",
    "    stacks = []\n",
    "    for kernel_size in [5, 3]:                \n",
    "        x0 = tf.keras.layers.Conv2D(\n",
    "            64, \n",
    "            kernel_size=(kernel_size,kernel_size), \n",
    "            strides=(1,1),  \n",
    "            padding='same',                                       \n",
    "            activation=None)(x)    \n",
    "        x0 = tf.keras.layers.Activation('relu')(x0)\n",
    "        stacks.append(x0)\n",
    "        \n",
    "    x = tf.keras.layers.concatenate(stacks,axis=-1)\n",
    "    x = tf.keras.layers.MaxPooling2D(2,2, padding='valid')(x)\n",
    "    x = tf.keras.layers.Dropout(0.5)(x)\n",
    "    \n",
    "    x = tf.keras.layers.Conv2D(\n",
    "        128, \n",
    "        kernel_size=(3,3), \n",
    "        strides=(1,1),  \n",
    "        padding='same',                                       \n",
    "        activation=None)(x)    \n",
    "    x = tf.keras.layers.Activation('relu')(x)\n",
    "    x = tf.keras.layers.MaxPooling2D(2,2, padding='valid')(x)\n",
    "    x = tf.keras.layers.Dropout(0.5)(x)\n",
    "        \n",
    "    x = tf.keras.layers.Flatten()(x) \n",
    "    \n",
    "    x = tf.keras.layers.Dense(256, activation=None)(x) \n",
    "    x = tf.keras.layers.Activation('relu')(x)\n",
    "    x = tf.keras.layers.Dropout(0.5)(x)\n",
    "    \n",
    "    x = tf.keras.layers.Dense(NUM_CLASSES, activation=None)(x) \n",
    "    output = tf.keras.layers.Activation('softmax')(x)\n",
    "    \n",
    "    model = tf.keras.Model(inputs=[inputs], outputs=[output])\n",
    "    \n",
    "    model.compile(\n",
    "        loss='categorical_crossentropy', \n",
    "        optimizer=tf.keras.optimizers.Adam(), \n",
    "        metrics=['accuracy']) \n",
    "    \n",
    "    return model "
   ]
  },
  {
   "cell_type": "code",
   "execution_count": 140,
   "metadata": {},
   "outputs": [],
   "source": [
    "def create_model():\n",
    "    model = tf.keras.models.Sequential() \n",
    "    model.add(tf.keras.layers.Conv2D(16, kernel_size=(7,7), strides=(3,3),  \n",
    "                            padding='same', activation='relu', input_shape=INPUT_SHAPE))\n",
    "    model.add(tf.keras.layers.MaxPooling2D(2,2))    \n",
    "    \n",
    "    model.add(tf.keras.layers.Conv2D(32, kernel_size=(5,5), padding='same', activation='relu'))        \n",
    "    model.add(tf.keras.layers.MaxPooling2D(2,2))    \n",
    "    \n",
    "    model.add(tf.keras.layers.Conv2D(64, (5,5), padding='same', activation='relu'))\n",
    "    model.add(tf.keras.layers.MaxPooling2D(2,2))    \n",
    "    model.add(tf.keras.layers.Dropout(0.125))\n",
    "    \n",
    "    model.add(tf.keras.layers.Conv2D(128, (5,5), padding='same', activation='relu'))\n",
    "    model.add(tf.keras.layers.MaxPooling2D(2,2))    \n",
    "    \n",
    "    model.add(tf.keras.layers.Flatten())                \n",
    "    model.add(tf.keras.layers.Dense(512, activation='relu', name='dense_2_512'))\n",
    "    model.add(tf.keras.layers.Dropout(0.5))\n",
    "        \n",
    "    model.add(tf.keras.layers.Dense(NUM_CLASSES, activation='softmax', name='output'))\n",
    "    \n",
    "    model.compile(\n",
    "        loss='categorical_crossentropy', \n",
    "        optimizer='rmsprop', \n",
    "        metrics=['accuracy'])\n",
    "    \n",
    "    return model "
   ]
  },
  {
   "cell_type": "code",
   "execution_count": 207,
   "metadata": {},
   "outputs": [],
   "source": [
    "def create_model():\n",
    "    model = tf.keras.models.Sequential() \n",
    "    model.add(tf.keras.layers.Conv2D(32, kernel_size=(3,3), strides=(3,3),  \n",
    "                            padding='same', activation='relu', input_shape=INPUT_SHAPE))\n",
    "    model.add(tf.keras.layers.MaxPooling2D(2,2))    \n",
    "    \n",
    "    model.add(tf.keras.layers.Conv2D(32, kernel_size=(3,3), padding='same', activation='relu'))        \n",
    "    model.add(tf.keras.layers.MaxPooling2D(2,2))      \n",
    "    \n",
    "    model.add(tf.keras.layers.Conv2D(32, kernel_size=(3,3), padding='same', activation='relu'))        \n",
    "    model.add(tf.keras.layers.MaxPooling2D(2,2))   \n",
    "    model.add(tf.keras.layers.Dropout(0.33))    \n",
    "    \n",
    "    model.add(tf.keras.layers.Flatten())                \n",
    "    \n",
    "    model.add(tf.keras.layers.Dense(512, activation='relu', name='dense_2_512'))\n",
    "    model.add(tf.keras.layers.Dropout(0.33))\n",
    "    \n",
    "#     model.add(tf.keras.layers.Dense(256, activation='relu'))\n",
    "#     model.add(tf.keras.layers.Dropout(0.33))\n",
    "        \n",
    "    model.add(tf.keras.layers.Dense(NUM_CLASSES, activation='softmax', name='output'))\n",
    "    \n",
    "    model.compile(\n",
    "        loss='categorical_crossentropy', \n",
    "        optimizer='rmsprop', \n",
    "        metrics=['accuracy'])\n",
    "    \n",
    "    return model "
   ]
  },
  {
   "cell_type": "code",
   "execution_count": 208,
   "metadata": {},
   "outputs": [],
   "source": [
    "def train(model):\n",
    "    \n",
    "    datagen = tf.keras.preprocessing.image.ImageDataGenerator(rescale=1./255.)\n",
    "    \n",
    "    # create an iterator for the training data \n",
    "    train_generator = datagen.flow_from_directory(\n",
    "        TRAIN_DIR,\n",
    "        target_size=TARGET_SIZE,\n",
    "        batch_size=BATCH_SIZE, \n",
    "        color_mode='grayscale')\n",
    "    \n",
    "    # create an iterator for the validation data \n",
    "    validation_generator = datagen.flow_from_directory(\n",
    "        VALID_DIR,\n",
    "        target_size=TARGET_SIZE,\n",
    "        batch_size=BATCH_SIZE, \n",
    "        color_mode='grayscale')\n",
    "    \n",
    "    checkpoint = tf.keras.callbacks.ModelCheckpoint(WEIGHTS_FILE, \n",
    "                                           monitor='val_loss', \n",
    "                                           verbose=0, \n",
    "                                           save_best_only=True, \n",
    "                                           save_weights_only=True, \n",
    "                                           mode='auto', \n",
    "                                           period=2)\n",
    "    \n",
    "    early_stopping = tf.keras.callbacks.EarlyStopping(monitor='val_loss', patience=10)\n",
    "    \n",
    "    history = model.fit_generator(\n",
    "        train_generator,\n",
    "        steps_per_epoch=int(NUM_TRAIN_FILES/BATCH_SIZE),\n",
    "        epochs=EPOCHS,\n",
    "        validation_data=validation_generator,\n",
    "        validation_steps=int(NUM_VALID_FILES/BATCH_SIZE), \n",
    "        callbacks=[checkpoint, early_stopping]) \n",
    "    \n",
    "    return history, model "
   ]
  },
  {
   "cell_type": "code",
   "execution_count": 209,
   "metadata": {},
   "outputs": [
    {
     "name": "stdout",
     "output_type": "stream",
     "text": [
      "_________________________________________________________________\n",
      "Layer (type)                 Output Shape              Param #   \n",
      "=================================================================\n",
      "conv2d_62 (Conv2D)           (None, 23, 23, 32)        320       \n",
      "_________________________________________________________________\n",
      "max_pooling2d_62 (MaxPooling (None, 11, 11, 32)        0         \n",
      "_________________________________________________________________\n",
      "conv2d_63 (Conv2D)           (None, 11, 11, 32)        9248      \n",
      "_________________________________________________________________\n",
      "max_pooling2d_63 (MaxPooling (None, 5, 5, 32)          0         \n",
      "_________________________________________________________________\n",
      "conv2d_64 (Conv2D)           (None, 5, 5, 32)          9248      \n",
      "_________________________________________________________________\n",
      "max_pooling2d_64 (MaxPooling (None, 2, 2, 32)          0         \n",
      "_________________________________________________________________\n",
      "dropout_39 (Dropout)         (None, 2, 2, 32)          0         \n",
      "_________________________________________________________________\n",
      "flatten_40 (Flatten)         (None, 128)               0         \n",
      "_________________________________________________________________\n",
      "dense_2_512 (Dense)          (None, 512)               66048     \n",
      "_________________________________________________________________\n",
      "dropout_40 (Dropout)         (None, 512)               0         \n",
      "_________________________________________________________________\n",
      "output (Dense)               (None, 22)                11286     \n",
      "=================================================================\n",
      "Total params: 96,150\n",
      "Trainable params: 96,150\n",
      "Non-trainable params: 0\n",
      "_________________________________________________________________\n"
     ]
    }
   ],
   "source": [
    "model = create_model() \n",
    "model.summary()"
   ]
  },
  {
   "cell_type": "code",
   "execution_count": 210,
   "metadata": {},
   "outputs": [
    {
     "name": "stdout",
     "output_type": "stream",
     "text": [
      "Found 3605 images belonging to 22 classes.\n",
      "Found 176 images belonging to 22 classes.\n",
      "Epoch 1/1000\n",
      "56/56 [==============================] - 6s 104ms/step - loss: 2.9906 - acc: 0.0826 - val_loss: 2.6143 - val_acc: 0.1797\n",
      "Epoch 2/1000\n",
      "56/56 [==============================] - 4s 80ms/step - loss: 2.6154 - acc: 0.1931 - val_loss: 2.2698 - val_acc: 0.2812\n",
      "Epoch 3/1000\n",
      "56/56 [==============================] - 3s 57ms/step - loss: 2.4132 - acc: 0.2504 - val_loss: 2.1393 - val_acc: 0.3672\n",
      "Epoch 4/1000\n",
      "56/56 [==============================] - 3s 57ms/step - loss: 2.3058 - acc: 0.2841 - val_loss: 2.0305 - val_acc: 0.4062\n",
      "Epoch 5/1000\n",
      "56/56 [==============================] - 3s 52ms/step - loss: 2.1938 - acc: 0.3151 - val_loss: 1.9488 - val_acc: 0.4531\n",
      "Epoch 6/1000\n",
      "56/56 [==============================] - 3s 61ms/step - loss: 2.1101 - acc: 0.3400 - val_loss: 1.8931 - val_acc: 0.4297\n",
      "Epoch 7/1000\n",
      "56/56 [==============================] - 3s 57ms/step - loss: 2.0623 - acc: 0.3558 - val_loss: 1.8272 - val_acc: 0.4609\n",
      "Epoch 8/1000\n",
      "56/56 [==============================] - 3s 59ms/step - loss: 1.9972 - acc: 0.3726 - val_loss: 1.8504 - val_acc: 0.4219\n",
      "Epoch 9/1000\n",
      "56/56 [==============================] - 3s 52ms/step - loss: 1.9399 - acc: 0.3768 - val_loss: 1.8603 - val_acc: 0.4297\n",
      "Epoch 10/1000\n",
      "56/56 [==============================] - 3s 57ms/step - loss: 1.8614 - acc: 0.4093 - val_loss: 1.7692 - val_acc: 0.4688\n",
      "Epoch 11/1000\n",
      "56/56 [==============================] - 3s 60ms/step - loss: 1.8241 - acc: 0.4274 - val_loss: 1.7431 - val_acc: 0.4375\n",
      "Epoch 12/1000\n",
      "56/56 [==============================] - 3s 60ms/step - loss: 1.7877 - acc: 0.4414 - val_loss: 1.7163 - val_acc: 0.4766\n",
      "Epoch 13/1000\n",
      "56/56 [==============================] - 3s 56ms/step - loss: 1.7558 - acc: 0.4495 - val_loss: 1.7015 - val_acc: 0.5000\n",
      "Epoch 14/1000\n",
      "56/56 [==============================] - 3s 55ms/step - loss: 1.6751 - acc: 0.4696 - val_loss: 1.6975 - val_acc: 0.5312\n",
      "Epoch 15/1000\n",
      "56/56 [==============================] - 3s 52ms/step - loss: 1.6581 - acc: 0.4872 - val_loss: 1.7344 - val_acc: 0.5156\n",
      "Epoch 16/1000\n",
      "56/56 [==============================] - 3s 55ms/step - loss: 1.5907 - acc: 0.5001 - val_loss: 1.6690 - val_acc: 0.5234\n",
      "Epoch 17/1000\n",
      "56/56 [==============================] - 3s 53ms/step - loss: 1.5793 - acc: 0.5029 - val_loss: 1.6514 - val_acc: 0.5234\n",
      "Epoch 18/1000\n",
      "56/56 [==============================] - 3s 56ms/step - loss: 1.5208 - acc: 0.5236 - val_loss: 1.7452 - val_acc: 0.4766\n",
      "Epoch 19/1000\n",
      "56/56 [==============================] - 3s 52ms/step - loss: 1.5085 - acc: 0.5308 - val_loss: 1.7330 - val_acc: 0.5000\n",
      "Epoch 20/1000\n",
      "56/56 [==============================] - 3s 55ms/step - loss: 1.4522 - acc: 0.5565 - val_loss: 1.6955 - val_acc: 0.5000\n",
      "Epoch 21/1000\n",
      "56/56 [==============================] - 3s 54ms/step - loss: 1.4224 - acc: 0.5557 - val_loss: 1.7558 - val_acc: 0.5312\n",
      "Epoch 22/1000\n",
      "56/56 [==============================] - 3s 54ms/step - loss: 1.4030 - acc: 0.5515 - val_loss: 1.7210 - val_acc: 0.5312\n",
      "Epoch 23/1000\n",
      "56/56 [==============================] - 3s 56ms/step - loss: 1.4210 - acc: 0.5512 - val_loss: 1.7068 - val_acc: 0.5391\n",
      "Epoch 24/1000\n",
      "56/56 [==============================] - 3s 52ms/step - loss: 1.3504 - acc: 0.5724 - val_loss: 1.6552 - val_acc: 0.5312\n",
      "Epoch 25/1000\n",
      "56/56 [==============================] - 3s 51ms/step - loss: 1.2950 - acc: 0.5909 - val_loss: 1.7235 - val_acc: 0.5312\n",
      "Epoch 26/1000\n",
      "56/56 [==============================] - 3s 56ms/step - loss: 1.2852 - acc: 0.5795 - val_loss: 1.7772 - val_acc: 0.5078\n",
      "Epoch 27/1000\n",
      "56/56 [==============================] - 3s 56ms/step - loss: 1.2419 - acc: 0.6014 - val_loss: 1.7074 - val_acc: 0.5625\n"
     ]
    }
   ],
   "source": [
    "history, model = train(model)"
   ]
  },
  {
   "cell_type": "markdown",
   "metadata": {},
   "source": [
    "## Export weights "
   ]
  },
  {
   "cell_type": "markdown",
   "metadata": {},
   "source": [
    "Export weights\n",
    "The type of each entry in array is given by -dataType. The number of entries is equal to:\n",
    "\n",
    "inputFeatureChannels outputFeatureChannels kernelHeight kernelWidth*\n",
    "\n",
    "The layout of filter weight is as a 4D tensor (array) weight[ outputChannels ][ kernelHeight ][ kernelWidth ][ inputChannels / groups ]\n",
    "\n",
    "Note: For binary-convolutions the layout of the weights are: weight[ outputChannels ][ kernelHeight ][ kernelWidth ][ floor((inputChannels/groups)+31) / 32 ] with each 32 sub input feature channel index specified in machine byte order, so that for example the 13th feature channel bit can be extracted using bitmask = (1U << 13)."
   ]
  },
  {
   "cell_type": "code",
   "execution_count": null,
   "metadata": {},
   "outputs": [],
   "source": [
    "def export_conv_weights(name, wts_coef, bias_coef):\n",
    "    print(\"Exporting weights for {}\\n\\t{}\\n\\t{}\".format(name, \n",
    "          os.path.join('exports', \"{}_conv.data\".format(name)), \n",
    "          os.path.join('exports', \"{}_bias.data\".format(name))))\n",
    "    \n",
    "    print(\"\\n\")\n",
    "    \n",
    "    # [kernel_width, kernel_height, input_feature_channels, output_feature_channels]\n",
    "    print(\"\\tOriginal weights shape {}\".format(wts_coef.shape))\n",
    "    if bias_coef is not None:\n",
    "        # [output_feature_channels]\n",
    "        print(\"\\tOriginal bias shape {}\".format(bias_coef.shape))\n",
    "    \n",
    "    # [output_feature_channels, kernel_width, kernel_height, input_feature_channels]\n",
    "    wts_coef = wts_coef.transpose(3, 0, 1, 2)\n",
    "    print(\"\\tReshaped weights shape {}\".format(wts_coef.shape))    \n",
    "    wts_coef.tofile(os.path.join('exports', \"{}_conv.data\".format(name)))    \n",
    "    \n",
    "    if bias_coef is not None:\n",
    "        bias_coef = np.squeeze(bias_coef)\n",
    "        print(\"\\tReshaped bias_coef shape {}\".format(bias_coef.shape))    \n",
    "        bias_coef.tofile(os.path.join('exports', \"{}_bias.data\".format(name)))    \n",
    "        \n",
    "    print(\"\\n\")"
   ]
  },
  {
   "cell_type": "code",
   "execution_count": null,
   "metadata": {},
   "outputs": [],
   "source": [
    "def export_dense_weights(name, wts_coef, bias_coef, kernel_width, kernel_height):\n",
    "    \"\"\"\n",
    "    A fully connected layer in a Convolutional Neural Network (CNN) is one where every input channel is connected \n",
    "    to every output channel. The kernel width is equal to the width of the source image, and the \n",
    "    kernel height is equal to the height of the source image. The width and height of the output is 1 x 1.\n",
    "    \n",
    "    A fully connected layer takes an MPSImage object with dimensions \n",
    "    source.width x source.height x Ni, convolves it with Weights[No][source.width][source.height][Ni], \n",
    "    and produces a 1 x 1 x No output.\n",
    "    \n",
    "    Thus, the following conditions must be true:\n",
    "    - kernelWidth == source.width\n",
    "    - kernelHeight == source.height\n",
    "    - clipRect.size.width == 1\n",
    "    - clipRect.size.height == 1\n",
    "    \n",
    "    You can think of a fully connected layer as a matrix multiplication where the image is \n",
    "    flattened into a vector of length source.width*source.height*Ni, and the weights are arranged in a \n",
    "    matrix of dimension No x (source.width*source.height*Ni) to produce an output vector of length No.\n",
    "    \n",
    "    The value of the strideInPixelsX, strideInPixelsY, and groups properties must be 1. \n",
    "    The offset property is not applicable and it is ignored. Because the clip rectangle is \n",
    "    clamped to the destination image bounds, if the destination is 1 x 1, you do not need to set the \n",
    "    clipRect property.\n",
    "    \"\"\"\n",
    "    print(\"Exporting weights for {}\\n\\t{}\\n\\t{}\".format(name, \n",
    "          os.path.join('exports', \"{}_conv.data\".format(name)), \n",
    "          os.path.join('exports', \"{}_bias.data\".format(name))))\n",
    "        \n",
    "    input_feature_channels = int(wts_coef.shape[0] / kernel_width / kernel_height) \n",
    "    output_feature_channels = wts_coef.shape[-1]            \n",
    "    \n",
    "    # [kernel_width, kernel_height, input_feature_channels, output_feature_channels]\n",
    "    print(\"\\tOriginal weights shape {}\".format(wts_coef.shape))\n",
    "    \n",
    "    #wts_coef = np.reshape(wts_coef, [kernel_width, kernel_height, input_feature_channels, output_feature_channels])    \n",
    "    wts_coef = np.reshape(wts_coef, [kernel_width, kernel_height, -1, output_feature_channels])    \n",
    "        \n",
    "    if bias_coef is not None:\n",
    "        # [output_feature_channels]\n",
    "        print(\"\\tOriginal bias shape {}\".format(bias_coef.shape))\n",
    "    \n",
    "    # [output_feature_channels, kernel_width, kernel_height, input_feature_channels]\n",
    "    wts_coef = wts_coef.transpose(3, 0, 1, 2)\n",
    "    print(\"\\tReshaped weights shape {}\".format(wts_coef.shape))    \n",
    "    wts_coef.tofile(os.path.join('exports', \"{}_conv.data\".format(name)))    \n",
    "    \n",
    "    if bias_coef is not None:\n",
    "        bias_coef = np.squeeze(bias_coef)\n",
    "        print(\"\\tReshaped bias_coef shape {}\".format(bias_coef.shape))    \n",
    "        bias_coef.tofile(os.path.join('exports', \"{}_bias.data\".format(name)))   \n",
    "        \n",
    "    print(\"\\n\")"
   ]
  },
  {
   "cell_type": "code",
   "execution_count": null,
   "metadata": {},
   "outputs": [],
   "source": [
    "flatted_input_kernel_width = None\n",
    "flatted_input_kernel_height = None\n",
    "\n",
    "for layer in model.layers:        \n",
    "    if \"flatten\" in layer.name:\n",
    "        flatted_input_kernel_width = layer.input_shape[1] # None, 14, 14, 64\n",
    "        flatted_input_kernel_height = layer.input_shape[2] # None, 14, 14, 64\n",
    "        print(\"flatted_input_kernel_width {} flatted_input_kernel_height {}\".format(\n",
    "            flatted_input_kernel_width, flatted_input_kernel_height))\n",
    "        \n",
    "    if len(layer.get_weights()) > 0:        \n",
    "        name = layer.name         \n",
    "        wts = layer.get_weights()\n",
    "        \n",
    "        if \"conv\" in name:            \n",
    "            export_conv_weights(layer.name, wts[0], wts[1] if len(wts) == 2 else None)        \n",
    "        else:\n",
    "            export_dense_weights(layer.name, wts[0], wts[1] if len(wts) == 2 else None, \n",
    "                                flatted_input_kernel_width, flatted_input_kernel_height)        \n",
    "            # after the initial pass (from cnn to fcn); flattern the kernel down to 1x1 \n",
    "            # i.e. update the flatted_input_kernel_DIM to have the kernel width and height of 1 \n",
    "            flatted_input_kernel_width, flatted_input_kernel_height = 1, 1             "
   ]
  },
  {
   "cell_type": "markdown",
   "metadata": {},
   "source": [
    "--- "
   ]
  },
  {
   "cell_type": "code",
   "execution_count": 213,
   "metadata": {},
   "outputs": [],
   "source": [
    "#!pip install autokeras"
   ]
  },
  {
   "cell_type": "code",
   "execution_count": 7,
   "metadata": {},
   "outputs": [],
   "source": [
    "#from keras.datasets import mnist\n",
    "import autokeras\n",
    "#from autokeras.classifier import ImageClassifier"
   ]
  },
  {
   "cell_type": "code",
   "execution_count": 8,
   "metadata": {},
   "outputs": [
    {
     "name": "stdout",
     "output_type": "stream",
     "text": [
      "Found 3605 images belonging to 22 classes.\n",
      "Found 176 images belonging to 22 classes.\n"
     ]
    }
   ],
   "source": [
    "# if __name__ == '__main__':\n",
    "#     (x_train, y_train), (x_test, y_test) = mnist.load_data()\n",
    "#     x_train = x_train.reshape(x_train.shape + (1,))\n",
    "#     x_test = x_test.reshape(x_test.shape + (1,))\n",
    "\n",
    "datagen = tf.keras.preprocessing.image.ImageDataGenerator(rescale=1./255.)\n",
    "    \n",
    "# create an iterator for the training data \n",
    "train_generator = datagen.flow_from_directory(\n",
    "    TRAIN_DIR,\n",
    "    target_size=TARGET_SIZE,\n",
    "    batch_size=NUM_TRAIN_FILES, \n",
    "    color_mode='grayscale')\n",
    "\n",
    "# create an iterator for the validation data \n",
    "validation_generator = datagen.flow_from_directory(\n",
    "    VALID_DIR,\n",
    "    target_size=TARGET_SIZE,\n",
    "    batch_size=NUM_VALID_FILES, \n",
    "    color_mode='grayscale')"
   ]
  },
  {
   "cell_type": "code",
   "execution_count": 9,
   "metadata": {},
   "outputs": [
    {
     "name": "stdout",
     "output_type": "stream",
     "text": [
      "(3605, 68, 68, 1) (3605, 22)\n"
     ]
    }
   ],
   "source": [
    "x_train, y_train = train_generator.next()\n",
    "print(\"{} {}\".format(x_train.shape, y_train.shape))"
   ]
  },
  {
   "cell_type": "code",
   "execution_count": 10,
   "metadata": {},
   "outputs": [],
   "source": [
    "y_train = np.array([np.argmax(y_train[i]) for i in range(len(y_train))])"
   ]
  },
  {
   "cell_type": "code",
   "execution_count": 11,
   "metadata": {},
   "outputs": [
    {
     "name": "stdout",
     "output_type": "stream",
     "text": [
      "(176, 68, 68, 1) (176, 22)\n"
     ]
    }
   ],
   "source": [
    "x_test, y_test = validation_generator.next()\n",
    "print(\"{} {}\".format(x_test.shape, y_test.shape))"
   ]
  },
  {
   "cell_type": "code",
   "execution_count": 12,
   "metadata": {},
   "outputs": [],
   "source": [
    "y_test = np.array([np.argmax(y_test[i]) for i in range(len(y_test))])"
   ]
  },
  {
   "cell_type": "code",
   "execution_count": 14,
   "metadata": {},
   "outputs": [
    {
     "name": "stdout",
     "output_type": "stream",
     "text": [
      "\n",
      "Initializing search.\n",
      "Initialization finished.\n",
      "\n",
      "\n",
      "+----------------------------------------------+\n",
      "|               Training model 0               |\n",
      "+----------------------------------------------+\n",
      "\r"
     ]
    },
    {
     "data": {
      "application/vnd.jupyter.widget-view+json": {
       "model_id": "0f089b716d944185a482f6089ae76e4e",
       "version_major": 2,
       "version_minor": 0
      },
      "text/plain": [
       "HBox(children=(IntProgress(value=0, description='Epoch-2, Current Metric - 0.11', layout=Layout(flex='2'), max…"
      ]
     },
     "metadata": {},
     "output_type": "display_data"
    },
    {
     "name": "stdout",
     "output_type": "stream",
     "text": [
      "\r"
     ]
    },
    {
     "data": {
      "application/vnd.jupyter.widget-view+json": {
       "model_id": "",
       "version_major": 2,
       "version_minor": 0
      },
      "text/plain": [
       "HBox(children=(IntProgress(value=0, description='Epoch-3, Current Metric - 0.08', layout=Layout(flex='2'), max…"
      ]
     },
     "metadata": {},
     "output_type": "display_data"
    },
    {
     "name": "stdout",
     "output_type": "stream",
     "text": [
      "\r"
     ]
    },
    {
     "data": {
      "application/vnd.jupyter.widget-view+json": {
       "model_id": "",
       "version_major": 2,
       "version_minor": 0
      },
      "text/plain": [
       "HBox(children=(IntProgress(value=0, description='Epoch-4, Current Metric - 0.12333333333333334', layout=Layout…"
      ]
     },
     "metadata": {},
     "output_type": "display_data"
    },
    {
     "name": "stdout",
     "output_type": "stream",
     "text": [
      "\r"
     ]
    },
    {
     "data": {
      "application/vnd.jupyter.widget-view+json": {
       "model_id": "",
       "version_major": 2,
       "version_minor": 0
      },
      "text/plain": [
       "HBox(children=(IntProgress(value=0, description='Epoch-5, Current Metric - 0.21', layout=Layout(flex='2'), max…"
      ]
     },
     "metadata": {},
     "output_type": "display_data"
    },
    {
     "name": "stdout",
     "output_type": "stream",
     "text": [
      "\r"
     ]
    },
    {
     "data": {
      "application/vnd.jupyter.widget-view+json": {
       "model_id": "",
       "version_major": 2,
       "version_minor": 0
      },
      "text/plain": [
       "HBox(children=(IntProgress(value=0, description='Epoch-6, Current Metric - 0.15666666666666668', layout=Layout…"
      ]
     },
     "metadata": {},
     "output_type": "display_data"
    },
    {
     "name": "stdout",
     "output_type": "stream",
     "text": [
      "\r"
     ]
    },
    {
     "data": {
      "application/vnd.jupyter.widget-view+json": {
       "model_id": "",
       "version_major": 2,
       "version_minor": 0
      },
      "text/plain": [
       "HBox(children=(IntProgress(value=0, description='Epoch-7, Current Metric - 0.14666666666666667', layout=Layout…"
      ]
     },
     "metadata": {},
     "output_type": "display_data"
    },
    {
     "name": "stdout",
     "output_type": "stream",
     "text": [
      "\r"
     ]
    },
    {
     "data": {
      "application/vnd.jupyter.widget-view+json": {
       "model_id": "",
       "version_major": 2,
       "version_minor": 0
      },
      "text/plain": [
       "HBox(children=(IntProgress(value=0, description='Epoch-8, Current Metric - 0.20333333333333334', layout=Layout…"
      ]
     },
     "metadata": {},
     "output_type": "display_data"
    },
    {
     "name": "stdout",
     "output_type": "stream",
     "text": [
      "\r"
     ]
    },
    {
     "data": {
      "application/vnd.jupyter.widget-view+json": {
       "model_id": "",
       "version_major": 2,
       "version_minor": 0
      },
      "text/plain": [
       "HBox(children=(IntProgress(value=0, description='Epoch-9, Current Metric - 0.19666666666666666', layout=Layout…"
      ]
     },
     "metadata": {},
     "output_type": "display_data"
    },
    {
     "name": "stdout",
     "output_type": "stream",
     "text": [
      "\r"
     ]
    },
    {
     "data": {
      "application/vnd.jupyter.widget-view+json": {
       "model_id": "",
       "version_major": 2,
       "version_minor": 0
      },
      "text/plain": [
       "HBox(children=(IntProgress(value=0, description='Epoch-10, Current Metric - 0.26666666666666666', layout=Layou…"
      ]
     },
     "metadata": {},
     "output_type": "display_data"
    },
    {
     "name": "stdout",
     "output_type": "stream",
     "text": [
      "\r"
     ]
    },
    {
     "data": {
      "application/vnd.jupyter.widget-view+json": {
       "model_id": "",
       "version_major": 2,
       "version_minor": 0
      },
      "text/plain": [
       "HBox(children=(IntProgress(value=0, description='Epoch-11, Current Metric - 0.22333333333333333', layout=Layou…"
      ]
     },
     "metadata": {},
     "output_type": "display_data"
    },
    {
     "name": "stdout",
     "output_type": "stream",
     "text": [
      "\r"
     ]
    },
    {
     "data": {
      "application/vnd.jupyter.widget-view+json": {
       "model_id": "",
       "version_major": 2,
       "version_minor": 0
      },
      "text/plain": [
       "HBox(children=(IntProgress(value=0, description='Epoch-12, Current Metric - 0.15666666666666668', layout=Layou…"
      ]
     },
     "metadata": {},
     "output_type": "display_data"
    },
    {
     "name": "stdout",
     "output_type": "stream",
     "text": [
      "\r"
     ]
    },
    {
     "data": {
      "application/vnd.jupyter.widget-view+json": {
       "model_id": "",
       "version_major": 2,
       "version_minor": 0
      },
      "text/plain": [
       "HBox(children=(IntProgress(value=0, description='Epoch-13, Current Metric - 0.19', layout=Layout(flex='2'), ma…"
      ]
     },
     "metadata": {},
     "output_type": "display_data"
    },
    {
     "name": "stdout",
     "output_type": "stream",
     "text": [
      "\r"
     ]
    },
    {
     "data": {
      "application/vnd.jupyter.widget-view+json": {
       "model_id": "",
       "version_major": 2,
       "version_minor": 0
      },
      "text/plain": [
       "HBox(children=(IntProgress(value=0, description='Epoch-14, Current Metric - 0.2866666666666667', layout=Layout…"
      ]
     },
     "metadata": {},
     "output_type": "display_data"
    },
    {
     "name": "stdout",
     "output_type": "stream",
     "text": [
      "\r"
     ]
    },
    {
     "data": {
      "application/vnd.jupyter.widget-view+json": {
       "model_id": "",
       "version_major": 2,
       "version_minor": 0
      },
      "text/plain": [
       "HBox(children=(IntProgress(value=0, description='Epoch-15, Current Metric - 0.20333333333333334', layout=Layou…"
      ]
     },
     "metadata": {},
     "output_type": "display_data"
    },
    {
     "name": "stdout",
     "output_type": "stream",
     "text": [
      "\r"
     ]
    },
    {
     "data": {
      "application/vnd.jupyter.widget-view+json": {
       "model_id": "",
       "version_major": 2,
       "version_minor": 0
      },
      "text/plain": [
       "HBox(children=(IntProgress(value=0, description='Epoch-16, Current Metric - 0.16666666666666666', layout=Layou…"
      ]
     },
     "metadata": {},
     "output_type": "display_data"
    },
    {
     "name": "stdout",
     "output_type": "stream",
     "text": [
      "\r"
     ]
    },
    {
     "data": {
      "application/vnd.jupyter.widget-view+json": {
       "model_id": "",
       "version_major": 2,
       "version_minor": 0
      },
      "text/plain": [
       "HBox(children=(IntProgress(value=0, description='Epoch-17, Current Metric - 0.15333333333333332', layout=Layou…"
      ]
     },
     "metadata": {},
     "output_type": "display_data"
    },
    {
     "name": "stdout",
     "output_type": "stream",
     "text": [
      "\r"
     ]
    },
    {
     "data": {
      "application/vnd.jupyter.widget-view+json": {
       "model_id": "",
       "version_major": 2,
       "version_minor": 0
      },
      "text/plain": [
       "HBox(children=(IntProgress(value=0, description='Epoch-18, Current Metric - 0.14666666666666667', layout=Layou…"
      ]
     },
     "metadata": {},
     "output_type": "display_data"
    },
    {
     "name": "stdout",
     "output_type": "stream",
     "text": [
      "\r"
     ]
    },
    {
     "data": {
      "application/vnd.jupyter.widget-view+json": {
       "model_id": "",
       "version_major": 2,
       "version_minor": 0
      },
      "text/plain": [
       "HBox(children=(IntProgress(value=0, description='Epoch-19, Current Metric - 0.18666666666666668', layout=Layou…"
      ]
     },
     "metadata": {},
     "output_type": "display_data"
    },
    {
     "name": "stdout",
     "output_type": "stream",
     "text": [
      "\r"
     ]
    },
    {
     "data": {
      "application/vnd.jupyter.widget-view+json": {
       "model_id": "",
       "version_major": 2,
       "version_minor": 0
      },
      "text/plain": [
       "HBox(children=(IntProgress(value=0, description='Epoch-20, Current Metric - 0.27', layout=Layout(flex='2'), ma…"
      ]
     },
     "metadata": {},
     "output_type": "display_data"
    },
    {
     "name": "stdout",
     "output_type": "stream",
     "text": [
      "\r"
     ]
    },
    {
     "data": {
      "application/vnd.jupyter.widget-view+json": {
       "model_id": "",
       "version_major": 2,
       "version_minor": 0
      },
      "text/plain": [
       "HBox(children=(IntProgress(value=0, description='Epoch-21, Current Metric - 0.32', layout=Layout(flex='2'), ma…"
      ]
     },
     "metadata": {},
     "output_type": "display_data"
    },
    {
     "name": "stdout",
     "output_type": "stream",
     "text": [
      "\n",
      "No loss decrease after 5 epochs.\n",
      "\n",
      "\n",
      "Saving model.\n",
      "+--------------------------------------------------------------------------+\n",
      "|        Model ID        |          Loss          |      Metric Value      |\n",
      "+--------------------------------------------------------------------------+\n",
      "|           0            |   8.500959062576294    |  0.22066666666666665   |\n",
      "+--------------------------------------------------------------------------+\n",
      "\n",
      "\n",
      "+----------------------------------------------+\n",
      "|               Training model 1               |\n",
      "+----------------------------------------------+\n",
      "\r"
     ]
    },
    {
     "data": {
      "application/vnd.jupyter.widget-view+json": {
       "model_id": "6a10240b64b741c1a548b7b275604c8e",
       "version_major": 2,
       "version_minor": 0
      },
      "text/plain": [
       "HBox(children=(IntProgress(value=0, description='Epoch-2, Current Metric - 0.05', layout=Layout(flex='2'), max…"
      ]
     },
     "metadata": {},
     "output_type": "display_data"
    },
    {
     "name": "stdout",
     "output_type": "stream",
     "text": [
      "\r"
     ]
    },
    {
     "data": {
      "application/vnd.jupyter.widget-view+json": {
       "model_id": "",
       "version_major": 2,
       "version_minor": 0
      },
      "text/plain": [
       "HBox(children=(IntProgress(value=0, description='Epoch-3, Current Metric - 0.12333333333333334', layout=Layout…"
      ]
     },
     "metadata": {},
     "output_type": "display_data"
    },
    {
     "name": "stdout",
     "output_type": "stream",
     "text": [
      "\r"
     ]
    },
    {
     "data": {
      "application/vnd.jupyter.widget-view+json": {
       "model_id": "",
       "version_major": 2,
       "version_minor": 0
      },
      "text/plain": [
       "HBox(children=(IntProgress(value=0, description='Epoch-4, Current Metric - 0.13', layout=Layout(flex='2'), max…"
      ]
     },
     "metadata": {},
     "output_type": "display_data"
    },
    {
     "name": "stdout",
     "output_type": "stream",
     "text": [
      "\r"
     ]
    },
    {
     "data": {
      "application/vnd.jupyter.widget-view+json": {
       "model_id": "",
       "version_major": 2,
       "version_minor": 0
      },
      "text/plain": [
       "HBox(children=(IntProgress(value=0, description='Epoch-5, Current Metric - 0.11666666666666667', layout=Layout…"
      ]
     },
     "metadata": {},
     "output_type": "display_data"
    },
    {
     "name": "stdout",
     "output_type": "stream",
     "text": [
      "\r"
     ]
    },
    {
     "data": {
      "application/vnd.jupyter.widget-view+json": {
       "model_id": "",
       "version_major": 2,
       "version_minor": 0
      },
      "text/plain": [
       "HBox(children=(IntProgress(value=0, description='Epoch-6, Current Metric - 0.15666666666666668', layout=Layout…"
      ]
     },
     "metadata": {},
     "output_type": "display_data"
    },
    {
     "name": "stdout",
     "output_type": "stream",
     "text": [
      "\r"
     ]
    },
    {
     "data": {
      "application/vnd.jupyter.widget-view+json": {
       "model_id": "",
       "version_major": 2,
       "version_minor": 0
      },
      "text/plain": [
       "HBox(children=(IntProgress(value=0, description='Epoch-7, Current Metric - 0.24', layout=Layout(flex='2'), max…"
      ]
     },
     "metadata": {},
     "output_type": "display_data"
    },
    {
     "name": "stdout",
     "output_type": "stream",
     "text": [
      "\r"
     ]
    },
    {
     "data": {
      "application/vnd.jupyter.widget-view+json": {
       "model_id": "",
       "version_major": 2,
       "version_minor": 0
      },
      "text/plain": [
       "HBox(children=(IntProgress(value=0, description='Epoch-8, Current Metric - 0.31333333333333335', layout=Layout…"
      ]
     },
     "metadata": {},
     "output_type": "display_data"
    },
    {
     "name": "stdout",
     "output_type": "stream",
     "text": [
      "\r"
     ]
    },
    {
     "data": {
      "application/vnd.jupyter.widget-view+json": {
       "model_id": "",
       "version_major": 2,
       "version_minor": 0
      },
      "text/plain": [
       "HBox(children=(IntProgress(value=0, description='Epoch-9, Current Metric - 0.31', layout=Layout(flex='2'), max…"
      ]
     },
     "metadata": {},
     "output_type": "display_data"
    },
    {
     "name": "stdout",
     "output_type": "stream",
     "text": [
      "\r"
     ]
    },
    {
     "data": {
      "application/vnd.jupyter.widget-view+json": {
       "model_id": "",
       "version_major": 2,
       "version_minor": 0
      },
      "text/plain": [
       "HBox(children=(IntProgress(value=0, description='Epoch-10, Current Metric - 0.14333333333333334', layout=Layou…"
      ]
     },
     "metadata": {},
     "output_type": "display_data"
    },
    {
     "name": "stdout",
     "output_type": "stream",
     "text": [
      "\r"
     ]
    },
    {
     "data": {
      "application/vnd.jupyter.widget-view+json": {
       "model_id": "",
       "version_major": 2,
       "version_minor": 0
      },
      "text/plain": [
       "HBox(children=(IntProgress(value=0, description='Epoch-11, Current Metric - 0.07666666666666666', layout=Layou…"
      ]
     },
     "metadata": {},
     "output_type": "display_data"
    },
    {
     "name": "stdout",
     "output_type": "stream",
     "text": [
      "\r"
     ]
    },
    {
     "data": {
      "application/vnd.jupyter.widget-view+json": {
       "model_id": "",
       "version_major": 2,
       "version_minor": 0
      },
      "text/plain": [
       "HBox(children=(IntProgress(value=0, description='Epoch-12, Current Metric - 0.31', layout=Layout(flex='2'), ma…"
      ]
     },
     "metadata": {},
     "output_type": "display_data"
    },
    {
     "name": "stdout",
     "output_type": "stream",
     "text": [
      "\r"
     ]
    },
    {
     "data": {
      "application/vnd.jupyter.widget-view+json": {
       "model_id": "",
       "version_major": 2,
       "version_minor": 0
      },
      "text/plain": [
       "HBox(children=(IntProgress(value=0, description='Epoch-13, Current Metric - 0.18333333333333332', layout=Layou…"
      ]
     },
     "metadata": {},
     "output_type": "display_data"
    },
    {
     "name": "stdout",
     "output_type": "stream",
     "text": [
      "\r"
     ]
    },
    {
     "data": {
      "application/vnd.jupyter.widget-view+json": {
       "model_id": "",
       "version_major": 2,
       "version_minor": 0
      },
      "text/plain": [
       "HBox(children=(IntProgress(value=0, description='Epoch-14, Current Metric - 0.23', layout=Layout(flex='2'), ma…"
      ]
     },
     "metadata": {},
     "output_type": "display_data"
    },
    {
     "name": "stdout",
     "output_type": "stream",
     "text": [
      "\n",
      "No loss decrease after 5 epochs.\n",
      "\n",
      "\n",
      "+--------------------------------------------------------------------------+\n",
      "|    Father Model ID     |                 Added Operation                 |\n",
      "+--------------------------------------------------------------------------+\n",
      "|           0            |           ('to_add_skip_model', 1, 5)           |\n",
      "+--------------------------------------------------------------------------+\n",
      "\n",
      "Saving model.\n",
      "+--------------------------------------------------------------------------+\n",
      "|        Model ID        |          Loss          |      Metric Value      |\n",
      "+--------------------------------------------------------------------------+\n",
      "|           1            |   12.897615909576416   |  0.19666666666666666   |\n",
      "+--------------------------------------------------------------------------+\n",
      "\n",
      "\n",
      "+----------------------------------------------+\n",
      "|               Training model 2               |\n",
      "+----------------------------------------------+\n",
      "\r"
     ]
    },
    {
     "data": {
      "application/vnd.jupyter.widget-view+json": {
       "model_id": "0b7dede4e4cd492fb62fcec9d7dfb06c",
       "version_major": 2,
       "version_minor": 0
      },
      "text/plain": [
       "HBox(children=(IntProgress(value=0, description='Epoch-2, Current Metric - 0.08', layout=Layout(flex='2'), max…"
      ]
     },
     "metadata": {},
     "output_type": "display_data"
    },
    {
     "name": "stdout",
     "output_type": "stream",
     "text": [
      "\r"
     ]
    },
    {
     "data": {
      "application/vnd.jupyter.widget-view+json": {
       "model_id": "",
       "version_major": 2,
       "version_minor": 0
      },
      "text/plain": [
       "HBox(children=(IntProgress(value=0, description='Epoch-3, Current Metric - 0.2633333333333333', layout=Layout(…"
      ]
     },
     "metadata": {},
     "output_type": "display_data"
    },
    {
     "name": "stdout",
     "output_type": "stream",
     "text": [
      "\r"
     ]
    },
    {
     "data": {
      "application/vnd.jupyter.widget-view+json": {
       "model_id": "",
       "version_major": 2,
       "version_minor": 0
      },
      "text/plain": [
       "HBox(children=(IntProgress(value=0, description='Epoch-4, Current Metric - 0.13666666666666666', layout=Layout…"
      ]
     },
     "metadata": {},
     "output_type": "display_data"
    },
    {
     "name": "stdout",
     "output_type": "stream",
     "text": [
      "\r"
     ]
    },
    {
     "data": {
      "application/vnd.jupyter.widget-view+json": {
       "model_id": "",
       "version_major": 2,
       "version_minor": 0
      },
      "text/plain": [
       "HBox(children=(IntProgress(value=0, description='Epoch-5, Current Metric - 0.24333333333333335', layout=Layout…"
      ]
     },
     "metadata": {},
     "output_type": "display_data"
    },
    {
     "name": "stdout",
     "output_type": "stream",
     "text": [
      "\r"
     ]
    },
    {
     "data": {
      "application/vnd.jupyter.widget-view+json": {
       "model_id": "",
       "version_major": 2,
       "version_minor": 0
      },
      "text/plain": [
       "HBox(children=(IntProgress(value=0, description='Epoch-6, Current Metric - 0.2966666666666667', layout=Layout(…"
      ]
     },
     "metadata": {},
     "output_type": "display_data"
    },
    {
     "name": "stdout",
     "output_type": "stream",
     "text": [
      "\r"
     ]
    },
    {
     "data": {
      "application/vnd.jupyter.widget-view+json": {
       "model_id": "",
       "version_major": 2,
       "version_minor": 0
      },
      "text/plain": [
       "HBox(children=(IntProgress(value=0, description='Epoch-7, Current Metric - 0.30666666666666664', layout=Layout…"
      ]
     },
     "metadata": {},
     "output_type": "display_data"
    },
    {
     "name": "stdout",
     "output_type": "stream",
     "text": [
      "\r"
     ]
    },
    {
     "data": {
      "application/vnd.jupyter.widget-view+json": {
       "model_id": "",
       "version_major": 2,
       "version_minor": 0
      },
      "text/plain": [
       "HBox(children=(IntProgress(value=0, description='Epoch-8, Current Metric - 0.12666666666666668', layout=Layout…"
      ]
     },
     "metadata": {},
     "output_type": "display_data"
    },
    {
     "name": "stdout",
     "output_type": "stream",
     "text": [
      "\r"
     ]
    },
    {
     "data": {
      "application/vnd.jupyter.widget-view+json": {
       "model_id": "",
       "version_major": 2,
       "version_minor": 0
      },
      "text/plain": [
       "HBox(children=(IntProgress(value=0, description='Epoch-9, Current Metric - 0.14333333333333334', layout=Layout…"
      ]
     },
     "metadata": {},
     "output_type": "display_data"
    },
    {
     "name": "stdout",
     "output_type": "stream",
     "text": [
      "\r"
     ]
    },
    {
     "data": {
      "application/vnd.jupyter.widget-view+json": {
       "model_id": "",
       "version_major": 2,
       "version_minor": 0
      },
      "text/plain": [
       "HBox(children=(IntProgress(value=0, description='Epoch-10, Current Metric - 0.14333333333333334', layout=Layou…"
      ]
     },
     "metadata": {},
     "output_type": "display_data"
    },
    {
     "name": "stdout",
     "output_type": "stream",
     "text": [
      "\r"
     ]
    },
    {
     "data": {
      "application/vnd.jupyter.widget-view+json": {
       "model_id": "",
       "version_major": 2,
       "version_minor": 0
      },
      "text/plain": [
       "HBox(children=(IntProgress(value=0, description='Epoch-11, Current Metric - 0.31', layout=Layout(flex='2'), ma…"
      ]
     },
     "metadata": {},
     "output_type": "display_data"
    },
    {
     "name": "stdout",
     "output_type": "stream",
     "text": [
      "\r"
     ]
    },
    {
     "data": {
      "application/vnd.jupyter.widget-view+json": {
       "model_id": "",
       "version_major": 2,
       "version_minor": 0
      },
      "text/plain": [
       "HBox(children=(IntProgress(value=0, description='Epoch-12, Current Metric - 0.25', layout=Layout(flex='2'), ma…"
      ]
     },
     "metadata": {},
     "output_type": "display_data"
    },
    {
     "name": "stdout",
     "output_type": "stream",
     "text": [
      "\r"
     ]
    },
    {
     "data": {
      "application/vnd.jupyter.widget-view+json": {
       "model_id": "",
       "version_major": 2,
       "version_minor": 0
      },
      "text/plain": [
       "HBox(children=(IntProgress(value=0, description='Epoch-13, Current Metric - 0.22333333333333333', layout=Layou…"
      ]
     },
     "metadata": {},
     "output_type": "display_data"
    },
    {
     "name": "stdout",
     "output_type": "stream",
     "text": [
      "\n",
      "No loss decrease after 5 epochs.\n",
      "\n",
      "\n",
      "+--------------------------------------------------------------------------+\n",
      "|    Father Model ID     |                 Added Operation                 |\n",
      "+--------------------------------------------------------------------------+\n",
      "|                        |          ('to_conv_deeper_model', 1, 3)         |\n",
      "|                        |         ('to_conv_deeper_model', 18, 3)         |\n",
      "|                        |            ('to_wider_model', 5, 64)            |\n",
      "|           0            |          ('to_conv_deeper_model', 9, 3)         |\n",
      "|                        |           ('to_add_skip_model', 18, 5)          |\n",
      "|                        |           ('to_add_skip_model', 1, 21)          |\n",
      "+--------------------------------------------------------------------------+\n",
      "\n",
      "Saving model.\n",
      "+--------------------------------------------------------------------------+\n",
      "|        Model ID        |          Loss          |      Metric Value      |\n",
      "+--------------------------------------------------------------------------+\n",
      "|           2            |   11.311695098876953   |   0.2106666666666667   |\n",
      "+--------------------------------------------------------------------------+\n",
      "\n",
      "\n",
      "+----------------------------------------------+\n",
      "|               Training model 3               |\n",
      "+----------------------------------------------+\n",
      "\r"
     ]
    },
    {
     "data": {
      "application/vnd.jupyter.widget-view+json": {
       "model_id": "e1a4d90f713648f58af719efc9fddb2d",
       "version_major": 2,
       "version_minor": 0
      },
      "text/plain": [
       "HBox(children=(IntProgress(value=0, description='Epoch-2, Current Metric - 0.08', layout=Layout(flex='2'), max…"
      ]
     },
     "metadata": {},
     "output_type": "display_data"
    },
    {
     "name": "stdout",
     "output_type": "stream",
     "text": [
      "\r"
     ]
    },
    {
     "data": {
      "application/vnd.jupyter.widget-view+json": {
       "model_id": "",
       "version_major": 2,
       "version_minor": 0
      },
      "text/plain": [
       "HBox(children=(IntProgress(value=0, description='Epoch-3, Current Metric - 0.11666666666666667', layout=Layout…"
      ]
     },
     "metadata": {},
     "output_type": "display_data"
    },
    {
     "name": "stdout",
     "output_type": "stream",
     "text": [
      "\r"
     ]
    },
    {
     "data": {
      "application/vnd.jupyter.widget-view+json": {
       "model_id": "",
       "version_major": 2,
       "version_minor": 0
      },
      "text/plain": [
       "HBox(children=(IntProgress(value=0, description='Epoch-4, Current Metric - 0.24', layout=Layout(flex='2'), max…"
      ]
     },
     "metadata": {},
     "output_type": "display_data"
    },
    {
     "name": "stdout",
     "output_type": "stream",
     "text": [
      "\r"
     ]
    },
    {
     "data": {
      "application/vnd.jupyter.widget-view+json": {
       "model_id": "",
       "version_major": 2,
       "version_minor": 0
      },
      "text/plain": [
       "HBox(children=(IntProgress(value=0, description='Epoch-5, Current Metric - 0.18', layout=Layout(flex='2'), max…"
      ]
     },
     "metadata": {},
     "output_type": "display_data"
    },
    {
     "name": "stdout",
     "output_type": "stream",
     "text": [
      "\r"
     ]
    },
    {
     "data": {
      "application/vnd.jupyter.widget-view+json": {
       "model_id": "",
       "version_major": 2,
       "version_minor": 0
      },
      "text/plain": [
       "HBox(children=(IntProgress(value=0, description='Epoch-6, Current Metric - 0.10666666666666667', layout=Layout…"
      ]
     },
     "metadata": {},
     "output_type": "display_data"
    },
    {
     "name": "stdout",
     "output_type": "stream",
     "text": [
      "\r"
     ]
    },
    {
     "data": {
      "application/vnd.jupyter.widget-view+json": {
       "model_id": "",
       "version_major": 2,
       "version_minor": 0
      },
      "text/plain": [
       "HBox(children=(IntProgress(value=0, description='Epoch-7, Current Metric - 0.12666666666666668', layout=Layout…"
      ]
     },
     "metadata": {},
     "output_type": "display_data"
    },
    {
     "name": "stdout",
     "output_type": "stream",
     "text": [
      "\r"
     ]
    },
    {
     "data": {
      "application/vnd.jupyter.widget-view+json": {
       "model_id": "",
       "version_major": 2,
       "version_minor": 0
      },
      "text/plain": [
       "HBox(children=(IntProgress(value=0, description='Epoch-8, Current Metric - 0.3233333333333333', layout=Layout(…"
      ]
     },
     "metadata": {},
     "output_type": "display_data"
    },
    {
     "name": "stdout",
     "output_type": "stream",
     "text": [
      "\r"
     ]
    },
    {
     "data": {
      "application/vnd.jupyter.widget-view+json": {
       "model_id": "",
       "version_major": 2,
       "version_minor": 0
      },
      "text/plain": [
       "HBox(children=(IntProgress(value=0, description='Epoch-9, Current Metric - 0.32', layout=Layout(flex='2'), max…"
      ]
     },
     "metadata": {},
     "output_type": "display_data"
    },
    {
     "name": "stdout",
     "output_type": "stream",
     "text": [
      "\r"
     ]
    },
    {
     "data": {
      "application/vnd.jupyter.widget-view+json": {
       "model_id": "",
       "version_major": 2,
       "version_minor": 0
      },
      "text/plain": [
       "HBox(children=(IntProgress(value=0, description='Epoch-10, Current Metric - 0.13', layout=Layout(flex='2'), ma…"
      ]
     },
     "metadata": {},
     "output_type": "display_data"
    },
    {
     "name": "stdout",
     "output_type": "stream",
     "text": [
      "\r"
     ]
    },
    {
     "data": {
      "application/vnd.jupyter.widget-view+json": {
       "model_id": "",
       "version_major": 2,
       "version_minor": 0
      },
      "text/plain": [
       "HBox(children=(IntProgress(value=0, description='Epoch-11, Current Metric - 0.11333333333333333', layout=Layou…"
      ]
     },
     "metadata": {},
     "output_type": "display_data"
    },
    {
     "name": "stdout",
     "output_type": "stream",
     "text": [
      "\r"
     ]
    },
    {
     "data": {
      "application/vnd.jupyter.widget-view+json": {
       "model_id": "",
       "version_major": 2,
       "version_minor": 0
      },
      "text/plain": [
       "HBox(children=(IntProgress(value=0, description='Epoch-12, Current Metric - 0.05', layout=Layout(flex='2'), ma…"
      ]
     },
     "metadata": {},
     "output_type": "display_data"
    },
    {
     "name": "stdout",
     "output_type": "stream",
     "text": [
      "\r"
     ]
    },
    {
     "data": {
      "application/vnd.jupyter.widget-view+json": {
       "model_id": "6fda1e439cca46eeb46fd3562dec21d5",
       "version_major": 2,
       "version_minor": 0
      },
      "text/plain": [
       "HBox(children=(IntProgress(value=0, description='Epoch-13, Current Metric - 0.17333333333333334', layout=Layou…"
      ]
     },
     "metadata": {},
     "output_type": "display_data"
    },
    {
     "ename": "Empty",
     "evalue": "",
     "output_type": "error",
     "traceback": [
      "\u001b[0;31m---------------------------------------------------------------------------\u001b[0m",
      "\u001b[0;31mEmpty\u001b[0m                                     Traceback (most recent call last)",
      "\u001b[0;32m<ipython-input-14-cce23084f78c>\u001b[0m in \u001b[0;36m<module>\u001b[0;34m()\u001b[0m\n\u001b[1;32m      1\u001b[0m \u001b[0mclf\u001b[0m \u001b[0;34m=\u001b[0m \u001b[0mautokeras\u001b[0m\u001b[0;34m.\u001b[0m\u001b[0mImageClassifier\u001b[0m\u001b[0;34m(\u001b[0m\u001b[0mverbose\u001b[0m\u001b[0;34m=\u001b[0m\u001b[0;32mTrue\u001b[0m\u001b[0;34m,\u001b[0m \u001b[0maugment\u001b[0m\u001b[0;34m=\u001b[0m\u001b[0;32mFalse\u001b[0m\u001b[0;34m)\u001b[0m\u001b[0;34m\u001b[0m\u001b[0m\n\u001b[1;32m      2\u001b[0m \u001b[0;34m\u001b[0m\u001b[0m\n\u001b[0;32m----> 3\u001b[0;31m \u001b[0mclf\u001b[0m\u001b[0;34m.\u001b[0m\u001b[0mfit\u001b[0m\u001b[0;34m(\u001b[0m\u001b[0mx_train\u001b[0m\u001b[0;34m,\u001b[0m \u001b[0my_train\u001b[0m\u001b[0;34m,\u001b[0m \u001b[0mtime_limit\u001b[0m\u001b[0;34m=\u001b[0m\u001b[0;36m3\u001b[0m \u001b[0;34m*\u001b[0m \u001b[0;36m60\u001b[0m \u001b[0;34m*\u001b[0m \u001b[0;36m60\u001b[0m\u001b[0;34m)\u001b[0m\u001b[0;34m\u001b[0m\u001b[0m\n\u001b[0m\u001b[1;32m      4\u001b[0m \u001b[0mclf\u001b[0m\u001b[0;34m.\u001b[0m\u001b[0mfinal_fit\u001b[0m\u001b[0;34m(\u001b[0m\u001b[0mx_train\u001b[0m\u001b[0;34m,\u001b[0m \u001b[0my_train\u001b[0m\u001b[0;34m,\u001b[0m \u001b[0mx_test\u001b[0m\u001b[0;34m,\u001b[0m \u001b[0my_test\u001b[0m\u001b[0;34m,\u001b[0m \u001b[0mretrain\u001b[0m\u001b[0;34m=\u001b[0m\u001b[0;32mTrue\u001b[0m\u001b[0;34m)\u001b[0m\u001b[0;34m\u001b[0m\u001b[0m\n\u001b[1;32m      5\u001b[0m \u001b[0my\u001b[0m \u001b[0;34m=\u001b[0m \u001b[0mclf\u001b[0m\u001b[0;34m.\u001b[0m\u001b[0mevaluate\u001b[0m\u001b[0;34m(\u001b[0m\u001b[0mx_test\u001b[0m\u001b[0;34m,\u001b[0m \u001b[0my_test\u001b[0m\u001b[0;34m)\u001b[0m\u001b[0;34m\u001b[0m\u001b[0m\n",
      "\u001b[0;32m/anaconda3/lib/python3.6/site-packages/autokeras/image/image_supervised.py\u001b[0m in \u001b[0;36mfit\u001b[0;34m(self, x, y, x_test, y_test, time_limit)\u001b[0m\n\u001b[1;32m    159\u001b[0m             \u001b[0mtime_limit\u001b[0m \u001b[0;34m=\u001b[0m \u001b[0;36m24\u001b[0m \u001b[0;34m*\u001b[0m \u001b[0;36m60\u001b[0m \u001b[0;34m*\u001b[0m \u001b[0;36m60\u001b[0m\u001b[0;34m\u001b[0m\u001b[0m\n\u001b[1;32m    160\u001b[0m \u001b[0;34m\u001b[0m\u001b[0m\n\u001b[0;32m--> 161\u001b[0;31m         \u001b[0mself\u001b[0m\u001b[0;34m.\u001b[0m\u001b[0mcnn\u001b[0m\u001b[0;34m.\u001b[0m\u001b[0mfit\u001b[0m\u001b[0;34m(\u001b[0m\u001b[0mself\u001b[0m\u001b[0;34m.\u001b[0m\u001b[0mget_n_output_node\u001b[0m\u001b[0;34m(\u001b[0m\u001b[0;34m)\u001b[0m\u001b[0;34m,\u001b[0m \u001b[0mx_train\u001b[0m\u001b[0;34m.\u001b[0m\u001b[0mshape\u001b[0m\u001b[0;34m,\u001b[0m \u001b[0mtrain_data\u001b[0m\u001b[0;34m,\u001b[0m \u001b[0mtest_data\u001b[0m\u001b[0;34m,\u001b[0m \u001b[0mtime_limit\u001b[0m\u001b[0;34m)\u001b[0m\u001b[0;34m\u001b[0m\u001b[0m\n\u001b[0m\u001b[1;32m    162\u001b[0m \u001b[0;34m\u001b[0m\u001b[0m\n\u001b[1;32m    163\u001b[0m     \u001b[0;34m@\u001b[0m\u001b[0mabstractmethod\u001b[0m\u001b[0;34m\u001b[0m\u001b[0m\n",
      "\u001b[0;32m/anaconda3/lib/python3.6/site-packages/autokeras/cnn_module.py\u001b[0m in \u001b[0;36mfit\u001b[0;34m(self, n_output_node, input_shape, train_data, test_data, time_limit)\u001b[0m\n\u001b[1;32m     48\u001b[0m             \u001b[0;32mwhile\u001b[0m \u001b[0mtime_remain\u001b[0m \u001b[0;34m>\u001b[0m \u001b[0;36m0\u001b[0m\u001b[0;34m:\u001b[0m\u001b[0;34m\u001b[0m\u001b[0m\n\u001b[1;32m     49\u001b[0m                 \u001b[0msearcher\u001b[0m \u001b[0;34m=\u001b[0m \u001b[0mpickle_from_file\u001b[0m\u001b[0;34m(\u001b[0m\u001b[0mos\u001b[0m\u001b[0;34m.\u001b[0m\u001b[0mpath\u001b[0m\u001b[0;34m.\u001b[0m\u001b[0mjoin\u001b[0m\u001b[0;34m(\u001b[0m\u001b[0mself\u001b[0m\u001b[0;34m.\u001b[0m\u001b[0mpath\u001b[0m\u001b[0;34m,\u001b[0m \u001b[0;34m'searcher'\u001b[0m\u001b[0;34m)\u001b[0m\u001b[0;34m)\u001b[0m\u001b[0;34m\u001b[0m\u001b[0m\n\u001b[0;32m---> 50\u001b[0;31m                 \u001b[0msearcher\u001b[0m\u001b[0;34m.\u001b[0m\u001b[0msearch\u001b[0m\u001b[0;34m(\u001b[0m\u001b[0mtrain_data\u001b[0m\u001b[0;34m,\u001b[0m \u001b[0mtest_data\u001b[0m\u001b[0;34m,\u001b[0m \u001b[0mint\u001b[0m\u001b[0;34m(\u001b[0m\u001b[0mtime_remain\u001b[0m\u001b[0;34m)\u001b[0m\u001b[0;34m)\u001b[0m\u001b[0;34m\u001b[0m\u001b[0m\n\u001b[0m\u001b[1;32m     51\u001b[0m                 \u001b[0;32mif\u001b[0m \u001b[0mlen\u001b[0m\u001b[0;34m(\u001b[0m\u001b[0mself\u001b[0m\u001b[0;34m.\u001b[0m\u001b[0m_load_searcher\u001b[0m\u001b[0;34m(\u001b[0m\u001b[0;34m)\u001b[0m\u001b[0;34m.\u001b[0m\u001b[0mhistory\u001b[0m\u001b[0;34m)\u001b[0m \u001b[0;34m>=\u001b[0m \u001b[0mConstant\u001b[0m\u001b[0;34m.\u001b[0m\u001b[0mMAX_MODEL_NUM\u001b[0m\u001b[0;34m:\u001b[0m\u001b[0;34m\u001b[0m\u001b[0m\n\u001b[1;32m     52\u001b[0m                     \u001b[0;32mbreak\u001b[0m\u001b[0;34m\u001b[0m\u001b[0m\n",
      "\u001b[0;32m/anaconda3/lib/python3.6/site-packages/autokeras/search.py\u001b[0m in \u001b[0;36msearch\u001b[0;34m(self, train_data, test_data, timeout)\u001b[0m\n\u001b[1;32m    199\u001b[0m             \u001b[0;32mif\u001b[0m \u001b[0mremaining_time\u001b[0m \u001b[0;34m<=\u001b[0m \u001b[0;36m0\u001b[0m\u001b[0;34m:\u001b[0m\u001b[0;34m\u001b[0m\u001b[0m\n\u001b[1;32m    200\u001b[0m                 \u001b[0;32mraise\u001b[0m \u001b[0mTimeoutError\u001b[0m\u001b[0;34m\u001b[0m\u001b[0m\n\u001b[0;32m--> 201\u001b[0;31m             \u001b[0mmetric_value\u001b[0m\u001b[0;34m,\u001b[0m \u001b[0mloss\u001b[0m\u001b[0;34m,\u001b[0m \u001b[0mgraph\u001b[0m \u001b[0;34m=\u001b[0m \u001b[0mq\u001b[0m\u001b[0;34m.\u001b[0m\u001b[0mget\u001b[0m\u001b[0;34m(\u001b[0m\u001b[0mtimeout\u001b[0m\u001b[0;34m=\u001b[0m\u001b[0mremaining_time\u001b[0m\u001b[0;34m)\u001b[0m\u001b[0;34m\u001b[0m\u001b[0m\n\u001b[0m\u001b[1;32m    202\u001b[0m \u001b[0;34m\u001b[0m\u001b[0m\n\u001b[1;32m    203\u001b[0m             \u001b[0;32mif\u001b[0m \u001b[0mself\u001b[0m\u001b[0;34m.\u001b[0m\u001b[0mverbose\u001b[0m \u001b[0;32mand\u001b[0m \u001b[0msearched\u001b[0m\u001b[0;34m:\u001b[0m\u001b[0;34m\u001b[0m\u001b[0m\n",
      "\u001b[0;32m/anaconda3/lib/python3.6/multiprocessing/queues.py\u001b[0m in \u001b[0;36mget\u001b[0;34m(self, block, timeout)\u001b[0m\n\u001b[1;32m    103\u001b[0m                     \u001b[0mtimeout\u001b[0m \u001b[0;34m=\u001b[0m \u001b[0mdeadline\u001b[0m \u001b[0;34m-\u001b[0m \u001b[0mtime\u001b[0m\u001b[0;34m.\u001b[0m\u001b[0mtime\u001b[0m\u001b[0;34m(\u001b[0m\u001b[0;34m)\u001b[0m\u001b[0;34m\u001b[0m\u001b[0m\n\u001b[1;32m    104\u001b[0m                     \u001b[0;32mif\u001b[0m \u001b[0;32mnot\u001b[0m \u001b[0mself\u001b[0m\u001b[0;34m.\u001b[0m\u001b[0m_poll\u001b[0m\u001b[0;34m(\u001b[0m\u001b[0mtimeout\u001b[0m\u001b[0;34m)\u001b[0m\u001b[0;34m:\u001b[0m\u001b[0;34m\u001b[0m\u001b[0m\n\u001b[0;32m--> 105\u001b[0;31m                         \u001b[0;32mraise\u001b[0m \u001b[0mEmpty\u001b[0m\u001b[0;34m\u001b[0m\u001b[0m\n\u001b[0m\u001b[1;32m    106\u001b[0m                 \u001b[0;32melif\u001b[0m \u001b[0;32mnot\u001b[0m \u001b[0mself\u001b[0m\u001b[0;34m.\u001b[0m\u001b[0m_poll\u001b[0m\u001b[0;34m(\u001b[0m\u001b[0;34m)\u001b[0m\u001b[0;34m:\u001b[0m\u001b[0;34m\u001b[0m\u001b[0m\n\u001b[1;32m    107\u001b[0m                     \u001b[0;32mraise\u001b[0m \u001b[0mEmpty\u001b[0m\u001b[0;34m\u001b[0m\u001b[0m\n",
      "\u001b[0;31mEmpty\u001b[0m: "
     ]
    }
   ],
   "source": [
    "clf = autokeras.ImageClassifier(verbose=True, augment=False)\n",
    "\n",
    "clf.fit(x_train, y_train, time_limit=3 * 60 * 60)\n",
    "clf.final_fit(x_train, y_train, x_test, y_test, retrain=True)\n",
    "y = clf.evaluate(x_test, y_test)\n",
    "print(y * 100)"
   ]
  },
  {
   "cell_type": "code",
   "execution_count": 15,
   "metadata": {},
   "outputs": [
    {
     "data": {
      "application/vnd.jupyter.widget-view+json": {
       "model_id": "",
       "version_major": 2,
       "version_minor": 0
      },
      "text/plain": [
       "HBox(children=(IntProgress(value=0, description='Epoch-1, Current Metric - 0', layout=Layout(flex='2'), max=29…"
      ]
     },
     "metadata": {},
     "output_type": "display_data"
    },
    {
     "name": "stdout",
     "output_type": "stream",
     "text": [
      "\r"
     ]
    },
    {
     "data": {
      "application/vnd.jupyter.widget-view+json": {
       "model_id": "",
       "version_major": 2,
       "version_minor": 0
      },
      "text/plain": [
       "HBox(children=(IntProgress(value=0, description='Epoch-2, Current Metric - 0.10795454545454546', layout=Layout…"
      ]
     },
     "metadata": {},
     "output_type": "display_data"
    },
    {
     "name": "stdout",
     "output_type": "stream",
     "text": [
      "\r"
     ]
    },
    {
     "data": {
      "application/vnd.jupyter.widget-view+json": {
       "model_id": "",
       "version_major": 2,
       "version_minor": 0
      },
      "text/plain": [
       "HBox(children=(IntProgress(value=0, description='Epoch-3, Current Metric - 0.07954545454545454', layout=Layout…"
      ]
     },
     "metadata": {},
     "output_type": "display_data"
    },
    {
     "name": "stdout",
     "output_type": "stream",
     "text": [
      "\r"
     ]
    },
    {
     "data": {
      "application/vnd.jupyter.widget-view+json": {
       "model_id": "",
       "version_major": 2,
       "version_minor": 0
      },
      "text/plain": [
       "HBox(children=(IntProgress(value=0, description='Epoch-4, Current Metric - 0.17045454545454544', layout=Layout…"
      ]
     },
     "metadata": {},
     "output_type": "display_data"
    },
    {
     "name": "stdout",
     "output_type": "stream",
     "text": [
      "\r"
     ]
    },
    {
     "data": {
      "application/vnd.jupyter.widget-view+json": {
       "model_id": "",
       "version_major": 2,
       "version_minor": 0
      },
      "text/plain": [
       "HBox(children=(IntProgress(value=0, description='Epoch-5, Current Metric - 0.23863636363636365', layout=Layout…"
      ]
     },
     "metadata": {},
     "output_type": "display_data"
    },
    {
     "name": "stdout",
     "output_type": "stream",
     "text": [
      "\r"
     ]
    },
    {
     "data": {
      "application/vnd.jupyter.widget-view+json": {
       "model_id": "",
       "version_major": 2,
       "version_minor": 0
      },
      "text/plain": [
       "HBox(children=(IntProgress(value=0, description='Epoch-6, Current Metric - 0.1875', layout=Layout(flex='2'), m…"
      ]
     },
     "metadata": {},
     "output_type": "display_data"
    },
    {
     "name": "stdout",
     "output_type": "stream",
     "text": [
      "\r"
     ]
    },
    {
     "data": {
      "application/vnd.jupyter.widget-view+json": {
       "model_id": "",
       "version_major": 2,
       "version_minor": 0
      },
      "text/plain": [
       "HBox(children=(IntProgress(value=0, description='Epoch-7, Current Metric - 0.08522727272727272', layout=Layout…"
      ]
     },
     "metadata": {},
     "output_type": "display_data"
    },
    {
     "name": "stdout",
     "output_type": "stream",
     "text": [
      "\r"
     ]
    },
    {
     "data": {
      "application/vnd.jupyter.widget-view+json": {
       "model_id": "",
       "version_major": 2,
       "version_minor": 0
      },
      "text/plain": [
       "HBox(children=(IntProgress(value=0, description='Epoch-8, Current Metric - 0.13636363636363635', layout=Layout…"
      ]
     },
     "metadata": {},
     "output_type": "display_data"
    },
    {
     "name": "stdout",
     "output_type": "stream",
     "text": [
      "\r"
     ]
    },
    {
     "data": {
      "application/vnd.jupyter.widget-view+json": {
       "model_id": "",
       "version_major": 2,
       "version_minor": 0
      },
      "text/plain": [
       "HBox(children=(IntProgress(value=0, description='Epoch-9, Current Metric - 0.2215909090909091', layout=Layout(…"
      ]
     },
     "metadata": {},
     "output_type": "display_data"
    },
    {
     "name": "stdout",
     "output_type": "stream",
     "text": [
      "\r"
     ]
    },
    {
     "data": {
      "application/vnd.jupyter.widget-view+json": {
       "model_id": "",
       "version_major": 2,
       "version_minor": 0
      },
      "text/plain": [
       "HBox(children=(IntProgress(value=0, description='Epoch-10, Current Metric - 0.20454545454545456', layout=Layou…"
      ]
     },
     "metadata": {},
     "output_type": "display_data"
    },
    {
     "name": "stdout",
     "output_type": "stream",
     "text": [
      "\r"
     ]
    },
    {
     "data": {
      "application/vnd.jupyter.widget-view+json": {
       "model_id": "",
       "version_major": 2,
       "version_minor": 0
      },
      "text/plain": [
       "HBox(children=(IntProgress(value=0, description='Epoch-11, Current Metric - 0.22727272727272727', layout=Layou…"
      ]
     },
     "metadata": {},
     "output_type": "display_data"
    },
    {
     "name": "stdout",
     "output_type": "stream",
     "text": [
      "\r"
     ]
    },
    {
     "data": {
      "application/vnd.jupyter.widget-view+json": {
       "model_id": "",
       "version_major": 2,
       "version_minor": 0
      },
      "text/plain": [
       "HBox(children=(IntProgress(value=0, description='Epoch-12, Current Metric - 0.13636363636363635', layout=Layou…"
      ]
     },
     "metadata": {},
     "output_type": "display_data"
    },
    {
     "name": "stdout",
     "output_type": "stream",
     "text": [
      "\r"
     ]
    },
    {
     "data": {
      "application/vnd.jupyter.widget-view+json": {
       "model_id": "",
       "version_major": 2,
       "version_minor": 0
      },
      "text/plain": [
       "HBox(children=(IntProgress(value=0, description='Epoch-13, Current Metric - 0.23863636363636365', layout=Layou…"
      ]
     },
     "metadata": {},
     "output_type": "display_data"
    },
    {
     "name": "stdout",
     "output_type": "stream",
     "text": [
      "\r"
     ]
    },
    {
     "data": {
      "application/vnd.jupyter.widget-view+json": {
       "model_id": "",
       "version_major": 2,
       "version_minor": 0
      },
      "text/plain": [
       "HBox(children=(IntProgress(value=0, description='Epoch-14, Current Metric - 0.21022727272727273', layout=Layou…"
      ]
     },
     "metadata": {},
     "output_type": "display_data"
    },
    {
     "name": "stdout",
     "output_type": "stream",
     "text": [
      "\r"
     ]
    },
    {
     "data": {
      "application/vnd.jupyter.widget-view+json": {
       "model_id": "",
       "version_major": 2,
       "version_minor": 0
      },
      "text/plain": [
       "HBox(children=(IntProgress(value=0, description='Epoch-15, Current Metric - 0.32386363636363635', layout=Layou…"
      ]
     },
     "metadata": {},
     "output_type": "display_data"
    },
    {
     "name": "stdout",
     "output_type": "stream",
     "text": [
      "\r"
     ]
    },
    {
     "data": {
      "application/vnd.jupyter.widget-view+json": {
       "model_id": "",
       "version_major": 2,
       "version_minor": 0
      },
      "text/plain": [
       "HBox(children=(IntProgress(value=0, description='Epoch-16, Current Metric - 0.17613636363636365', layout=Layou…"
      ]
     },
     "metadata": {},
     "output_type": "display_data"
    },
    {
     "name": "stdout",
     "output_type": "stream",
     "text": [
      "\r"
     ]
    },
    {
     "data": {
      "application/vnd.jupyter.widget-view+json": {
       "model_id": "",
       "version_major": 2,
       "version_minor": 0
      },
      "text/plain": [
       "HBox(children=(IntProgress(value=0, description='Epoch-17, Current Metric - 0.21022727272727273', layout=Layou…"
      ]
     },
     "metadata": {},
     "output_type": "display_data"
    },
    {
     "name": "stdout",
     "output_type": "stream",
     "text": [
      "\r"
     ]
    },
    {
     "data": {
      "application/vnd.jupyter.widget-view+json": {
       "model_id": "",
       "version_major": 2,
       "version_minor": 0
      },
      "text/plain": [
       "HBox(children=(IntProgress(value=0, description='Epoch-18, Current Metric - 0.1590909090909091', layout=Layout…"
      ]
     },
     "metadata": {},
     "output_type": "display_data"
    },
    {
     "name": "stdout",
     "output_type": "stream",
     "text": [
      "\r"
     ]
    },
    {
     "data": {
      "application/vnd.jupyter.widget-view+json": {
       "model_id": "",
       "version_major": 2,
       "version_minor": 0
      },
      "text/plain": [
       "HBox(children=(IntProgress(value=0, description='Epoch-19, Current Metric - 0.14772727272727273', layout=Layou…"
      ]
     },
     "metadata": {},
     "output_type": "display_data"
    },
    {
     "name": "stdout",
     "output_type": "stream",
     "text": [
      "\r"
     ]
    },
    {
     "data": {
      "application/vnd.jupyter.widget-view+json": {
       "model_id": "",
       "version_major": 2,
       "version_minor": 0
      },
      "text/plain": [
       "HBox(children=(IntProgress(value=0, description='Epoch-20, Current Metric - 0.2215909090909091', layout=Layout…"
      ]
     },
     "metadata": {},
     "output_type": "display_data"
    },
    {
     "name": "stdout",
     "output_type": "stream",
     "text": [
      "\r"
     ]
    },
    {
     "data": {
      "application/vnd.jupyter.widget-view+json": {
       "model_id": "",
       "version_major": 2,
       "version_minor": 0
      },
      "text/plain": [
       "HBox(children=(IntProgress(value=0, description='Epoch-21, Current Metric - 0.19886363636363635', layout=Layou…"
      ]
     },
     "metadata": {},
     "output_type": "display_data"
    },
    {
     "name": "stdout",
     "output_type": "stream",
     "text": [
      "\r"
     ]
    },
    {
     "data": {
      "application/vnd.jupyter.widget-view+json": {
       "model_id": "",
       "version_major": 2,
       "version_minor": 0
      },
      "text/plain": [
       "HBox(children=(IntProgress(value=0, description='Epoch-22, Current Metric - 0.17613636363636365', layout=Layou…"
      ]
     },
     "metadata": {},
     "output_type": "display_data"
    },
    {
     "name": "stdout",
     "output_type": "stream",
     "text": [
      "\r"
     ]
    },
    {
     "data": {
      "application/vnd.jupyter.widget-view+json": {
       "model_id": "",
       "version_major": 2,
       "version_minor": 0
      },
      "text/plain": [
       "HBox(children=(IntProgress(value=0, description='Epoch-23, Current Metric - 0.1590909090909091', layout=Layout…"
      ]
     },
     "metadata": {},
     "output_type": "display_data"
    },
    {
     "name": "stdout",
     "output_type": "stream",
     "text": [
      "\r"
     ]
    },
    {
     "data": {
      "application/vnd.jupyter.widget-view+json": {
       "model_id": "",
       "version_major": 2,
       "version_minor": 0
      },
      "text/plain": [
       "HBox(children=(IntProgress(value=0, description='Epoch-24, Current Metric - 0.20454545454545456', layout=Layou…"
      ]
     },
     "metadata": {},
     "output_type": "display_data"
    },
    {
     "name": "stdout",
     "output_type": "stream",
     "text": [
      "\r"
     ]
    },
    {
     "data": {
      "application/vnd.jupyter.widget-view+json": {
       "model_id": "",
       "version_major": 2,
       "version_minor": 0
      },
      "text/plain": [
       "HBox(children=(IntProgress(value=0, description='Epoch-25, Current Metric - 0.07954545454545454', layout=Layou…"
      ]
     },
     "metadata": {},
     "output_type": "display_data"
    },
    {
     "name": "stdout",
     "output_type": "stream",
     "text": [
      "\r"
     ]
    },
    {
     "data": {
      "application/vnd.jupyter.widget-view+json": {
       "model_id": "",
       "version_major": 2,
       "version_minor": 0
      },
      "text/plain": [
       "HBox(children=(IntProgress(value=0, description='Epoch-26, Current Metric - 0.1534090909090909', layout=Layout…"
      ]
     },
     "metadata": {},
     "output_type": "display_data"
    },
    {
     "name": "stdout",
     "output_type": "stream",
     "text": [
      "\r"
     ]
    },
    {
     "data": {
      "application/vnd.jupyter.widget-view+json": {
       "model_id": "",
       "version_major": 2,
       "version_minor": 0
      },
      "text/plain": [
       "HBox(children=(IntProgress(value=0, description='Epoch-27, Current Metric - 0.07954545454545454', layout=Layou…"
      ]
     },
     "metadata": {},
     "output_type": "display_data"
    },
    {
     "name": "stdout",
     "output_type": "stream",
     "text": [
      "\r"
     ]
    },
    {
     "data": {
      "application/vnd.jupyter.widget-view+json": {
       "model_id": "",
       "version_major": 2,
       "version_minor": 0
      },
      "text/plain": [
       "HBox(children=(IntProgress(value=0, description='Epoch-28, Current Metric - 0.09659090909090909', layout=Layou…"
      ]
     },
     "metadata": {},
     "output_type": "display_data"
    },
    {
     "name": "stdout",
     "output_type": "stream",
     "text": [
      "\r"
     ]
    },
    {
     "data": {
      "application/vnd.jupyter.widget-view+json": {
       "model_id": "",
       "version_major": 2,
       "version_minor": 0
      },
      "text/plain": [
       "HBox(children=(IntProgress(value=0, description='Epoch-29, Current Metric - 0.2215909090909091', layout=Layout…"
      ]
     },
     "metadata": {},
     "output_type": "display_data"
    },
    {
     "name": "stdout",
     "output_type": "stream",
     "text": [
      "\r"
     ]
    },
    {
     "data": {
      "application/vnd.jupyter.widget-view+json": {
       "model_id": "",
       "version_major": 2,
       "version_minor": 0
      },
      "text/plain": [
       "HBox(children=(IntProgress(value=0, description='Epoch-30, Current Metric - 0.23863636363636365', layout=Layou…"
      ]
     },
     "metadata": {},
     "output_type": "display_data"
    },
    {
     "name": "stdout",
     "output_type": "stream",
     "text": [
      "\r"
     ]
    },
    {
     "data": {
      "application/vnd.jupyter.widget-view+json": {
       "model_id": "",
       "version_major": 2,
       "version_minor": 0
      },
      "text/plain": [
       "HBox(children=(IntProgress(value=0, description='Epoch-31, Current Metric - 0.08522727272727272', layout=Layou…"
      ]
     },
     "metadata": {},
     "output_type": "display_data"
    },
    {
     "name": "stdout",
     "output_type": "stream",
     "text": [
      "\r"
     ]
    },
    {
     "data": {
      "application/vnd.jupyter.widget-view+json": {
       "model_id": "",
       "version_major": 2,
       "version_minor": 0
      },
      "text/plain": [
       "HBox(children=(IntProgress(value=0, description='Epoch-32, Current Metric - 0.06818181818181818', layout=Layou…"
      ]
     },
     "metadata": {},
     "output_type": "display_data"
    },
    {
     "name": "stdout",
     "output_type": "stream",
     "text": [
      "\r"
     ]
    },
    {
     "data": {
      "application/vnd.jupyter.widget-view+json": {
       "model_id": "",
       "version_major": 2,
       "version_minor": 0
      },
      "text/plain": [
       "HBox(children=(IntProgress(value=0, description='Epoch-33, Current Metric - 0.125', layout=Layout(flex='2'), m…"
      ]
     },
     "metadata": {},
     "output_type": "display_data"
    },
    {
     "name": "stdout",
     "output_type": "stream",
     "text": [
      "\r"
     ]
    },
    {
     "data": {
      "application/vnd.jupyter.widget-view+json": {
       "model_id": "",
       "version_major": 2,
       "version_minor": 0
      },
      "text/plain": [
       "HBox(children=(IntProgress(value=0, description='Epoch-34, Current Metric - 0.17045454545454544', layout=Layou…"
      ]
     },
     "metadata": {},
     "output_type": "display_data"
    },
    {
     "name": "stdout",
     "output_type": "stream",
     "text": [
      "\r"
     ]
    },
    {
     "data": {
      "application/vnd.jupyter.widget-view+json": {
       "model_id": "",
       "version_major": 2,
       "version_minor": 0
      },
      "text/plain": [
       "HBox(children=(IntProgress(value=0, description='Epoch-35, Current Metric - 0.10227272727272728', layout=Layou…"
      ]
     },
     "metadata": {},
     "output_type": "display_data"
    },
    {
     "name": "stdout",
     "output_type": "stream",
     "text": [
      "\r"
     ]
    },
    {
     "data": {
      "application/vnd.jupyter.widget-view+json": {
       "model_id": "",
       "version_major": 2,
       "version_minor": 0
      },
      "text/plain": [
       "HBox(children=(IntProgress(value=0, description='Epoch-36, Current Metric - 0.10795454545454546', layout=Layou…"
      ]
     },
     "metadata": {},
     "output_type": "display_data"
    },
    {
     "name": "stdout",
     "output_type": "stream",
     "text": [
      "\r"
     ]
    },
    {
     "data": {
      "application/vnd.jupyter.widget-view+json": {
       "model_id": "",
       "version_major": 2,
       "version_minor": 0
      },
      "text/plain": [
       "HBox(children=(IntProgress(value=0, description='Epoch-37, Current Metric - 0.09659090909090909', layout=Layou…"
      ]
     },
     "metadata": {},
     "output_type": "display_data"
    },
    {
     "name": "stdout",
     "output_type": "stream",
     "text": [
      "\r"
     ]
    },
    {
     "data": {
      "application/vnd.jupyter.widget-view+json": {
       "model_id": "",
       "version_major": 2,
       "version_minor": 0
      },
      "text/plain": [
       "HBox(children=(IntProgress(value=0, description='Epoch-38, Current Metric - 0.11363636363636363', layout=Layou…"
      ]
     },
     "metadata": {},
     "output_type": "display_data"
    },
    {
     "name": "stdout",
     "output_type": "stream",
     "text": [
      "\r"
     ]
    },
    {
     "data": {
      "application/vnd.jupyter.widget-view+json": {
       "model_id": "",
       "version_major": 2,
       "version_minor": 0
      },
      "text/plain": [
       "HBox(children=(IntProgress(value=0, description='Epoch-39, Current Metric - 0.16477272727272727', layout=Layou…"
      ]
     },
     "metadata": {},
     "output_type": "display_data"
    },
    {
     "name": "stdout",
     "output_type": "stream",
     "text": [
      "\r"
     ]
    },
    {
     "data": {
      "application/vnd.jupyter.widget-view+json": {
       "model_id": "",
       "version_major": 2,
       "version_minor": 0
      },
      "text/plain": [
       "HBox(children=(IntProgress(value=0, description='Epoch-40, Current Metric - 0.26136363636363635', layout=Layou…"
      ]
     },
     "metadata": {},
     "output_type": "display_data"
    },
    {
     "name": "stdout",
     "output_type": "stream",
     "text": [
      "\r"
     ]
    },
    {
     "data": {
      "application/vnd.jupyter.widget-view+json": {
       "model_id": "",
       "version_major": 2,
       "version_minor": 0
      },
      "text/plain": [
       "HBox(children=(IntProgress(value=0, description='Epoch-41, Current Metric - 0.14772727272727273', layout=Layou…"
      ]
     },
     "metadata": {},
     "output_type": "display_data"
    },
    {
     "name": "stdout",
     "output_type": "stream",
     "text": [
      "\r"
     ]
    },
    {
     "data": {
      "application/vnd.jupyter.widget-view+json": {
       "model_id": "",
       "version_major": 2,
       "version_minor": 0
      },
      "text/plain": [
       "HBox(children=(IntProgress(value=0, description='Epoch-42, Current Metric - 0.2727272727272727', layout=Layout…"
      ]
     },
     "metadata": {},
     "output_type": "display_data"
    },
    {
     "name": "stdout",
     "output_type": "stream",
     "text": [
      "\r"
     ]
    },
    {
     "data": {
      "application/vnd.jupyter.widget-view+json": {
       "model_id": "",
       "version_major": 2,
       "version_minor": 0
      },
      "text/plain": [
       "HBox(children=(IntProgress(value=0, description='Epoch-43, Current Metric - 0.13068181818181818', layout=Layou…"
      ]
     },
     "metadata": {},
     "output_type": "display_data"
    },
    {
     "name": "stdout",
     "output_type": "stream",
     "text": [
      "\r"
     ]
    },
    {
     "data": {
      "application/vnd.jupyter.widget-view+json": {
       "model_id": "",
       "version_major": 2,
       "version_minor": 0
      },
      "text/plain": [
       "HBox(children=(IntProgress(value=0, description='Epoch-44, Current Metric - 0.23295454545454544', layout=Layou…"
      ]
     },
     "metadata": {},
     "output_type": "display_data"
    },
    {
     "name": "stdout",
     "output_type": "stream",
     "text": [
      "\r"
     ]
    },
    {
     "data": {
      "application/vnd.jupyter.widget-view+json": {
       "model_id": "",
       "version_major": 2,
       "version_minor": 0
      },
      "text/plain": [
       "HBox(children=(IntProgress(value=0, description='Epoch-45, Current Metric - 0.07954545454545454', layout=Layou…"
      ]
     },
     "metadata": {},
     "output_type": "display_data"
    },
    {
     "name": "stdout",
     "output_type": "stream",
     "text": [
      "\r"
     ]
    },
    {
     "data": {
      "application/vnd.jupyter.widget-view+json": {
       "model_id": "",
       "version_major": 2,
       "version_minor": 0
      },
      "text/plain": [
       "HBox(children=(IntProgress(value=0, description='Epoch-46, Current Metric - 0.06818181818181818', layout=Layou…"
      ]
     },
     "metadata": {},
     "output_type": "display_data"
    },
    {
     "name": "stdout",
     "output_type": "stream",
     "text": [
      "\n",
      "No loss decrease after 30 epochs.\n",
      "\n",
      "32.38636363636363\n"
     ]
    }
   ],
   "source": [
    "clf.final_fit(x_train, y_train, x_test, y_test, retrain=True)"
   ]
  },
  {
   "cell_type": "code",
   "execution_count": null,
   "metadata": {},
   "outputs": [],
   "source": [
    "# from keras.datasets import mnist\n",
    "\n",
    "# (x_train, y_train), (x_test, y_test) = mnist.load_data()\n",
    "# print(\"{} {}\".format(x_train.shape, y_train.shape))\n",
    "\n",
    "# x_train = x_train.reshape(x_train.shape + (1,))\n",
    "# print(\"{} {}\".format(x_train.shape, y_train.shape))\n",
    "# x_test = x_test.reshape(x_test.shape + (1,))\n",
    "# #clf = autokeras.ImageClassifier(verbose=True, augment=False)\n",
    "\n",
    "# clf = autokeras.ImageClassifier(verbose=True, augment=False)\n",
    "# clf.fit(x_train, y_train, time_limit=12 * 60 * 60)\n",
    "# clf.final_fit(x_train, y_train, x_test, y_test, retrain=True)\n",
    "# y = clf.evaluate(x_test, y_test)\n",
    "# print(y * 100)"
   ]
  },
  {
   "cell_type": "code",
   "execution_count": null,
   "metadata": {},
   "outputs": [],
   "source": []
  }
 ],
 "metadata": {
  "kernelspec": {
   "display_name": "dl4swift",
   "language": "python",
   "name": "dl4swift"
  },
  "language_info": {
   "codemirror_mode": {
    "name": "ipython",
    "version": 3
   },
   "file_extension": ".py",
   "mimetype": "text/x-python",
   "name": "python",
   "nbconvert_exporter": "python",
   "pygments_lexer": "ipython3",
   "version": "3.6.5"
  }
 },
 "nbformat": 4,
 "nbformat_minor": 2
}
