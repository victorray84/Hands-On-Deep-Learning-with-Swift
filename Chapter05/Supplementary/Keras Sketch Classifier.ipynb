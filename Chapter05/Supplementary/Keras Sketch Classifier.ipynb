{
 "cells": [
  {
   "cell_type": "markdown",
   "metadata": {},
   "source": [
    "# Hands-On Deep Learning with Swift\n",
    "**By:** Joshua Newnham (Author)  \n",
    "**Publisher:** [Packt Publishing](https://www.packtpub.com/big-data-and-business-intelligence/machine-learning-core-ml)"
   ]
  },
  {
   "cell_type": "markdown",
   "metadata": {},
   "source": [
    "## Chapter 05 - Sketch Classifier\n",
    "In this notepad we build, train and export the weights of a convolutional neural network for the purposes of sketch recognition. \n",
    "\n",
    "We use the dataset from the paper <a href='http://cybertron.cg.tu-berlin.de/eitz/projects/classifysketch/'>How Do Humans Sketch Objects?</a> where the authors collected 20,000 unique sketches evenly distributed over 250 object categories - we will use a CNN (using Keras) to classify a sketch. \n",
    "\n",
    "<img src='images/sketch_examples.jpg' />"
   ]
  },
  {
   "cell_type": "markdown",
   "metadata": {},
   "source": [
    "We use this notebook (and Keras) to rapidly prototype networks to come up with something we can transfer to MPS; we constrain ourselves to barriers/obstacles faced within MPS (such as being constrained to a small batch size) to find a model that will *satisfactory* classify hand drawn sketches (we define *satisfactory* as a classifier achieving approx. 60% accuracy on the validation set).\n",
    "\n",
    "For the purposes of debugging the network in MPS we export the weights and compare classification results between Keras and MPS (sanity check). "
   ]
  },
  {
   "cell_type": "code",
   "execution_count": 2,
   "metadata": {},
   "outputs": [],
   "source": [
    "import numpy as np \n",
    "import tensorflow as tf\n",
    "import os "
   ]
  },
  {
   "cell_type": "markdown",
   "metadata": {},
   "source": [
    "## Define constants and helper functions "
   ]
  },
  {
   "cell_type": "code",
   "execution_count": 28,
   "metadata": {},
   "outputs": [],
   "source": [
    "# Directory where the preprocessed sketches reside (output from running the script preprocess_sketch_images.py\n",
    "# on the original dataset)\n",
    "ROOT_DIR = '/Users/joshua.newnham/Documents/Shared Playground Data/Sketches/preprocessed/'\n",
    "# Subdirectory where the validation images reside \n",
    "VALID_DIR = os.path.join(ROOT_DIR, \"valid\")\n",
    "# Subdirectory where the training images reside \n",
    "TRAIN_DIR = os.path.join(ROOT_DIR, \"train\")\n",
    "# Exported weights \n",
    "WEIGHTS_FILE = \"sketch_classifier.h5\"\n",
    "\n",
    "# Target image size \n",
    "TARGET_SIZE = (128,128)\n",
    "# Input shape into our network \n",
    "INPUT_SHAPE = (128,128,1)\n",
    "# Number of classes we are classifying\n",
    "NUM_CLASSES = 22"
   ]
  },
  {
   "cell_type": "code",
   "execution_count": 30,
   "metadata": {},
   "outputs": [],
   "source": [
    "def count_files(full_path):\n",
    "    \"\"\"\n",
    "    Recursively count the number of files within the specified directory \n",
    "    \"\"\"\n",
    "    count = 0 \n",
    "    def is_image(file_path):\n",
    "        image_extensions = ['png', 'jpg', 'jpeg']\n",
    "        \n",
    "        for image_extension in image_extensions:\n",
    "            if image_extension in file_path.lower():\n",
    "                return True\n",
    "            \n",
    "        return False \n",
    "    \n",
    "    for d in os.listdir(full_path):\n",
    "        if not os.path.isdir(os.path.join(full_path, d)):\n",
    "            continue\n",
    "            \n",
    "        sub_full_path = os.path.join(full_path, d)\n",
    "        \n",
    "        for f in os.listdir(sub_full_path):\n",
    "            img_path = os.path.join(sub_full_path, f)\n",
    "            if os.path.isfile(img_path) and is_image(img_path):\n",
    "                count += 1\n",
    "            \n",
    "    return count"
   ]
  },
  {
   "cell_type": "code",
   "execution_count": 5,
   "metadata": {},
   "outputs": [],
   "source": [
    "NUM_TRAIN_FILES = count_files(TRAIN_DIR)\n",
    "NUM_VALID_FILES = count_files(VALID_DIR)"
   ]
  },
  {
   "cell_type": "code",
   "execution_count": 31,
   "metadata": {},
   "outputs": [],
   "source": [
    "def train(model):\n",
    "    \"\"\"\n",
    "    Function to handle the training given a valid model; \n",
    "    Creates the train and validation generators along with \n",
    "    early stopping and checkpoints. \n",
    "    \n",
    "    Returns the training history and trained model \n",
    "    \"\"\"\n",
    "    datagen = tf.keras.preprocessing.image.ImageDataGenerator(rescale=1./255.)\n",
    "    \n",
    "    # create an iterator for the training data \n",
    "    train_generator = datagen.flow_from_directory(\n",
    "        TRAIN_DIR,\n",
    "        target_size=TARGET_SIZE,\n",
    "        batch_size=BATCH_SIZE, \n",
    "        color_mode='grayscale')\n",
    "    \n",
    "    # create an iterator for the validation data \n",
    "    validation_generator = datagen.flow_from_directory(\n",
    "        VALID_DIR,\n",
    "        target_size=TARGET_SIZE,\n",
    "        batch_size=BATCH_SIZE, \n",
    "        color_mode='grayscale')\n",
    "    \n",
    "    checkpoint = tf.keras.callbacks.ModelCheckpoint(WEIGHTS_FILE, \n",
    "                                           monitor='val_loss', \n",
    "                                           verbose=0, \n",
    "                                           save_best_only=True, \n",
    "                                           save_weights_only=True, \n",
    "                                           mode='auto', \n",
    "                                           period=2)\n",
    "    \n",
    "    early_stopping = tf.keras.callbacks.EarlyStopping(monitor='val_loss', patience=5)\n",
    "    \n",
    "    history = model.fit_generator(\n",
    "        train_generator,\n",
    "        steps_per_epoch=int(NUM_TRAIN_FILES/BATCH_SIZE),\n",
    "        epochs=EPOCHS,\n",
    "        validation_data=validation_generator,\n",
    "        validation_steps=int(NUM_VALID_FILES/BATCH_SIZE), \n",
    "        callbacks=[checkpoint, early_stopping]) \n",
    "    \n",
    "    return history, model "
   ]
  },
  {
   "cell_type": "code",
   "execution_count": 32,
   "metadata": {},
   "outputs": [],
   "source": [
    "def validate_model(model):\n",
    "    \"\"\"\n",
    "    Handle validating the model using the validation dataset; \n",
    "    returns the score \n",
    "    \"\"\"\n",
    "    datagen = tf.keras.preprocessing.image.ImageDataGenerator(rescale=1./255.)\n",
    "    \n",
    "    # create an iterator for the validation data \n",
    "    validation_generator = datagen.flow_from_directory(\n",
    "        VALID_DIR,\n",
    "        target_size=TARGET_SIZE,\n",
    "        batch_size=BATCH_SIZE, \n",
    "        color_mode='grayscale')\n",
    "    \n",
    "    score = model.evaluate_generator(validation_generator)\n",
    "    \n",
    "    return score "
   ]
  },
  {
   "cell_type": "markdown",
   "metadata": {},
   "source": [
    "---"
   ]
  },
  {
   "cell_type": "markdown",
   "metadata": {},
   "source": [
    "## Create and train model "
   ]
  },
  {
   "cell_type": "code",
   "execution_count": 33,
   "metadata": {},
   "outputs": [],
   "source": [
    "# Hyperparameters \n",
    "\n",
    "TARGET_SIZE = (128,128)\n",
    "INPUT_SHAPE = (128,128,1)\n",
    "NUM_CLASSES = 22\n",
    "\n",
    "EPOCHS = 1000 \n",
    "BATCH_SIZE = 4"
   ]
  },
  {
   "cell_type": "code",
   "execution_count": 9,
   "metadata": {},
   "outputs": [],
   "source": [
    "def create_model():\n",
    "    \"\"\"\n",
    "\n",
    "    \"\"\"\n",
    "    model = tf.keras.models.Sequential() \n",
    "    \n",
    "    model.add(tf.keras.layers.Conv2D(32, \n",
    "                                     kernel_size=(7,7), \n",
    "                                     strides=(2,2),  \n",
    "                                     padding='same',                                       \n",
    "                                     activation=None, \n",
    "                                     input_shape=INPUT_SHAPE, \n",
    "                                     name='l1'))    \n",
    "    model.add(tf.keras.layers.Activation('relu'))           \n",
    "    model.add(tf.keras.layers.Dropout(0.3))\n",
    "    \n",
    "    model.add(tf.keras.layers.Conv2D(32, \n",
    "                                     kernel_size=(5,5),\n",
    "                                     strides=(1,1),  \n",
    "                                     padding='same', \n",
    "                                     activation=None, \n",
    "                                     name='l2'))            \n",
    "    model.add(tf.keras.layers.MaxPool2D(2,2))\n",
    "    model.add(tf.keras.layers.Activation('relu'))\n",
    "    \n",
    "    model.add(tf.keras.layers.Conv2D(32, \n",
    "                                     kernel_size=(5,5),\n",
    "                                     strides=(1,1),  \n",
    "                                     padding='same', \n",
    "                                     activation=None, \n",
    "                                     name='l3'))            \n",
    "    model.add(tf.keras.layers.MaxPool2D(2,2))\n",
    "    model.add(tf.keras.layers.Activation('relu'))\n",
    "    model.add(tf.keras.layers.Dropout(0.3))\n",
    "    \n",
    "    model.add(tf.keras.layers.Conv2D(32, \n",
    "                                     kernel_size=(5,5),\n",
    "                                     strides=(1,1),  \n",
    "                                     padding='same', \n",
    "                                     activation=None, \n",
    "                                     name='l4'))        \n",
    "    model.add(tf.keras.layers.Activation('relu'))\n",
    "    model.add(tf.keras.layers.MaxPool2D(2,2))        \n",
    "    model.add(tf.keras.layers.Dropout(0.3)) \n",
    "    \n",
    "    model.add(tf.keras.layers.Flatten())      \n",
    "    \n",
    "    model.add(tf.keras.layers.Dense(64, activation=None, name='l5'))    \n",
    "    model.add(tf.keras.layers.Activation('relu'))    \n",
    "    model.add(tf.keras.layers.Dropout(0.3))    \n",
    "        \n",
    "    model.add(tf.keras.layers.Dense(NUM_CLASSES, activation=None, name='l6'))\n",
    "    model.add(tf.keras.layers.Activation('softmax', name=\"output\"))\n",
    "    \n",
    "    model.compile(\n",
    "        loss='categorical_crossentropy', \n",
    "        optimizer=tf.keras.optimizers.SGD(lr=0.01), \n",
    "        metrics=['accuracy']) \n",
    "    \n",
    "    return model "
   ]
  },
  {
   "cell_type": "code",
   "execution_count": 10,
   "metadata": {},
   "outputs": [
    {
     "name": "stdout",
     "output_type": "stream",
     "text": [
      "_________________________________________________________________\n",
      "Layer (type)                 Output Shape              Param #   \n",
      "=================================================================\n",
      "l1 (Conv2D)                  (None, 64, 64, 32)        1600      \n",
      "_________________________________________________________________\n",
      "activation (Activation)      (None, 64, 64, 32)        0         \n",
      "_________________________________________________________________\n",
      "dropout (Dropout)            (None, 64, 64, 32)        0         \n",
      "_________________________________________________________________\n",
      "l2 (Conv2D)                  (None, 64, 64, 32)        25632     \n",
      "_________________________________________________________________\n",
      "max_pooling2d (MaxPooling2D) (None, 32, 32, 32)        0         \n",
      "_________________________________________________________________\n",
      "activation_1 (Activation)    (None, 32, 32, 32)        0         \n",
      "_________________________________________________________________\n",
      "l3 (Conv2D)                  (None, 32, 32, 32)        25632     \n",
      "_________________________________________________________________\n",
      "max_pooling2d_1 (MaxPooling2 (None, 16, 16, 32)        0         \n",
      "_________________________________________________________________\n",
      "activation_2 (Activation)    (None, 16, 16, 32)        0         \n",
      "_________________________________________________________________\n",
      "dropout_1 (Dropout)          (None, 16, 16, 32)        0         \n",
      "_________________________________________________________________\n",
      "l4 (Conv2D)                  (None, 16, 16, 32)        25632     \n",
      "_________________________________________________________________\n",
      "activation_3 (Activation)    (None, 16, 16, 32)        0         \n",
      "_________________________________________________________________\n",
      "max_pooling2d_2 (MaxPooling2 (None, 8, 8, 32)          0         \n",
      "_________________________________________________________________\n",
      "dropout_2 (Dropout)          (None, 8, 8, 32)          0         \n",
      "_________________________________________________________________\n",
      "flatten (Flatten)            (None, 2048)              0         \n",
      "_________________________________________________________________\n",
      "l5 (Dense)                   (None, 64)                131136    \n",
      "_________________________________________________________________\n",
      "activation_4 (Activation)    (None, 64)                0         \n",
      "_________________________________________________________________\n",
      "dropout_3 (Dropout)          (None, 64)                0         \n",
      "_________________________________________________________________\n",
      "l6 (Dense)                   (None, 22)                1430      \n",
      "_________________________________________________________________\n",
      "output (Activation)          (None, 22)                0         \n",
      "=================================================================\n",
      "Total params: 211,062\n",
      "Trainable params: 211,062\n",
      "Non-trainable params: 0\n",
      "_________________________________________________________________\n"
     ]
    }
   ],
   "source": [
    "model = create_model() \n",
    "model.summary()"
   ]
  },
  {
   "cell_type": "code",
   "execution_count": 11,
   "metadata": {},
   "outputs": [
    {
     "name": "stdout",
     "output_type": "stream",
     "text": [
      "Found 2844 images belonging to 22 classes.\n",
      "Found 176 images belonging to 22 classes.\n",
      "Epoch 1/1000\n",
      "711/711 [==============================] - 44s 62ms/step - loss: 3.0878 - acc: 0.0489 - val_loss: 3.0585 - val_acc: 0.1023\n",
      "Epoch 2/1000\n",
      "711/711 [==============================] - 43s 61ms/step - loss: 2.8799 - acc: 0.1213 - val_loss: 2.5609 - val_acc: 0.2557\n",
      "Epoch 3/1000\n",
      "711/711 [==============================] - 44s 62ms/step - loss: 2.5441 - acc: 0.2201 - val_loss: 2.2478 - val_acc: 0.3523\n",
      "Epoch 4/1000\n",
      "711/711 [==============================] - 35s 49ms/step - loss: 2.2611 - acc: 0.3119 - val_loss: 1.9418 - val_acc: 0.4489\n",
      "Epoch 5/1000\n",
      "711/711 [==============================] - 33s 47ms/step - loss: 2.0837 - acc: 0.3625 - val_loss: 1.7817 - val_acc: 0.5114\n",
      "Epoch 6/1000\n",
      "711/711 [==============================] - 34s 47ms/step - loss: 1.9059 - acc: 0.4153 - val_loss: 1.7432 - val_acc: 0.5114\n",
      "Epoch 7/1000\n",
      "711/711 [==============================] - 33s 47ms/step - loss: 1.7598 - acc: 0.4508 - val_loss: 1.6452 - val_acc: 0.5398\n",
      "Epoch 8/1000\n",
      "711/711 [==============================] - 33s 47ms/step - loss: 1.6574 - acc: 0.4838 - val_loss: 1.5648 - val_acc: 0.5966\n",
      "Epoch 9/1000\n",
      "711/711 [==============================] - 34s 48ms/step - loss: 1.5632 - acc: 0.5165 - val_loss: 1.4570 - val_acc: 0.5568\n",
      "Epoch 10/1000\n",
      "711/711 [==============================] - 33s 47ms/step - loss: 1.4613 - acc: 0.5383 - val_loss: 1.4872 - val_acc: 0.5284\n",
      "Epoch 11/1000\n",
      "711/711 [==============================] - 34s 48ms/step - loss: 1.3638 - acc: 0.5731 - val_loss: 1.3602 - val_acc: 0.5966\n",
      "Epoch 12/1000\n",
      "711/711 [==============================] - 33s 46ms/step - loss: 1.3111 - acc: 0.5865 - val_loss: 1.4040 - val_acc: 0.5852\n",
      "Epoch 13/1000\n",
      "711/711 [==============================] - 36s 50ms/step - loss: 1.2256 - acc: 0.6065 - val_loss: 1.2689 - val_acc: 0.6080\n",
      "Epoch 14/1000\n",
      "711/711 [==============================] - 35s 49ms/step - loss: 1.1633 - acc: 0.6333 - val_loss: 1.3908 - val_acc: 0.6250\n",
      "Epoch 15/1000\n",
      "711/711 [==============================] - 34s 48ms/step - loss: 1.1321 - acc: 0.6382 - val_loss: 1.3872 - val_acc: 0.5909\n",
      "Epoch 16/1000\n",
      "711/711 [==============================] - 38s 53ms/step - loss: 1.0575 - acc: 0.6554 - val_loss: 1.2929 - val_acc: 0.6307\n",
      "Epoch 17/1000\n",
      "711/711 [==============================] - 40s 57ms/step - loss: 1.0104 - acc: 0.6733 - val_loss: 1.3102 - val_acc: 0.6136\n",
      "Epoch 18/1000\n",
      "711/711 [==============================] - 41s 58ms/step - loss: 0.9513 - acc: 0.6916 - val_loss: 1.2766 - val_acc: 0.6364\n"
     ]
    }
   ],
   "source": [
    "history, model = train(model)"
   ]
  },
  {
   "cell_type": "code",
   "execution_count": 12,
   "metadata": {},
   "outputs": [
    {
     "name": "stdout",
     "output_type": "stream",
     "text": [
      "Found 176 images belonging to 22 classes.\n",
      "('Test loss:', 1.2765541143122723)\n",
      "('Test accuracy:', 0.6363636363636364)\n"
     ]
    }
   ],
   "source": [
    "score = validate_model(model)\n",
    "print('Test loss:', score[0])\n",
    "print('Test accuracy:', score[1])"
   ]
  },
  {
   "cell_type": "markdown",
   "metadata": {},
   "source": [
    "--- "
   ]
  },
  {
   "cell_type": "markdown",
   "metadata": {},
   "source": [
    "## Save weights "
   ]
  },
  {
   "cell_type": "code",
   "execution_count": 13,
   "metadata": {},
   "outputs": [
    {
     "name": "stderr",
     "output_type": "stream",
     "text": [
      "Using TensorFlow backend.\n"
     ]
    }
   ],
   "source": [
    "import json \n",
    "from keras.models import model_from_json\n",
    "\n",
    "with open('sketch_cnn.json', 'w') as f:\n",
    "    json_obj = json.loads(model.to_json())\n",
    "    json.dump(json_obj, f)\n",
    "\n",
    "model.save_weights('sketch_cnn.h5')"
   ]
  },
  {
   "cell_type": "markdown",
   "metadata": {},
   "source": [
    "--- "
   ]
  },
  {
   "cell_type": "markdown",
   "metadata": {},
   "source": [
    "## Export Weights "
   ]
  },
  {
   "cell_type": "markdown",
   "metadata": {},
   "source": [
    "The type of each entry in array is given by -dataType. The number of entries is equal to:\n",
    "\n",
    "inputFeatureChannels outputFeatureChannels kernelHeight kernelWidth*\n",
    "\n",
    "The layout of filter weight is as a 4D tensor (array) weight[ outputChannels ][ kernelHeight ][ kernelWidth ][ inputChannels / groups ]\n",
    "\n",
    "Note: For binary-convolutions the layout of the weights are: weight[ outputChannels ][ kernelHeight ][ kernelWidth ][ floor((inputChannels/groups)+31) / 32 ] with each 32 sub input feature channel index specified in machine byte order, so that for example the 13th feature channel bit can be extracted using bitmask = (1U << 13)."
   ]
  },
  {
   "cell_type": "code",
   "execution_count": 14,
   "metadata": {},
   "outputs": [],
   "source": [
    "def export_conv_weights(name, wts_coef, bias_coef):\n",
    "    print(\"Exporting weights for {}\\n\\t{}\\n\\t{}\".format(name, \n",
    "          os.path.join('exports', \"{}_conv.data\".format(name)), \n",
    "          os.path.join('exports', \"{}_bias.data\".format(name))))\n",
    "    \n",
    "    print(\"\\n\")\n",
    "    \n",
    "    # [kernel_width, kernel_height, input_feature_channels, output_feature_channels]\n",
    "    print(\"\\tOriginal weights shape {}\".format(wts_coef.shape))\n",
    "    if bias_coef is not None:\n",
    "        # [output_feature_channels]\n",
    "        print(\"\\tOriginal bias shape {}\".format(bias_coef.shape))\n",
    "    \n",
    "    # [output_feature_channels, kernel_width, kernel_height, input_feature_channels]\n",
    "    wts_coef = wts_coef.transpose(3, 0, 1, 2)\n",
    "    print(\"\\tReshaped weights shape {}\".format(wts_coef.shape))    \n",
    "    wts_coef.tofile(os.path.join('exports', \"{}_conv.data\".format(name)))    \n",
    "    \n",
    "    if bias_coef is not None:\n",
    "        bias_coef = np.squeeze(bias_coef)\n",
    "        print(\"\\tReshaped bias_coef shape {}\".format(bias_coef.shape))    \n",
    "        bias_coef.tofile(os.path.join('exports', \"{}_bias.data\".format(name)))    \n",
    "        \n",
    "    print(\"\\n\")"
   ]
  },
  {
   "cell_type": "code",
   "execution_count": 15,
   "metadata": {},
   "outputs": [],
   "source": [
    "def export_dense_weights(name, wts_coef, bias_coef, kernel_width, kernel_height):\n",
    "    \"\"\"\n",
    "    A fully connected layer in a Convolutional Neural Network (CNN) is one where every input channel is connected \n",
    "    to every output channel. The kernel width is equal to the width of the source image, and the \n",
    "    kernel height is equal to the height of the source image. The width and height of the output is 1 x 1.\n",
    "    \n",
    "    A fully connected layer takes an MPSImage object with dimensions \n",
    "    source.width x source.height x Ni, convolves it with Weights[No][source.width][source.height][Ni], \n",
    "    and produces a 1 x 1 x No output.\n",
    "    \n",
    "    Thus, the following conditions must be true:\n",
    "    - kernelWidth == source.width\n",
    "    - kernelHeight == source.height\n",
    "    - clipRect.size.width == 1\n",
    "    - clipRect.size.height == 1\n",
    "    \n",
    "    You can think of a fully connected layer as a matrix multiplication where the image is \n",
    "    flattened into a vector of length source.width*source.height*Ni, and the weights are arranged in a \n",
    "    matrix of dimension No x (source.width*source.height*Ni) to produce an output vector of length No.\n",
    "    \n",
    "    The value of the strideInPixelsX, strideInPixelsY, and groups properties must be 1. \n",
    "    The offset property is not applicable and it is ignored. Because the clip rectangle is \n",
    "    clamped to the destination image bounds, if the destination is 1 x 1, you do not need to set the \n",
    "    clipRect property.\n",
    "    \"\"\"\n",
    "    print(\"Exporting weights for {}\\n\\t{}\\n\\t{}\".format(name, \n",
    "          os.path.join('exports', \"{}_conv.data\".format(name)), \n",
    "          os.path.join('exports', \"{}_bias.data\".format(name))))\n",
    "        \n",
    "    input_feature_channels = int(wts_coef.shape[0] / kernel_width / kernel_height) \n",
    "    output_feature_channels = wts_coef.shape[-1]            \n",
    "    \n",
    "    # [kernel_width, kernel_height, input_feature_channels, output_feature_channels]\n",
    "    print(\"\\tOriginal weights shape {}\".format(wts_coef.shape))\n",
    "    \n",
    "    #wts_coef = np.reshape(wts_coef, [kernel_width, kernel_height, input_feature_channels, output_feature_channels])    \n",
    "    wts_coef = np.reshape(wts_coef, [kernel_width, kernel_height, -1, output_feature_channels])    \n",
    "        \n",
    "    if bias_coef is not None:\n",
    "        # [output_feature_channels]\n",
    "        print(\"\\tOriginal bias shape {}\".format(bias_coef.shape))\n",
    "    \n",
    "    # [output_feature_channels, kernel_width, kernel_height, input_feature_channels]\n",
    "    wts_coef = wts_coef.transpose(3, 0, 1, 2)\n",
    "    print(\"\\tReshaped weights shape {}\".format(wts_coef.shape))    \n",
    "    wts_coef.tofile(os.path.join('exports', \"{}_conv.data\".format(name)))    \n",
    "    \n",
    "    if bias_coef is not None:\n",
    "        bias_coef = np.squeeze(bias_coef)\n",
    "        print(\"\\tReshaped bias_coef shape {}\".format(bias_coef.shape))    \n",
    "        bias_coef.tofile(os.path.join('exports', \"{}_bias.data\".format(name)))   \n",
    "        \n",
    "    print(\"\\n\")"
   ]
  },
  {
   "cell_type": "code",
   "execution_count": 16,
   "metadata": {},
   "outputs": [
    {
     "name": "stdout",
     "output_type": "stream",
     "text": [
      "Exporting weights for l1\n",
      "\texports/l1_conv.data\n",
      "\texports/l1_bias.data\n",
      "\n",
      "\n",
      "\tOriginal weights shape (7, 7, 1, 32)\n",
      "\tOriginal bias shape (32,)\n",
      "\tReshaped weights shape (32, 7, 7, 1)\n",
      "\tReshaped bias_coef shape (32,)\n",
      "\n",
      "\n",
      "Exporting weights for l2\n",
      "\texports/l2_conv.data\n",
      "\texports/l2_bias.data\n",
      "\n",
      "\n",
      "\tOriginal weights shape (5, 5, 32, 32)\n",
      "\tOriginal bias shape (32,)\n",
      "\tReshaped weights shape (32, 5, 5, 32)\n",
      "\tReshaped bias_coef shape (32,)\n",
      "\n",
      "\n",
      "Exporting weights for l3\n",
      "\texports/l3_conv.data\n",
      "\texports/l3_bias.data\n",
      "\n",
      "\n",
      "\tOriginal weights shape (5, 5, 32, 32)\n",
      "\tOriginal bias shape (32,)\n",
      "\tReshaped weights shape (32, 5, 5, 32)\n",
      "\tReshaped bias_coef shape (32,)\n",
      "\n",
      "\n",
      "Exporting weights for l4\n",
      "\texports/l4_conv.data\n",
      "\texports/l4_bias.data\n",
      "\n",
      "\n",
      "\tOriginal weights shape (5, 5, 32, 32)\n",
      "\tOriginal bias shape (32,)\n",
      "\tReshaped weights shape (32, 5, 5, 32)\n",
      "\tReshaped bias_coef shape (32,)\n",
      "\n",
      "\n",
      "Exporting weights for l5\n",
      "\texports/l5_conv.data\n",
      "\texports/l5_bias.data\n",
      "\tOriginal weights shape (2048, 64)\n",
      "\tOriginal bias shape (64,)\n",
      "\tReshaped weights shape (64, 8, 8, 32)\n",
      "\tReshaped bias_coef shape (64,)\n",
      "\n",
      "\n",
      "Exporting weights for l6\n",
      "\texports/l6_conv.data\n",
      "\texports/l6_bias.data\n",
      "\tOriginal weights shape (64, 22)\n",
      "\tOriginal bias shape (22,)\n",
      "\tReshaped weights shape (22, 1, 1, 64)\n",
      "\tReshaped bias_coef shape (22,)\n",
      "\n",
      "\n"
     ]
    }
   ],
   "source": [
    "###### flatted_input_kernel_width = None\n",
    "flatted_input_kernel_height = None\n",
    "\n",
    "for layer in model.layers:        \n",
    "    if \"flatten\" in layer.name:\n",
    "        flatted_input_kernel_width = layer.input_shape[1] \n",
    "        flatted_input_kernel_height = layer.input_shape[2] \n",
    "        \n",
    "    if len(layer.get_weights()) > 0:        \n",
    "        name = layer.name\n",
    "        wts = layer.get_weights()\n",
    "        \n",
    "        if name in ['l1', 'l2', 'l3', 'l4']:\n",
    "            export_conv_weights(layer.name, wts[0], wts[1] if len(wts) == 2 else None)        \n",
    "        elif name in ['l5', 'l6']:\n",
    "            export_dense_weights(layer.name, wts[0], wts[1] if len(wts) == 2 else None, \n",
    "                                flatted_input_kernel_width, flatted_input_kernel_height)        \n",
    "            # after the initial pass (from cnn to fcn); flattern the kernel down to 1x1 \n",
    "            # i.e. update the flatted_input_kernel_DIM to have the kernel width and height of 1 \n",
    "            flatted_input_kernel_width, flatted_input_kernel_height = 1, 1 "
   ]
  }
 ],
 "metadata": {
  "kernelspec": {
   "display_name": "dl4swift27",
   "language": "python",
   "name": "dl4swift27"
  },
  "language_info": {
   "codemirror_mode": {
    "name": "ipython",
    "version": 2
   },
   "file_extension": ".py",
   "mimetype": "text/x-python",
   "name": "python",
   "nbconvert_exporter": "python",
   "pygments_lexer": "ipython2",
   "version": "2.7.15"
  }
 },
 "nbformat": 4,
 "nbformat_minor": 2
}
