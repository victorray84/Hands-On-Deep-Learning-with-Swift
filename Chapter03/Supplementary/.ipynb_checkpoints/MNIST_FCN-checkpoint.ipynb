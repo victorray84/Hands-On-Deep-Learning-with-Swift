{
 "cells": [
  {
   "cell_type": "code",
   "execution_count": 1,
   "metadata": {},
   "outputs": [],
   "source": [
    "import os\n",
    "import numpy as np\n",
    "import tensorflow as tf \n",
    "import tensorflow.keras.backend as K\n",
    "from  tensorflow.keras import models, activations, layers"
   ]
  },
  {
   "cell_type": "markdown",
   "metadata": {},
   "source": [
    "## Constants "
   ]
  },
  {
   "cell_type": "code",
   "execution_count": 9,
   "metadata": {},
   "outputs": [],
   "source": [
    "batch_size = 128\n",
    "num_classes = 10\n",
    "epochs = 10"
   ]
  },
  {
   "cell_type": "markdown",
   "metadata": {},
   "source": [
    "## Load data "
   ]
  },
  {
   "cell_type": "code",
   "execution_count": 2,
   "metadata": {},
   "outputs": [],
   "source": [
    "(x_train, y_train), (x_test, y_test) = tf.keras.datasets.mnist.load_data()"
   ]
  },
  {
   "cell_type": "code",
   "execution_count": 3,
   "metadata": {},
   "outputs": [
    {
     "name": "stdout",
     "output_type": "stream",
     "text": [
      "Loaded data;\n",
      "x_train shape \t(60000, 28, 28)\n",
      "y_train shape \t(60000,)\n",
      "x_test shape \t(10000, 28, 28)\n",
      "y_test shape \t(10000,)\n"
     ]
    }
   ],
   "source": [
    "print(\"Loaded data;\\nx_train shape \\t{}\\ny_train shape \\t{}\\nx_test shape \\t{}\\ny_test shape \\t{}\".format(\n",
    "    x_train.shape, y_train.shape, \n",
    "    x_test.shape, y_test.shape))"
   ]
  },
  {
   "cell_type": "markdown",
   "metadata": {},
   "source": [
    "## Export Training and test data "
   ]
  },
  {
   "cell_type": "code",
   "execution_count": 4,
   "metadata": {},
   "outputs": [],
   "source": [
    "x_train.tofile(os.path.join('exports', \"x_train.data\"))\n",
    "y_train.tofile(os.path.join('exports', \"y_train.data\"))"
   ]
  },
  {
   "cell_type": "code",
   "execution_count": 5,
   "metadata": {},
   "outputs": [],
   "source": [
    "x_test.tofile(os.path.join('exports', \"x_test.data\"))\n",
    "y_test.tofile(os.path.join('exports', \"y_test.data\"))"
   ]
  },
  {
   "cell_type": "code",
   "execution_count": 6,
   "metadata": {},
   "outputs": [
    {
     "name": "stdout",
     "output_type": "stream",
     "text": [
      "Loaded data;\n",
      "x_train shape \t(60000, 28, 28, 1)\n",
      "y_train shape \t(60000,)\n",
      "x_test shape \t(10000, 28, 28, 1)\n",
      "y_test shape \t(10000,)\n"
     ]
    }
   ],
   "source": [
    "# input image dimensions\n",
    "img_rows, img_cols = 28, 28\n",
    "\n",
    "if K.image_data_format() == 'channels_first':\n",
    "    x_train = x_train.reshape(x_train.shape[0], 1, img_rows, img_cols)\n",
    "    x_test = x_test.reshape(x_test.shape[0], 1, img_rows, img_cols)\n",
    "    input_shape = (1, img_rows, img_cols)\n",
    "else:\n",
    "    x_train = x_train.reshape(x_train.shape[0], img_rows, img_cols, 1)\n",
    "    x_test = x_test.reshape(x_test.shape[0], img_rows, img_cols, 1)\n",
    "    input_shape = (img_rows, img_cols, 1)\n",
    "    \n",
    "print(\"Loaded data;\\nx_train shape \\t{}\\ny_train shape \\t{}\\nx_test shape \\t{}\\ny_test shape \\t{}\".format(\n",
    "    x_train.shape, y_train.shape, \n",
    "    x_test.shape, y_test.shape))"
   ]
  },
  {
   "cell_type": "markdown",
   "metadata": {},
   "source": [
    "## Prepare data "
   ]
  },
  {
   "cell_type": "code",
   "execution_count": 7,
   "metadata": {},
   "outputs": [],
   "source": [
    "x_train = x_train.astype('float32')\n",
    "x_test = x_test.astype('float32')\n",
    "x_train /= 255\n",
    "x_test /= 255"
   ]
  },
  {
   "cell_type": "code",
   "execution_count": 10,
   "metadata": {},
   "outputs": [],
   "source": [
    "# convert class vectors to binary class matrices\n",
    "y_train = tf.keras.utils.to_categorical(y_train, num_classes)\n",
    "y_test = tf.keras.utils.to_categorical(y_test, num_classes)"
   ]
  },
  {
   "cell_type": "markdown",
   "metadata": {},
   "source": [
    "## Shallow network "
   ]
  },
  {
   "cell_type": "code",
   "execution_count": 20,
   "metadata": {},
   "outputs": [],
   "source": [
    "model = models.Sequential()\n",
    "model.add(layers.Flatten(input_shape=input_shape))\n",
    "model.add(layers.Dense(num_classes, name=\"fc_1\"))\n",
    "model.add(layers.Activation(activations.softmax, name=\"output\"))"
   ]
  },
  {
   "cell_type": "code",
   "execution_count": 21,
   "metadata": {},
   "outputs": [
    {
     "name": "stdout",
     "output_type": "stream",
     "text": [
      "_________________________________________________________________\n",
      "Layer (type)                 Output Shape              Param #   \n",
      "=================================================================\n",
      "flatten_1 (Flatten)          (None, 784)               0         \n",
      "_________________________________________________________________\n",
      "fc_1 (Dense)                 (None, 10)                7850      \n",
      "_________________________________________________________________\n",
      "output (Activation)          (None, 10)                0         \n",
      "=================================================================\n",
      "Total params: 7,850\n",
      "Trainable params: 7,850\n",
      "Non-trainable params: 0\n",
      "_________________________________________________________________\n"
     ]
    }
   ],
   "source": [
    "model.summary()"
   ]
  },
  {
   "cell_type": "code",
   "execution_count": 22,
   "metadata": {},
   "outputs": [],
   "source": [
    "model.compile(loss=tf.keras.losses.categorical_crossentropy,\n",
    "              optimizer=tf.keras.optimizers.Adadelta(),\n",
    "              metrics=['accuracy'])"
   ]
  },
  {
   "cell_type": "markdown",
   "metadata": {},
   "source": [
    "### Train"
   ]
  },
  {
   "cell_type": "code",
   "execution_count": 23,
   "metadata": {},
   "outputs": [
    {
     "name": "stdout",
     "output_type": "stream",
     "text": [
      "Train on 60000 samples, validate on 10000 samples\n",
      "Epoch 1/10\n",
      "60000/60000 [==============================] - 1s 13us/step - loss: 0.6450 - acc: 0.8402 - val_loss: 0.3643 - val_acc: 0.9024\n",
      "Epoch 2/10\n",
      "60000/60000 [==============================] - 1s 11us/step - loss: 0.3503 - acc: 0.9035 - val_loss: 0.3109 - val_acc: 0.9145\n",
      "Epoch 3/10\n",
      "60000/60000 [==============================] - 1s 12us/step - loss: 0.3160 - acc: 0.9123 - val_loss: 0.2954 - val_acc: 0.9179\n",
      "Epoch 4/10\n",
      "60000/60000 [==============================] - 1s 12us/step - loss: 0.3008 - acc: 0.9168 - val_loss: 0.2883 - val_acc: 0.9201\n",
      "Epoch 5/10\n",
      "60000/60000 [==============================] - 1s 11us/step - loss: 0.2916 - acc: 0.9187 - val_loss: 0.2815 - val_acc: 0.9218\n",
      "Epoch 6/10\n",
      "60000/60000 [==============================] - 1s 11us/step - loss: 0.2852 - acc: 0.9208 - val_loss: 0.2782 - val_acc: 0.9227\n",
      "Epoch 7/10\n",
      "60000/60000 [==============================] - 1s 12us/step - loss: 0.2804 - acc: 0.9221 - val_loss: 0.2736 - val_acc: 0.9242\n",
      "Epoch 8/10\n",
      "60000/60000 [==============================] - 1s 11us/step - loss: 0.2765 - acc: 0.9230 - val_loss: 0.2730 - val_acc: 0.9249\n",
      "Epoch 9/10\n",
      "60000/60000 [==============================] - 1s 11us/step - loss: 0.2735 - acc: 0.9242 - val_loss: 0.2722 - val_acc: 0.9247\n",
      "Epoch 10/10\n",
      "60000/60000 [==============================] - 1s 10us/step - loss: 0.2707 - acc: 0.9250 - val_loss: 0.2731 - val_acc: 0.9242\n"
     ]
    },
    {
     "data": {
      "text/plain": [
       "<tensorflow.python.keras.callbacks.History at 0x115940350>"
      ]
     },
     "execution_count": 23,
     "metadata": {},
     "output_type": "execute_result"
    }
   ],
   "source": [
    "model.fit(x_train, y_train,\n",
    "          batch_size=batch_size,\n",
    "          epochs=epochs,\n",
    "          verbose=1,\n",
    "          validation_data=(x_test, y_test))"
   ]
  },
  {
   "cell_type": "markdown",
   "metadata": {},
   "source": [
    "### Evaluate "
   ]
  },
  {
   "cell_type": "code",
   "execution_count": 24,
   "metadata": {},
   "outputs": [
    {
     "name": "stdout",
     "output_type": "stream",
     "text": [
      "('Test loss:', 0.27310981670320034)\n",
      "('Test accuracy:', 0.9242)\n"
     ]
    }
   ],
   "source": [
    "score = model.evaluate(x_test, y_test, verbose=0)\n",
    "print('Test loss:', score[0])\n",
    "print('Test accuracy:', score[1])"
   ]
  },
  {
   "cell_type": "markdown",
   "metadata": {},
   "source": [
    "### Export weights "
   ]
  },
  {
   "cell_type": "markdown",
   "metadata": {},
   "source": [
    "The type of each entry in array is given by -dataType. The number of entries is equal to:\n",
    "\n",
    "*inputFeatureChannels * outputFeatureChannels * kernelHeight * kernelWidth*\n",
    "\n",
    "The layout of filter weight is as a 4D tensor (array)\n",
    "weight[ outputChannels ][ kernelHeight ][ kernelWidth ][ inputChannels / groups ]\n",
    "\n",
    "*Note: For binary-convolutions the layout of the weights are:\n",
    "weight[ outputChannels ][ kernelHeight ][ kernelWidth ][ floor((inputChannels/groups)+31) / 32 ]\n",
    "with each 32 sub input feature channel index specified in machine byte order, so that for example\n",
    "the 13th feature channel bit can be extracted using bitmask = (1U << 13).*"
   ]
  },
  {
   "cell_type": "code",
   "execution_count": 25,
   "metadata": {},
   "outputs": [],
   "source": [
    "def export_dense_weights(name, wts_coef, bias_coef, kernel_width, kernel_height):\n",
    "    \"\"\"\n",
    "    A fully connected layer in a Convolutional Neural Network (CNN) is one where every input channel is connected \n",
    "    to every output channel. The kernel width is equal to the width of the source image, and the \n",
    "    kernel height is equal to the height of the source image. The width and height of the output is 1 x 1.\n",
    "    \n",
    "    A fully connected layer takes an MPSImage object with dimensions \n",
    "    source.width x source.height x Ni, convolves it with Weights[No][source.width][source.height][Ni], \n",
    "    and produces a 1 x 1 x No output.\n",
    "    \n",
    "    Thus, the following conditions must be true:\n",
    "    - kernelWidth == source.width\n",
    "    - kernelHeight == source.height\n",
    "    - clipRect.size.width == 1\n",
    "    - clipRect.size.height == 1\n",
    "    \n",
    "    You can think of a fully connected layer as a matrix multiplication where the image is \n",
    "    flattened into a vector of length source.width*source.height*Ni, and the weights are arranged in a \n",
    "    matrix of dimension No x (source.width*source.height*Ni) to produce an output vector of length No.\n",
    "    \n",
    "    The value of the strideInPixelsX, strideInPixelsY, and groups properties must be 1. \n",
    "    The offset property is not applicable and it is ignored. Because the clip rectangle is \n",
    "    clamped to the destination image bounds, if the destination is 1 x 1, you do not need to set the \n",
    "    clipRect property.\n",
    "    \"\"\"\n",
    "    print(\"Exporting weights for {}\\n\\t{}\\n\\t{}\".format(name, \n",
    "          os.path.join('exports', \"{}_conv_wts.data\".format(name)), \n",
    "          os.path.join('exports', \"{}_bias_wts.data\".format(name))))\n",
    "        \n",
    "    input_feature_channels = int(wts_coef.shape[0] / kernel_width / kernel_height) \n",
    "    output_feature_channels = wts_coef.shape[-1]            \n",
    "    \n",
    "    print(\"\\tOriginal weights shape {}\".format(wts_coef.shape))    \n",
    "    wts_coef = np.reshape(wts_coef, [kernel_width, kernel_height, -1, output_feature_channels])    \n",
    "        \n",
    "    if bias_coef is not None:\n",
    "        # [output_feature_channels]\n",
    "        print(\"\\tOriginal bias shape {}\".format(bias_coef.shape))\n",
    "    \n",
    "    # [output_feature_channels, kernel_width, kernel_height, input_feature_channels]\n",
    "    wts_coef = wts_coef.transpose(3, 0, 1, 2)\n",
    "    print(\"\\tReshaped weights shape {}\".format(wts_coef.shape))    \n",
    "    wts_coef.tofile(os.path.join('exports', \"shallow_{}_wts.data\".format(name)))    \n",
    "    \n",
    "    if bias_coef is not None:\n",
    "        bias_coef = np.squeeze(bias_coef)\n",
    "        print(\"\\tReshaped bias_coef shape {}\".format(bias_coef.shape))    \n",
    "        bias_coef.tofile(os.path.join('exports', \"shallow_{}_bias_terms.data\".format(name)))   \n",
    "        \n",
    "    print(\"\\n\")"
   ]
  },
  {
   "cell_type": "code",
   "execution_count": 26,
   "metadata": {},
   "outputs": [
    {
     "name": "stdout",
     "output_type": "stream",
     "text": [
      "Exporting weights for fc_1\n",
      "\texports/fc_1_conv_wts.data\n",
      "\texports/fc_1_bias_wts.data\n",
      "\tOriginal weights shape (784, 10)\n",
      "\tOriginal bias shape (10,)\n",
      "\tReshaped weights shape (10, 28, 28, 1)\n",
      "\tReshaped bias_coef shape (10,)\n",
      "\n",
      "\n"
     ]
    }
   ],
   "source": [
    "flatted_input_kernel_width = None\n",
    "flatted_input_kernel_height = None\n",
    "\n",
    "for layer in model.layers:        \n",
    "    if \"flatten\" in layer.name:\n",
    "        flatted_input_kernel_width = layer.input_shape[1] # None, 14, 14, 64\n",
    "        flatted_input_kernel_height = layer.input_shape[2] # None, 14, 14, 64\n",
    "        \n",
    "    if len(layer.get_weights()) > 0:        \n",
    "        name = layer.name         \n",
    "        wts = layer.get_weights()\n",
    "        \n",
    "        export_dense_weights(layer.name, wts[0], wts[1] if len(wts) == 2 else None, \n",
    "                                flatted_input_kernel_width, flatted_input_kernel_height)        \n",
    "        # after the initial pass (from cnn to fcn); flattern the kernel down to 1x1 \n",
    "        # i.e. update the flatted_input_kernel_DIM to have the kernel width and height of 1 \n",
    "        flatted_input_kernel_width, flatted_input_kernel_height = 1, 1 "
   ]
  },
  {
   "cell_type": "markdown",
   "metadata": {},
   "source": [
    "## Deeper network (1 hidden layer)"
   ]
  },
  {
   "cell_type": "code",
   "execution_count": null,
   "metadata": {},
   "outputs": [],
   "source": [
    "model = models.Sequential()\n",
    "model.add(layers.Flatten(input_shape=input_shape))\n",
    "model.add(layers.Dense(32, name=\"fc_1\"))\n",
    "mode.add(layers.Activation())\n",
    "model.add(layers.Dense(num_classes, name=\"fc_2\"))\n",
    "model.add(layers.Activation(activations.softmax, name=\"output\"))"
   ]
  }
 ],
 "metadata": {
  "kernelspec": {
   "display_name": "dl4swift27",
   "language": "python",
   "name": "dl4swift27"
  },
  "language_info": {
   "codemirror_mode": {
    "name": "ipython",
    "version": 2
   },
   "file_extension": ".py",
   "mimetype": "text/x-python",
   "name": "python",
   "nbconvert_exporter": "python",
   "pygments_lexer": "ipython2",
   "version": "2.7.15"
  }
 },
 "nbformat": 4,
 "nbformat_minor": 2
}
