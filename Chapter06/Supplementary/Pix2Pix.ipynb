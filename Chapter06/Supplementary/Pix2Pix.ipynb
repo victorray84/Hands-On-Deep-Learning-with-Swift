{
 "cells": [
  {
   "cell_type": "markdown",
   "metadata": {},
   "source": [
    "**Code References**\n",
    "- https://github.com/wchen342/SketchyGAN\n",
    "- https://github.com/mtobeiyf/sketch-to-art \n",
    "- https://github.com/williamFalcon/pix2pix-keras/tree/master/pix2pix\n",
    "- https://github.com/hanwen0529/GAN-pix2pix-Keras\n",
    "- https://colab.research.google.com/github/tensorflow/tensorflow/blob/master/tensorflow/contrib/eager/python/examples/pix2pix/pix2pix_eager.ipynb\n",
    "- https://www.kaggle.com/vikramtiwari/pix-2-pix-model-using-tensorflow-and-keras"
   ]
  },
  {
   "cell_type": "markdown",
   "metadata": {},
   "source": [
    "**References** \n",
    "- http://openaccess.thecvf.com/content_cvpr_2018/papers/Chen_SketchyGAN_Towards_Diverse_CVPR_2018_paper.pdf \n",
    "- https://arxiv.org/pdf/1711.08972.pdf\n",
    "- https://affinelayer.com/pix2pix/index.html\n",
    "- https://ml4a.github.io/guides/Pix2Pix/\n",
    "- https://phillipi.github.io/pix2pix/ \n",
    "- "
   ]
  },
  {
   "cell_type": "code",
   "execution_count": null,
   "metadata": {},
   "outputs": [],
   "source": [
    "**Datasets**\n",
    "- http://efrosgans.eecs.berkeley.edu/pix2pix/datasets/\n",
    "- "
   ]
  }
 ],
 "metadata": {
  "kernelspec": {
   "display_name": "dl4swift",
   "language": "python",
   "name": "dl4swift"
  },
  "language_info": {
   "codemirror_mode": {
    "name": "ipython",
    "version": 3
   },
   "file_extension": ".py",
   "mimetype": "text/x-python",
   "name": "python",
   "nbconvert_exporter": "python",
   "pygments_lexer": "ipython3",
   "version": "3.6.8"
  }
 },
 "nbformat": 4,
 "nbformat_minor": 2
}
