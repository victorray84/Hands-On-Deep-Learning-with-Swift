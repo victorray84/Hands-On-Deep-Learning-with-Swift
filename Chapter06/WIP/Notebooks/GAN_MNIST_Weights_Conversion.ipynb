{
 "cells": [
  {
   "cell_type": "code",
   "execution_count": 1,
   "metadata": {},
   "outputs": [],
   "source": [
    "import json \n",
    "import numpy as np \n",
    "import os"
   ]
  },
  {
   "cell_type": "code",
   "execution_count": 2,
   "metadata": {},
   "outputs": [],
   "source": [
    "def export_conv_weights(name, wts_coef, bias_coef):\n",
    "    print(\"Exporting weights for {}\\n\\t{}\\n\\t{}\".format(name, \n",
    "          os.path.join('exports', \"{}_conv.data\".format(name)), \n",
    "          os.path.join('exports', \"{}_bias.data\".format(name))))\n",
    "    \n",
    "    print(\"\\n\")\n",
    "    \n",
    "    # [kernel_width, kernel_height, input_feature_channels, output_feature_channels]\n",
    "    print(\"\\tOriginal weights shape {}\".format(wts_coef.shape))\n",
    "    if bias_coef is not None:\n",
    "        # [output_feature_channels]\n",
    "        print(\"\\tOriginal bias shape {}\".format(bias_coef.shape))\n",
    "    \n",
    "    # [output_feature_channels, kernel_width, kernel_height, input_feature_channels]\n",
    "    wts_coef = wts_coef.transpose(3, 0, 1, 2)\n",
    "    print(\"\\tReshaped weights shape {}\".format(wts_coef.shape))    \n",
    "    wts_coef.tofile(os.path.join('exports', \"{}_conv.data\".format(name)))    \n",
    "    \n",
    "    if bias_coef is not None:\n",
    "        bias_coef = np.squeeze(bias_coef)\n",
    "        print(\"\\tReshaped bias_coef shape {}\".format(bias_coef.shape))    \n",
    "        bias_coef.tofile(os.path.join('exports', \"{}_bias.data\".format(name)))    \n",
    "        \n",
    "    print(\"\\n\")"
   ]
  },
  {
   "cell_type": "code",
   "execution_count": 3,
   "metadata": {},
   "outputs": [],
   "source": [
    "def export_dense_weights(name, wts_coef, bias_coef, kernel_width, kernel_height):\n",
    "    \"\"\"\n",
    "    A fully connected layer in a Convolutional Neural Network (CNN) is one where every input channel is connected \n",
    "    to every output channel. The kernel width is equal to the width of the source image, and the \n",
    "    kernel height is equal to the height of the source image. The width and height of the output is 1 x 1.\n",
    "    \n",
    "    A fully connected layer takes an MPSImage object with dimensions \n",
    "    source.width x source.height x Ni, convolves it with Weights[No][source.width][source.height][Ni], \n",
    "    and produces a 1 x 1 x No output.\n",
    "    \n",
    "    Thus, the following conditions must be true:\n",
    "    - kernelWidth == source.width\n",
    "    - kernelHeight == source.height\n",
    "    - clipRect.size.width == 1\n",
    "    - clipRect.size.height == 1\n",
    "    \n",
    "    You can think of a fully connected layer as a matrix multiplication where the image is \n",
    "    flattened into a vector of length source.width*source.height*Ni, and the weights are arranged in a \n",
    "    matrix of dimension No x (source.width*source.height*Ni) to produce an output vector of length No.\n",
    "    \n",
    "    The value of the strideInPixelsX, strideInPixelsY, and groups properties must be 1. \n",
    "    The offset property is not applicable and it is ignored. Because the clip rectangle is \n",
    "    clamped to the destination image bounds, if the destination is 1 x 1, you do not need to set the \n",
    "    clipRect property.\n",
    "    \"\"\"\n",
    "    print(\"Exporting weights for {}\\n\\t{}\\n\\t{}\".format(name, \n",
    "          os.path.join('exports', \"{}_conv.data\".format(name)), \n",
    "          os.path.join('exports', \"{}_bias.data\".format(name))))\n",
    "        \n",
    "    input_feature_channels = int(wts_coef.shape[0] / kernel_width / kernel_height) \n",
    "    output_feature_channels = wts_coef.shape[-1]            \n",
    "    \n",
    "    # [kernel_width, kernel_height, input_feature_channels, output_feature_channels]\n",
    "    print(\"\\tOriginal weights shape {}\".format(wts_coef.shape))\n",
    "    \n",
    "    #wts_coef = np.reshape(wts_coef, [kernel_width, kernel_height, input_feature_channels, output_feature_channels])    \n",
    "    wts_coef = np.reshape(wts_coef, [kernel_width, kernel_height, -1, output_feature_channels])    \n",
    "        \n",
    "    if bias_coef is not None:\n",
    "        # [output_feature_channels]\n",
    "        print(\"\\tOriginal bias shape {}\".format(bias_coef.shape))\n",
    "    \n",
    "    # [output_feature_channels, kernel_width, kernel_height, input_feature_channels]\n",
    "    wts_coef = wts_coef.transpose(3, 0, 1, 2)\n",
    "    print(\"\\tReshaped weights shape {}\".format(wts_coef.shape))    \n",
    "    wts_coef.tofile(os.path.join('exports', \"{}_conv.data\".format(name)))    \n",
    "    \n",
    "    if bias_coef is not None:\n",
    "        bias_coef = np.squeeze(bias_coef)\n",
    "        print(\"\\tReshaped bias_coef shape {}\".format(bias_coef.shape))    \n",
    "        bias_coef.tofile(os.path.join('exports', \"{}_bias.data\".format(name)))   \n",
    "        \n",
    "    print(\"\\n\")"
   ]
  },
  {
   "cell_type": "code",
   "execution_count": 4,
   "metadata": {},
   "outputs": [
    {
     "name": "stderr",
     "output_type": "stream",
     "text": [
      "Using TensorFlow backend.\n"
     ]
    }
   ],
   "source": [
    "from keras.models import model_from_json\n",
    "import keras "
   ]
  },
  {
   "cell_type": "code",
   "execution_count": 5,
   "metadata": {},
   "outputs": [],
   "source": [
    "GENERATOR_FILE = '/Users/joshua.newnham/Dropbox/my projects/DL4Swift/Hands-On-Deep-Learning-with-Swift/Chapter06/WIP/Notebooks/tf_weights/dcgan_generator.h5'\n",
    "generator = keras.models.load_model(GENERATOR_FILE)"
   ]
  },
  {
   "cell_type": "code",
   "execution_count": 6,
   "metadata": {},
   "outputs": [
    {
     "name": "stdout",
     "output_type": "stream",
     "text": [
      "_________________________________________________________________\n",
      "Layer (type)                 Output Shape              Param #   \n",
      "=================================================================\n",
      "input_1 (InputLayer)         (None, 28, 28, 1)         0         \n",
      "_________________________________________________________________\n",
      "d_conv_1 (Conv2D)            (None, 14, 14, 64)        1664      \n",
      "_________________________________________________________________\n",
      "activation_4 (Activation)    (None, 14, 14, 64)        0         \n",
      "_________________________________________________________________\n",
      "d_conv_2 (Conv2D)            (None, 7, 7, 128)         204928    \n",
      "_________________________________________________________________\n",
      "activation_5 (Activation)    (None, 7, 7, 128)         0         \n",
      "_________________________________________________________________\n",
      "flatten_1 (Flatten)          (None, 6272)              0         \n",
      "_________________________________________________________________\n",
      "d_dense_1 (Dense)            (None, 256)               1605888   \n",
      "_________________________________________________________________\n",
      "activation_6 (Activation)    (None, 256)               0         \n",
      "_________________________________________________________________\n",
      "d_dense_2 (Dense)            (None, 1)                 257       \n",
      "_________________________________________________________________\n",
      "activation_7 (Activation)    (None, 1)                 0         \n",
      "=================================================================\n",
      "Total params: 1,812,737\n",
      "Trainable params: 1,812,737\n",
      "Non-trainable params: 0\n",
      "_________________________________________________________________\n"
     ]
    },
    {
     "name": "stderr",
     "output_type": "stream",
     "text": [
      "/anaconda3/envs/dl4swift27/lib/python2.7/site-packages/keras/engine/saving.py:327: UserWarning: Error in loading the saved optimizer state. As a result, your model is starting with a freshly initialized optimizer.\n",
      "  warnings.warn('Error in loading the saved optimizer '\n"
     ]
    }
   ],
   "source": [
    "DISCRIMINATOR_FILE = '/Users/joshua.newnham/Dropbox/my projects/DL4Swift/Hands-On-Deep-Learning-with-Swift/Chapter06/WIP/Notebooks/tf_weights/dcgan_discriminator.h5'\n",
    "discriminator = keras.models.load_model(DISCRIMINATOR_FILE)\n",
    "discriminator.summary()\n",
    "\n"
   ]
  },
  {
   "cell_type": "code",
   "execution_count": 7,
   "metadata": {},
   "outputs": [
    {
     "name": "stdout",
     "output_type": "stream",
     "text": [
      "input_1\n",
      "d_conv_1\n",
      "Exporting weights for d_conv_1\n",
      "\texports/d_conv_1_conv.data\n",
      "\texports/d_conv_1_bias.data\n",
      "\n",
      "\n",
      "\tOriginal weights shape (5, 5, 1, 64)\n",
      "\tOriginal bias shape (64,)\n",
      "\tReshaped weights shape (64, 5, 5, 1)\n",
      "\tReshaped bias_coef shape (64,)\n",
      "\n",
      "\n",
      "activation_4\n",
      "d_conv_2\n",
      "Exporting weights for d_conv_2\n",
      "\texports/d_conv_2_conv.data\n",
      "\texports/d_conv_2_bias.data\n",
      "\n",
      "\n",
      "\tOriginal weights shape (5, 5, 64, 128)\n",
      "\tOriginal bias shape (128,)\n",
      "\tReshaped weights shape (128, 5, 5, 64)\n",
      "\tReshaped bias_coef shape (128,)\n",
      "\n",
      "\n",
      "activation_5\n",
      "flatten_1\n",
      "d_dense_1\n",
      "Exporting weights for d_dense_1\n",
      "\texports/d_dense_1_conv.data\n",
      "\texports/d_dense_1_bias.data\n",
      "\tOriginal weights shape (6272, 256)\n",
      "\tOriginal bias shape (256,)\n",
      "\tReshaped weights shape (256, 7, 7, 128)\n",
      "\tReshaped bias_coef shape (256,)\n",
      "\n",
      "\n",
      "activation_6\n",
      "d_dense_2\n",
      "Exporting weights for d_dense_2\n",
      "\texports/d_dense_2_conv.data\n",
      "\texports/d_dense_2_bias.data\n",
      "\tOriginal weights shape (256, 1)\n",
      "\tOriginal bias shape (1,)\n",
      "\tReshaped weights shape (1, 1, 1, 256)\n",
      "\tReshaped bias_coef shape ()\n",
      "\n",
      "\n",
      "activation_7\n"
     ]
    }
   ],
   "source": [
    "flatted_input_kernel_width = None\n",
    "flatted_input_kernel_height = None\n",
    "\n",
    "for layer in discriminator.layers:        \n",
    "    print(layer.name)\n",
    "    if \"flatten\" in layer.name:        \n",
    "        flatted_input_kernel_width = layer.input_shape[1] \n",
    "        flatted_input_kernel_height = layer.input_shape[2] \n",
    "        \n",
    "    if len(layer.get_weights()) > 0:        \n",
    "        name = layer.name         \n",
    "        wts = layer.get_weights()        \n",
    "        \n",
    "        if \"conv\" in name:\n",
    "            export_conv_weights(layer.name, wts[0], wts[1] if len(wts) == 2 else None)        \n",
    "        else:\n",
    "            export_dense_weights(layer.name, wts[0], wts[1] if len(wts) == 2 else None, \n",
    "                                flatted_input_kernel_width, flatted_input_kernel_height)        \n",
    "            # after the initial pass (from cnn to fcn); flattern the kernel down to 1x1 \n",
    "            # i.e. update the flatted_input_kernel_DIM to have the kernel width and height of 1 \n",
    "            flatted_input_kernel_width, flatted_input_kernel_height = 1, 1"
   ]
  },
  {
   "cell_type": "code",
   "execution_count": 8,
   "metadata": {},
   "outputs": [
    {
     "name": "stdout",
     "output_type": "stream",
     "text": [
      "input_2\n",
      "g_dense_1\n",
      "activation_8\n",
      "reshape_1\n",
      "up_sampling2d_1\n",
      "g_conv_1\n",
      "activation_9\n",
      "up_sampling2d_2\n",
      "g_conv_2\n",
      "activation_10\n"
     ]
    }
   ],
   "source": [
    "for layer in generator.layers:\n",
    "    print(layer.name)"
   ]
  },
  {
   "cell_type": "code",
   "execution_count": 9,
   "metadata": {},
   "outputs": [
    {
     "name": "stdout",
     "output_type": "stream",
     "text": [
      "input_2 output shape (?, 100)\n",
      "g_dense_1 output shape (?, 6272)\n",
      "Exporting weights for g_dense_1\n",
      "\texports/g_dense_1_conv.data\n",
      "\texports/g_dense_1_bias.data\n",
      "\tOriginal weights shape (100, 6272)\n",
      "\tOriginal bias shape (6272,)\n",
      "\tReshaped weights shape (6272, 100, 1, 1)\n",
      "\tReshaped bias_coef shape (6272,)\n",
      "\n",
      "\n",
      "activation_8 output shape (?, 6272)\n",
      "reshape_1 output shape (?, 7, 7, 128)\n",
      "up_sampling2d_1 output shape (?, 14, 14, 128)\n",
      "g_conv_1 output shape (?, 14, 14, 64)\n",
      "Exporting weights for g_conv_1\n",
      "\texports/g_conv_1_conv.data\n",
      "\texports/g_conv_1_bias.data\n",
      "\n",
      "\n",
      "\tOriginal weights shape (5, 5, 128, 64)\n",
      "\tOriginal bias shape (64,)\n",
      "\tReshaped weights shape (64, 5, 5, 128)\n",
      "\tReshaped bias_coef shape (64,)\n",
      "\n",
      "\n",
      "activation_9 output shape (?, 14, 14, 64)\n",
      "up_sampling2d_2 output shape (?, 28, 28, 64)\n",
      "g_conv_2 output shape (?, 28, 28, 1)\n",
      "Exporting weights for g_conv_2\n",
      "\texports/g_conv_2_conv.data\n",
      "\texports/g_conv_2_bias.data\n",
      "\n",
      "\n",
      "\tOriginal weights shape (5, 5, 64, 1)\n",
      "\tOriginal bias shape (1,)\n",
      "\tReshaped weights shape (1, 5, 5, 64)\n",
      "\tReshaped bias_coef shape ()\n",
      "\n",
      "\n",
      "activation_10 output shape (?, 28, 28, 1)\n"
     ]
    }
   ],
   "source": [
    "flatted_input_kernel_width = 100\n",
    "flatted_input_kernel_height = 1\n",
    "\n",
    "for layer in generator.layers:  \n",
    "    print(\"{} output shape {}\".format(layer.name, layer.output.shape))\n",
    "    \n",
    "    if \"flatten\" in layer.name:\n",
    "        flatted_input_kernel_width = layer.input_shape[1] \n",
    "        flatted_input_kernel_height = layer.input_shape[2] \n",
    "        \n",
    "    if len(layer.get_weights()) > 0:        \n",
    "        name = layer.name         \n",
    "        wts = layer.get_weights()\n",
    "        \n",
    "        if \"conv\" in name:\n",
    "            export_conv_weights(layer.name, wts[0], wts[1] if len(wts) == 2 else None)        \n",
    "        else:\n",
    "            export_dense_weights(layer.name, wts[0], wts[1] if len(wts) == 2 else None, \n",
    "                                flatted_input_kernel_width, flatted_input_kernel_height)        \n",
    "            # after the initial pass (from cnn to fcn); flattern the kernel down to 1x1 \n",
    "            # i.e. update the flatted_input_kernel_DIM to have the kernel width and height of 1 \n",
    "            flatted_input_kernel_width, flatted_input_kernel_height = 1, 1"
   ]
  },
  {
   "cell_type": "code",
   "execution_count": null,
   "metadata": {},
   "outputs": [],
   "source": []
  }
 ],
 "metadata": {
  "kernelspec": {
   "display_name": "dl4swift27",
   "language": "python",
   "name": "dl4swift27"
  },
  "language_info": {
   "codemirror_mode": {
    "name": "ipython",
    "version": 2
   },
   "file_extension": ".py",
   "mimetype": "text/x-python",
   "name": "python",
   "nbconvert_exporter": "python",
   "pygments_lexer": "ipython2",
   "version": "2.7.15"
  }
 },
 "nbformat": 4,
 "nbformat_minor": 2
}
