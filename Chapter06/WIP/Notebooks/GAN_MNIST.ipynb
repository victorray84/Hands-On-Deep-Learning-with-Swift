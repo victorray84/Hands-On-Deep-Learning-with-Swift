{
  "nbformat": 4,
  "nbformat_minor": 0,
  "metadata": {
    "colab": {
      "name": "GAN_MNIST.ipynb",
      "version": "0.3.2",
      "provenance": [],
      "collapsed_sections": []
    },
    "kernelspec": {
      "name": "python3",
      "display_name": "Python 3"
    },
    "accelerator": "GPU"
  },
  "cells": [
    {
      "metadata": {
        "id": "D5a6ThjIh4_u",
        "colab_type": "code",
        "colab": {}
      },
      "cell_type": "code",
      "source": [
        "from tqdm import tqdm"
      ],
      "execution_count": 0,
      "outputs": []
    },
    {
      "metadata": {
        "id": "ILfUKsCUL1qu",
        "colab_type": "code",
        "colab": {}
      },
      "cell_type": "code",
      "source": [
        "import os \n",
        "import sys\n",
        "import math \n",
        "import numpy as np\n",
        "from PIL import Image"
      ],
      "execution_count": 0,
      "outputs": []
    },
    {
      "metadata": {
        "id": "95uGViByL6nk",
        "colab_type": "code",
        "outputId": "e72d60fe-e0a1-4ebd-c16b-8f2ef1a48636",
        "colab": {
          "base_uri": "https://localhost:8080/",
          "height": 35
        }
      },
      "cell_type": "code",
      "source": [
        "from keras import layers\n",
        "from keras import models\n",
        "from keras import callbacks\n",
        "from keras import activations\n",
        "from keras.layers import advanced_activations\n",
        "from keras import optimizers\n",
        "from keras.datasets import mnist"
      ],
      "execution_count": 3,
      "outputs": [
        {
          "output_type": "stream",
          "text": [
            "Using TensorFlow backend.\n"
          ],
          "name": "stderr"
        }
      ]
    },
    {
      "metadata": {
        "id": "rwi27pBrL_0i",
        "colab_type": "code",
        "colab": {}
      },
      "cell_type": "code",
      "source": [
        "%matplotlib inline\n",
        "\n",
        "import matplotlib\n",
        "import matplotlib.pyplot as plt"
      ],
      "execution_count": 0,
      "outputs": []
    },
    {
      "metadata": {
        "id": "Hn2LqYzhMD5s",
        "colab_type": "code",
        "colab": {
          "base_uri": "https://localhost:8080/",
          "height": 71
        },
        "outputId": "85567e62-4c3d-4623-81e8-fb17893bcf7f"
      },
      "cell_type": "code",
      "source": [
        "(X_train, _), (_, _) = mnist.load_data()\n",
        "\n",
        "X_train = (X_train.astype('float32') - 127.5)/127.5\n",
        "X_train = np.expand_dims(X_train, axis=len(X_train.shape))\n",
        "X_train.shape"
      ],
      "execution_count": 5,
      "outputs": [
        {
          "output_type": "stream",
          "text": [
            "Downloading data from https://s3.amazonaws.com/img-datasets/mnist.npz\n",
            "11493376/11490434 [==============================] - 1s 0us/step\n"
          ],
          "name": "stdout"
        },
        {
          "output_type": "execute_result",
          "data": {
            "text/plain": [
              "(60000, 28, 28, 1)"
            ]
          },
          "metadata": {
            "tags": []
          },
          "execution_count": 5
        }
      ]
    },
    {
      "metadata": {
        "id": "5bBG4VaYMG0W",
        "colab_type": "code",
        "outputId": "c81f50c4-3674-4d1f-ace7-fa1ddee7526d",
        "colab": {
          "base_uri": "https://localhost:8080/",
          "height": 130
        }
      },
      "cell_type": "code",
      "source": [
        "n=5\n",
        "plt.figure(figsize=(20, 4))\n",
        "for i in range(n):\n",
        "    ax = plt.subplot(2, n, i + 1)\n",
        "    plt.imshow(X_train[i+10].reshape(28,28))\n",
        "    plt.gray()\n",
        "    ax.get_xaxis().set_visible(False)\n",
        "    ax.get_yaxis().set_visible(False)    \n",
        "plt.show()"
      ],
      "execution_count": 6,
      "outputs": [
        {
          "output_type": "display_data",
          "data": {
            "image/png": "[encoded data removed]",
            "text/plain": [
              "<Figure size 1440x288 with 5 Axes>"
            ]
          },
          "metadata": {
            "tags": []
          }
        }
      ]
    },
    {
      "metadata": {
        "id": "7YAJga0-MIq_",
        "colab_type": "code",
        "colab": {}
      },
      "cell_type": "code",
      "source": [
        "def create_conv_layer(x, output_features, apply_batch_norm=False, \n",
        "                      kernel=5, stride=2, activation=layers.Activation('relu'), name=None):\n",
        "    \n",
        "    # convolutional layer\n",
        "    x = layers.Conv2D(\n",
        "        filters=output_features, \n",
        "        kernel_size=(kernel, kernel), \n",
        "        strides=(stride, stride), \n",
        "        padding='same',\n",
        "        activation=None, \n",
        "        name=name)(x) \n",
        "    \n",
        "    # apply batch norm \n",
        "    if apply_batch_norm:\n",
        "        x = layers.BatchNormalization()(x)\n",
        "      \n",
        "    # apply activation function \n",
        "    if activation:\n",
        "        x = activation(x) \n",
        "    \n",
        "    return x"
      ],
      "execution_count": 0,
      "outputs": []
    },
    {
      "metadata": {
        "id": "1C5lN4H2MKnw",
        "colab_type": "code",
        "colab": {}
      },
      "cell_type": "code",
      "source": [
        "def create_transpose_conv_layer(x, output_features, apply_batch_norm=False, \n",
        "                      kernel=5, stride=1, activation=layers.Activation('relu'), upscale=2, name=None):\n",
        "    \n",
        "    # upsample the image \n",
        "    x = layers.UpSampling2D(size=(upscale, upscale))(x)\n",
        "    \n",
        "    # convolutional layer\n",
        "    x = layers.Conv2D(\n",
        "        filters=output_features, \n",
        "        kernel_size=(kernel, kernel), \n",
        "        strides=(stride, stride), \n",
        "        padding='same', \n",
        "        activation=None, \n",
        "        name=name)(x)\n",
        "    \n",
        "    # apply batch norm \n",
        "    if apply_batch_norm:\n",
        "        x = layers.BatchNormalization()(x)\n",
        "        \n",
        "    # apply activation function \n",
        "    if activation:\n",
        "        x = activation(x) \n",
        "        \n",
        "    return x "
      ],
      "execution_count": 0,
      "outputs": []
    },
    {
      "metadata": {
        "id": "mBwpHhhmMMPN",
        "colab_type": "code",
        "colab": {}
      },
      "cell_type": "code",
      "source": [
        "def create_dense_layer(x, output_features, apply_batch_norm=False, \n",
        "                      activation=layers.Activation('relu'), name=None):\n",
        "\n",
        "    x = layers.Dense(output_features, activation=None, name=name)(x) \n",
        "    \n",
        "    if apply_batch_norm:\n",
        "        x = layers.BatchNormalization()(x) \n",
        "        \n",
        "    if activation:\n",
        "        x = activation(x) \n",
        "        \n",
        "    return x"
      ],
      "execution_count": 0,
      "outputs": []
    },
    {
      "metadata": {
        "id": "W4RR4qy1MNuQ",
        "colab_type": "code",
        "colab": {}
      },
      "cell_type": "code",
      "source": [
        "def create_generator(latent_size=100, width=28, height=28, channels=1):\n",
        "    x_input = layers.Input((latent_size,))\n",
        "    \n",
        "    x = create_dense_layer(x_input, \n",
        "                           7*7*128, \n",
        "                           False, \n",
        "                           advanced_activations.LeakyReLU(0.2), name='g_dense_1')\n",
        "    \n",
        "    x = layers.Reshape((7, 7, 128))(x)    \n",
        "    \n",
        "    x = create_transpose_conv_layer(x, \n",
        "                                    64, \n",
        "                                    False, \n",
        "                                    activation=advanced_activations.LeakyReLU(0.2), name='g_conv_1')\n",
        "    \n",
        "    x = create_transpose_conv_layer(x, \n",
        "                                    1, \n",
        "                                    False, \n",
        "                                    activation=layers.Activation('tanh'), name='g_conv_2')\n",
        "    \n",
        "    return models.Model(inputs=x_input, outputs=x)    "
      ],
      "execution_count": 0,
      "outputs": []
    },
    {
      "metadata": {
        "id": "6FzF6_vBMPpG",
        "colab_type": "code",
        "colab": {}
      },
      "cell_type": "code",
      "source": [
        "def create_discriminator(width=28, height=28, channels=1):\n",
        "    x_input = layers.Input((width, height, channels,))    \n",
        "    \n",
        "    x = create_conv_layer(x_input, \n",
        "                          64, \n",
        "                          kernel=5, \n",
        "                          stride=2, \n",
        "                          apply_batch_norm=False, \n",
        "                          activation=advanced_activations.LeakyReLU(0.2), \n",
        "                          name='d_conv_1')\n",
        "    \n",
        "    x = create_conv_layer(x_input, \n",
        "                          128, \n",
        "                          kernel=5, \n",
        "                          stride=2, \n",
        "                          apply_batch_norm=False, \n",
        "                          activation=advanced_activations.LeakyReLU(0.2), \n",
        "                          name='d_conv_2')\n",
        "    \n",
        "    x = layers.Flatten()(x) \n",
        "    \n",
        "    x = create_dense_layer(x, \n",
        "                           256, \n",
        "                           False, \n",
        "                           advanced_activations.LeakyReLU(0.2), \n",
        "                           name='d_dense_1')\n",
        "    \n",
        "    x = create_dense_layer(x, \n",
        "                           1, \n",
        "                           False, \n",
        "                           layers.Activation('sigmoid'), \n",
        "                           name='d_dense_2')\n",
        "    \n",
        "    return models.Model(inputs=x_input, outputs=x)"
      ],
      "execution_count": 0,
      "outputs": []
    },
    {
      "metadata": {
        "id": "Ojh55MOPMSIv",
        "colab_type": "code",
        "colab": {}
      },
      "cell_type": "code",
      "source": [
        "def create_gan(generator, discriminator, latent_size=100):\n",
        "  discriminator.trainable = False\n",
        "  \n",
        "  x_input = layers.Input((latent_size,))\n",
        "  x = generator(x_input)\n",
        "  output = discriminator(x)\n",
        "  \n",
        "  model = models.Model(inputs=x_input, outputs=output)  \n",
        "\n",
        "  return model"
      ],
      "execution_count": 0,
      "outputs": []
    },
    {
      "metadata": {
        "id": "A0UnPCdvMUBA",
        "colab_type": "code",
        "colab": {}
      },
      "cell_type": "code",
      "source": [
        "z_shape = 100\n",
        "\n",
        "#batch_size = 32\n",
        "batch_size = 4\n",
        "epochs = 50\n",
        "lr = 0.0002  # initial learning rate\n",
        "b_1 = 0.5  # momentum term"
      ],
      "execution_count": 0,
      "outputs": []
    },
    {
      "metadata": {
        "id": "yrYiTYNmM6XJ",
        "colab_type": "code",
        "outputId": "bb6248a1-f8ce-4ce1-a78a-8ac4f94588f1",
        "colab": {
          "base_uri": "https://localhost:8080/",
          "height": 35
        }
      },
      "cell_type": "code",
      "source": [
        "# Load data \n",
        "from google.colab import drive\n",
        "drive.mount('/content/gdrive')"
      ],
      "execution_count": 31,
      "outputs": [
        {
          "output_type": "stream",
          "text": [
            "Drive already mounted at /content/gdrive; to attempt to forcibly remount, call drive.mount(\"/content/gdrive\", force_remount=True).\n"
          ],
          "name": "stdout"
        }
      ]
    },
    {
      "metadata": {
        "id": "wKNogOumMVjt",
        "colab_type": "code",
        "colab": {}
      },
      "cell_type": "code",
      "source": [
        "EXPORT_DIR = \"/content/gdrive/My Drive/Notebooks/exports_mnist_5_samples/\"\n",
        "EXPORT_DIR_WEIGHTS = \"/content/gdrive/My Drive/Notebooks/exports_mnist_5_weights/\"\n",
        "\n",
        "if not os.path.exists(EXPORT_DIR):\n",
        "  os.mkdir(EXPORT_DIR)\n",
        "  \n",
        "if not os.path.exists(EXPORT_DIR_WEIGHTS):\n",
        "  os.mkdir(EXPORT_DIR_WEIGHTS)"
      ],
      "execution_count": 0,
      "outputs": []
    },
    {
      "metadata": {
        "id": "mABleBtTMz9T",
        "colab_type": "code",
        "colab": {}
      },
      "cell_type": "code",
      "source": [
        "#!ls \"/content/gdrive/My Drive/Notebooks/exports_mnist_gan_3_no_batch_norm/\""
      ],
      "execution_count": 0,
      "outputs": []
    },
    {
      "metadata": {
        "id": "IxN5lWMAN1YS",
        "colab_type": "code",
        "colab": {}
      },
      "cell_type": "code",
      "source": [
        "# Define optimizers\n",
        "optimizer = optimizers.Adam(lr=lr, beta_1=b_1)\n",
        "# optimizer = optimizers.RMSprop(lr=lr)\n",
        "#optimizer = optimizers.SGD(lr=lr, momentum=0.5)"
      ],
      "execution_count": 0,
      "outputs": []
    },
    {
      "metadata": {
        "id": "Sx9RlMzNNsfH",
        "colab_type": "code",
        "colab": {}
      },
      "cell_type": "code",
      "source": [
        "discriminator = create_discriminator()\n",
        "discriminator.compile(loss='binary_crossentropy',optimizer=optimizer)\n",
        "\n",
        "generator = create_generator()\n",
        "generator.compile(loss='binary_crossentropy', optimizer=optimizer)\n",
        "\n",
        "gan = create_gan(generator, discriminator)\n",
        "gan.compile(loss='binary_crossentropy', optimizer=optimizer)"
      ],
      "execution_count": 0,
      "outputs": []
    },
    {
      "metadata": {
        "id": "MBKI3i4QkYix",
        "colab_type": "code",
        "colab": {
          "base_uri": "https://localhost:8080/",
          "height": 487
        },
        "outputId": "02eb013b-6fe2-44a5-e0e8-694f1b0d8cf9"
      },
      "cell_type": "code",
      "source": [
        "discriminator.summary()"
      ],
      "execution_count": 36,
      "outputs": [
        {
          "output_type": "stream",
          "text": [
            "_________________________________________________________________\n",
            "Layer (type)                 Output Shape              Param #   \n",
            "=================================================================\n",
            "input_2 (InputLayer)         (None, 28, 28, 1)         0         \n",
            "_________________________________________________________________\n",
            "d_conv_2 (Conv2D)            (None, 14, 14, 128)       3328      \n",
            "_________________________________________________________________\n",
            "leaky_re_lu_5 (LeakyReLU)    (None, 14, 14, 128)       0         \n",
            "_________________________________________________________________\n",
            "flatten_2 (Flatten)          (None, 25088)             0         \n",
            "_________________________________________________________________\n",
            "d_dense_1 (Dense)            (None, 256)               6422784   \n",
            "_________________________________________________________________\n",
            "leaky_re_lu_6 (LeakyReLU)    (None, 256)               0         \n",
            "_________________________________________________________________\n",
            "d_dense_2 (Dense)            (None, 1)                 257       \n",
            "_________________________________________________________________\n",
            "activation_7 (Activation)    (None, 1)                 0         \n",
            "=================================================================\n",
            "Total params: 12,852,738\n",
            "Trainable params: 6,426,369\n",
            "Non-trainable params: 6,426,369\n",
            "_________________________________________________________________\n"
          ],
          "name": "stdout"
        },
        {
          "output_type": "stream",
          "text": [
            "/usr/local/lib/python3.6/dist-packages/keras/engine/training.py:490: UserWarning: Discrepancy between trainable weights and collected trainable weights, did you set `model.trainable` without calling `model.compile` after ?\n",
            "  'Discrepancy between trainable weights and collected trainable'\n"
          ],
          "name": "stderr"
        }
      ]
    },
    {
      "metadata": {
        "id": "a31mQVUWkekd",
        "colab_type": "code",
        "colab": {
          "base_uri": "https://localhost:8080/",
          "height": 503
        },
        "outputId": "6d52154d-7d01-4795-8b3d-cbf3a95fd7b5"
      },
      "cell_type": "code",
      "source": [
        "generator.summary()"
      ],
      "execution_count": 37,
      "outputs": [
        {
          "output_type": "stream",
          "text": [
            "_________________________________________________________________\n",
            "Layer (type)                 Output Shape              Param #   \n",
            "=================================================================\n",
            "input_3 (InputLayer)         (None, 100)               0         \n",
            "_________________________________________________________________\n",
            "g_dense_1 (Dense)            (None, 6272)              633472    \n",
            "_________________________________________________________________\n",
            "leaky_re_lu_7 (LeakyReLU)    (None, 6272)              0         \n",
            "_________________________________________________________________\n",
            "reshape_1 (Reshape)          (None, 7, 7, 128)         0         \n",
            "_________________________________________________________________\n",
            "up_sampling2d_1 (UpSampling2 (None, 14, 14, 128)       0         \n",
            "_________________________________________________________________\n",
            "g_conv_1 (Conv2D)            (None, 14, 14, 64)        204864    \n",
            "_________________________________________________________________\n",
            "leaky_re_lu_8 (LeakyReLU)    (None, 14, 14, 64)        0         \n",
            "_________________________________________________________________\n",
            "up_sampling2d_2 (UpSampling2 (None, 28, 28, 64)        0         \n",
            "_________________________________________________________________\n",
            "g_conv_2 (Conv2D)            (None, 28, 28, 1)         1601      \n",
            "_________________________________________________________________\n",
            "activation_8 (Activation)    (None, 28, 28, 1)         0         \n",
            "=================================================================\n",
            "Total params: 839,937\n",
            "Trainable params: 839,937\n",
            "Non-trainable params: 0\n",
            "_________________________________________________________________\n"
          ],
          "name": "stdout"
        }
      ]
    },
    {
      "metadata": {
        "id": "LrdnhIImNpYw",
        "colab_type": "code",
        "colab": {}
      },
      "cell_type": "code",
      "source": [
        "# if os.path.exists('/content/gdrive/My Drive/Notebooks/exports_mnist_gan/mnist_gan_weights_checkpoint.h5'):\n",
        "#   gan.load_weights('/content/gdrive/My Drive/Notebooks/exports_mnist_gan/mnist_gan_weights_checkpoint.h5')"
      ],
      "execution_count": 0,
      "outputs": []
    },
    {
      "metadata": {
        "id": "IW0tWXLfObgK",
        "colab_type": "code",
        "colab": {}
      },
      "cell_type": "code",
      "source": [
        "# if os.path.exists('/content/gdrive/My Drive/Notebooks/exports_mnist_gan/mnist_dis_weights_checkpoint.h5'):\n",
        "#   discriminator.load_weights('/content/gdrive/My Drive/Notebooks/exports_mnist_gan/mnist_dis_weights_checkpoint.h5')"
      ],
      "execution_count": 0,
      "outputs": []
    },
    {
      "metadata": {
        "id": "Pp8oS1dzftYC",
        "colab_type": "code",
        "colab": {}
      },
      "cell_type": "code",
      "source": [
        "def combine_images(generated_images):\n",
        "  total,width,height = generated_images.shape[:-1]\n",
        "  cols = int(math.sqrt(total))\n",
        "  rows = math.ceil(float(total)/cols)\n",
        "  combined_image = np.zeros((height*rows, width*cols),\n",
        "                            dtype=generated_images.dtype)\n",
        "\n",
        "  for index, image in enumerate(generated_images):\n",
        "      i = int(index/cols)\n",
        "      j = index % cols\n",
        "      combined_image[width*i:width*(i+1), height*j:height*(j+1)] = image[:, :, 0]\n",
        "  return combined_image"
      ],
      "execution_count": 0,
      "outputs": []
    },
    {
      "metadata": {
        "id": "QCZ9_Qhodbhx",
        "colab_type": "code",
        "colab": {
          "base_uri": "https://localhost:8080/",
          "height": 271
        },
        "outputId": "e69dc279-57ba-453b-fb68-5609d7738245"
      },
      "cell_type": "code",
      "source": [
        "d_loss_array = []\n",
        "g_loss_array = []\n",
        "\n",
        "num_batches = int(X_train.shape[0] / batch_size)\n",
        "\n",
        "print(\"-------------------\")\n",
        "print(\"Total epoch:\", epochs, \"Number of batches:\", num_batches)\n",
        "print(\"-------------------\")\n",
        "\n",
        "#z_pred = np.array([np.random.uniform(-1,1,z_shape) for _ in range(49)])\n",
        "z_pred = np.array([np.random.normal(0.0,0.5,z_shape) for _ in range(49)])\n",
        "\n",
        "y_g = [1] * batch_size\n",
        "y_d_true = [1] * batch_size\n",
        "y_d_gen = [0] * batch_size\n",
        "\n",
        "for epoch in list(map(lambda x: x+1,range(epochs))):\n",
        "  for index in range(num_batches):\n",
        "    X_d_true = X_train[index*batch_size:(index+1)*batch_size]\n",
        "    X_g = np.array([np.random.normal(0,0.5,z_shape) for _ in range(batch_size)])\n",
        "    X_d_gen = generator.predict(X_g, verbose=0)\n",
        "    \n",
        "    # train discriminator\n",
        "    d_loss = discriminator.train_on_batch(np.concatenate([X_d_true, X_d_gen]), np.concatenate([y_d_true, y_d_gen]))\n",
        "    d_loss_array.append(d_loss)\n",
        "    \n",
        "    # train generator\n",
        "    g_loss = gan.train_on_batch(X_g, y_g)\n",
        "    g_loss_array.append(g_loss)\n",
        "    \n",
        "  # save generated images\n",
        "  image = combine_images(generator.predict(z_pred))\n",
        "  image = image*127.5 + 127.5\n",
        "  Image.fromarray(image.astype(np.uint8)).save(EXPORT_DIR+\"%03depoch.png\" % (epoch))\n",
        "  print()\n",
        "  \n",
        "  # save models\n",
        "  generator.save(EXPORT_DIR + 'dcgan_generator.h5')\n",
        "  discriminator.save(EXPORT_DIR + 'dcgan_discriminator.h5')\n",
        "                                                 "
      ],
      "execution_count": 0,
      "outputs": [
        {
          "output_type": "stream",
          "text": [
            "-------------------\n",
            "Total epoch: 50 Number of batches: 15000\n",
            "-------------------\n",
            "WARNING:tensorflow:From /usr/local/lib/python3.6/dist-packages/tensorflow/python/ops/math_ops.py:3066: to_int32 (from tensorflow.python.ops.math_ops) is deprecated and will be removed in a future version.\n",
            "Instructions for updating:\n",
            "Use tf.cast instead.\n"
          ],
          "name": "stdout"
        },
        {
          "output_type": "stream",
          "text": [
            "/usr/local/lib/python3.6/dist-packages/keras/engine/training.py:490: UserWarning: Discrepancy between trainable weights and collected trainable weights, did you set `model.trainable` without calling `model.compile` after ?\n",
            "  'Discrepancy between trainable weights and collected trainable'\n"
          ],
          "name": "stderr"
        },
        {
          "output_type": "stream",
          "text": [
            "\n",
            "\n",
            "\n",
            "\n",
            "\n"
          ],
          "name": "stdout"
        }
      ]
    },
    {
      "metadata": {
        "id": "h5yviib1eyC9",
        "colab_type": "code",
        "colab": {
          "base_uri": "https://localhost:8080/",
          "height": 35
        },
        "outputId": "38229f6b-4ed8-4140-e342-fc1188021db5"
      },
      "cell_type": "code",
      "source": [
        "a = np.array([1,2,3])\n",
        "b = np.array([4,5,6])\n",
        "np.concatenate([a, b])"
      ],
      "execution_count": 28,
      "outputs": [
        {
          "output_type": "execute_result",
          "data": {
            "text/plain": [
              "array([1, 2, 3, 4, 5, 6])"
            ]
          },
          "metadata": {
            "tags": []
          },
          "execution_count": 28
        }
      ]
    },
    {
      "metadata": {
        "id": "rAgS_1IbOK_T",
        "colab_type": "code",
        "colab": {}
      },
      "cell_type": "code",
      "source": [
        "def save_rgb_img(img, path):\n",
        "    \"\"\"\n",
        "    Save a rgb image\n",
        "    \"\"\"\n",
        "    img = np.squeeze(img)\n",
        "    fig = plt.figure()\n",
        "    ax = fig.add_subplot(1, 1, 1)\n",
        "    #ax.imshow(img, interpolation='nearest', cmap='gray_r')\n",
        "    ax.imshow(img)\n",
        "    ax.axis(\"off\")\n",
        "    ax.set_title(\"RGB Image\")\n",
        "\n",
        "    plt.savefig(path)\n",
        "    plt.close()"
      ],
      "execution_count": 0,
      "outputs": []
    },
    {
      "metadata": {
        "id": "lnn3oazGPYvV",
        "colab_type": "code",
        "colab": {}
      },
      "cell_type": "code",
      "source": [
        "def generate_images():\n",
        "  z_noise = np.random.normal(0, 1, size=(batch_size, z_shape))\n",
        "  gen_images1 = generator.predict_on_batch(z_noise)\n",
        "  image_index = 0\n",
        "  for img in gen_images1[:20]:\n",
        "    save_rgb_img(img, \"/content/gdrive/My Drive/Notebooks/exports_mnist_gan_2/gen_epoch_{}_{}.png\".format(epoch, image_index))\n",
        "    image_index += 1"
      ],
      "execution_count": 0,
      "outputs": []
    },
    {
      "metadata": {
        "id": "MyYvMe1wOjhx",
        "colab_type": "code",
        "outputId": "a2defd84-ac80-4812-a4d9-7966067bfc25",
        "colab": {
          "base_uri": "https://localhost:8080/",
          "height": 9397
        }
      },
      "cell_type": "code",
      "source": [
        "d_loss_array = []\n",
        "g_loss_array = []\n",
        "\n",
        "for epoch in range(1, epochs+1):\n",
        "    print(\"Epoch \", epoch)\n",
        "    \n",
        "    number_of_batches = int(XTrain.shape[0] / batch_size)\n",
        "  \n",
        "    for index in tqdm(range(number_of_batches)):        \n",
        "        # *** train discriminator *** \n",
        "        z_noise = np.random.normal(0, 1, size=(batch_size, z_shape))\n",
        "        generated_images = generator.predict_on_batch(z_noise)\n",
        "        \n",
        "        image_batch = XTrain[index * batch_size:(index + 1) * batch_size]        \n",
        "        image_batch = np.expand_dims(image_batch, axis=-1)                \n",
        "        \n",
        "        x = np.concatenate([image_batch, generated_images])\n",
        "        \n",
        "        y_real = np.ones(batch_size) - (np.random.random_sample(batch_size) * 0.2)\n",
        "        y_fake = np.random.random_sample(batch_size) * 0.1\n",
        "        \n",
        "        y = np.concatenate([y_real, y_fake])\n",
        "\n",
        "        discriminator.trainable = True \n",
        "        # Train discriminator\n",
        "        d_loss = discriminator.train_on_batch(x, y)\n",
        "        d_loss_array.append(d_loss)\n",
        "                \n",
        "        # ** train gan *** \n",
        "        discriminator.trainable = False \n",
        "        z_noise = np.random.normal(0, 1, size=(batch_size, z_shape))\n",
        "        g_loss = gan.train_on_batch(z_noise, np.ones(batch_size))        \n",
        "        g_loss_array.append(g_loss)\n",
        "    \n",
        "#     print(\"d_loss:\", d_loss)\n",
        "#     print(\"g_loss:\", g_loss)\n",
        "    \n",
        "    gan.save_weights('/content/gdrive/My Drive/Notebooks/exports_mnist_gan_2/mnist_gan_weights_checkpoint.h5')\n",
        "    discriminator.save_weights('/content/gdrive/My Drive/Notebooks/exports_mnist_gan_2/mnist_dis_weights_checkpoint.h5')\n",
        "    \n",
        "    # *** generate samples *** \n",
        "    if epoch % 10 == 0:\n",
        "        #generate_images()\n",
        "        z_noise = np.random.normal(0, 1, size=(batch_size, z_shape))\n",
        "        gen_images1 = generator.predict_on_batch(z_noise)\n",
        "        for img in gen_images1[:2]:\n",
        "            save_rgb_img(img, \"/content/gdrive/My Drive/Notebooks/exports_mnist_gan_2/gen_epoch_{}.png\".format(epoch))"
      ],
      "execution_count": 0,
      "outputs": [
        {
          "output_type": "stream",
          "text": [
            "  0%|          | 0/468 [00:00<?, ?it/s]/usr/local/lib/python3.6/dist-packages/keras/engine/training.py:490: UserWarning: Discrepancy between trainable weights and collected trainable weights, did you set `model.trainable` without calling `model.compile` after ?\n",
            "  'Discrepancy between trainable weights and collected trainable'\n",
            "  1%|          | 3/468 [00:00<00:23, 20.15it/s]"
          ],
          "name": "stderr"
        },
        {
          "output_type": "stream",
          "text": [
            "Epoch  1\n"
          ],
          "name": "stdout"
        },
        {
          "output_type": "stream",
          "text": [
            "100%|██████████| 468/468 [00:17<00:00, 27.20it/s]\n",
            "  1%|          | 3/468 [00:00<00:17, 27.07it/s]"
          ],
          "name": "stderr"
        },
        {
          "output_type": "stream",
          "text": [
            "Epoch  2\n"
          ],
          "name": "stdout"
        },
        {
          "output_type": "stream",
          "text": [
            "100%|██████████| 468/468 [00:17<00:00, 27.41it/s]\n",
            "  1%|          | 3/468 [00:00<00:16, 27.43it/s]"
          ],
          "name": "stderr"
        },
        {
          "output_type": "stream",
          "text": [
            "Epoch  3\n"
          ],
          "name": "stdout"
        },
        {
          "output_type": "stream",
          "text": [
            "100%|██████████| 468/468 [00:17<00:00, 27.74it/s]\n",
            "  1%|          | 3/468 [00:00<00:16, 27.81it/s]"
          ],
          "name": "stderr"
        },
        {
          "output_type": "stream",
          "text": [
            "Epoch  4\n"
          ],
          "name": "stdout"
        },
        {
          "output_type": "stream",
          "text": [
            "100%|██████████| 468/468 [00:16<00:00, 27.54it/s]\n",
            "  1%|          | 3/468 [00:00<00:16, 27.67it/s]"
          ],
          "name": "stderr"
        },
        {
          "output_type": "stream",
          "text": [
            "Epoch  5\n"
          ],
          "name": "stdout"
        },
        {
          "output_type": "stream",
          "text": [
            "100%|██████████| 468/468 [00:17<00:00, 27.50it/s]\n",
            "  1%|          | 3/468 [00:00<00:16, 27.43it/s]"
          ],
          "name": "stderr"
        },
        {
          "output_type": "stream",
          "text": [
            "Epoch  6\n"
          ],
          "name": "stdout"
        },
        {
          "output_type": "stream",
          "text": [
            "100%|██████████| 468/468 [00:16<00:00, 27.38it/s]\n",
            "  1%|          | 3/468 [00:00<00:17, 26.63it/s]"
          ],
          "name": "stderr"
        },
        {
          "output_type": "stream",
          "text": [
            "Epoch  7\n"
          ],
          "name": "stdout"
        },
        {
          "output_type": "stream",
          "text": [
            "100%|██████████| 468/468 [00:16<00:00, 27.48it/s]\n",
            "  1%|          | 3/468 [00:00<00:16, 27.83it/s]"
          ],
          "name": "stderr"
        },
        {
          "output_type": "stream",
          "text": [
            "Epoch  8\n"
          ],
          "name": "stdout"
        },
        {
          "output_type": "stream",
          "text": [
            "100%|██████████| 468/468 [00:16<00:00, 27.67it/s]\n",
            "  1%|          | 3/468 [00:00<00:16, 27.89it/s]"
          ],
          "name": "stderr"
        },
        {
          "output_type": "stream",
          "text": [
            "Epoch  9\n"
          ],
          "name": "stdout"
        },
        {
          "output_type": "stream",
          "text": [
            "100%|██████████| 468/468 [00:16<00:00, 27.89it/s]\n",
            "  1%|          | 3/468 [00:00<00:16, 27.85it/s]"
          ],
          "name": "stderr"
        },
        {
          "output_type": "stream",
          "text": [
            "Epoch  10\n"
          ],
          "name": "stdout"
        },
        {
          "output_type": "stream",
          "text": [
            "100%|██████████| 468/468 [00:16<00:00, 27.63it/s]\n",
            "  1%|          | 3/468 [00:00<00:16, 28.13it/s]"
          ],
          "name": "stderr"
        },
        {
          "output_type": "stream",
          "text": [
            "Epoch  11\n"
          ],
          "name": "stdout"
        },
        {
          "output_type": "stream",
          "text": [
            "100%|██████████| 468/468 [00:16<00:00, 27.93it/s]\n",
            "  1%|          | 3/468 [00:00<00:16, 27.41it/s]"
          ],
          "name": "stderr"
        },
        {
          "output_type": "stream",
          "text": [
            "Epoch  12\n"
          ],
          "name": "stdout"
        },
        {
          "output_type": "stream",
          "text": [
            "100%|██████████| 468/468 [00:16<00:00, 27.73it/s]\n",
            "  1%|          | 3/468 [00:00<00:16, 28.23it/s]"
          ],
          "name": "stderr"
        },
        {
          "output_type": "stream",
          "text": [
            "Epoch  13\n"
          ],
          "name": "stdout"
        },
        {
          "output_type": "stream",
          "text": [
            "100%|██████████| 468/468 [00:16<00:00, 28.07it/s]\n",
            "  1%|          | 3/468 [00:00<00:16, 27.99it/s]"
          ],
          "name": "stderr"
        },
        {
          "output_type": "stream",
          "text": [
            "Epoch  14\n"
          ],
          "name": "stdout"
        },
        {
          "output_type": "stream",
          "text": [
            "100%|██████████| 468/468 [00:16<00:00, 27.96it/s]\n",
            "  1%|          | 3/468 [00:00<00:16, 27.97it/s]"
          ],
          "name": "stderr"
        },
        {
          "output_type": "stream",
          "text": [
            "Epoch  15\n"
          ],
          "name": "stdout"
        },
        {
          "output_type": "stream",
          "text": [
            "100%|██████████| 468/468 [00:16<00:00, 27.96it/s]\n",
            "  1%|          | 3/468 [00:00<00:16, 27.69it/s]"
          ],
          "name": "stderr"
        },
        {
          "output_type": "stream",
          "text": [
            "Epoch  16\n"
          ],
          "name": "stdout"
        },
        {
          "output_type": "stream",
          "text": [
            "100%|██████████| 468/468 [00:16<00:00, 27.81it/s]\n",
            "  1%|          | 3/468 [00:00<00:16, 27.82it/s]"
          ],
          "name": "stderr"
        },
        {
          "output_type": "stream",
          "text": [
            "Epoch  17\n"
          ],
          "name": "stdout"
        },
        {
          "output_type": "stream",
          "text": [
            "100%|██████████| 468/468 [00:16<00:00, 28.05it/s]\n",
            "  1%|          | 3/468 [00:00<00:16, 27.85it/s]"
          ],
          "name": "stderr"
        },
        {
          "output_type": "stream",
          "text": [
            "Epoch  18\n"
          ],
          "name": "stdout"
        },
        {
          "output_type": "stream",
          "text": [
            "100%|██████████| 468/468 [00:16<00:00, 27.70it/s]\n",
            "  1%|          | 3/468 [00:00<00:16, 27.94it/s]"
          ],
          "name": "stderr"
        },
        {
          "output_type": "stream",
          "text": [
            "Epoch  19\n"
          ],
          "name": "stdout"
        },
        {
          "output_type": "stream",
          "text": [
            "100%|██████████| 468/468 [00:16<00:00, 27.51it/s]\n",
            "  1%|          | 3/468 [00:00<00:16, 27.63it/s]"
          ],
          "name": "stderr"
        },
        {
          "output_type": "stream",
          "text": [
            "Epoch  20\n"
          ],
          "name": "stdout"
        },
        {
          "output_type": "stream",
          "text": [
            "100%|██████████| 468/468 [00:16<00:00, 27.55it/s]\n",
            "  1%|          | 3/468 [00:00<00:16, 28.36it/s]"
          ],
          "name": "stderr"
        },
        {
          "output_type": "stream",
          "text": [
            "Epoch  21\n"
          ],
          "name": "stdout"
        },
        {
          "output_type": "stream",
          "text": [
            "100%|██████████| 468/468 [00:16<00:00, 27.84it/s]\n",
            "  1%|          | 3/468 [00:00<00:16, 27.88it/s]"
          ],
          "name": "stderr"
        },
        {
          "output_type": "stream",
          "text": [
            "Epoch  22\n"
          ],
          "name": "stdout"
        },
        {
          "output_type": "stream",
          "text": [
            "100%|██████████| 468/468 [00:16<00:00, 27.83it/s]\n",
            "  1%|          | 3/468 [00:00<00:16, 27.64it/s]"
          ],
          "name": "stderr"
        },
        {
          "output_type": "stream",
          "text": [
            "Epoch  23\n"
          ],
          "name": "stdout"
        },
        {
          "output_type": "stream",
          "text": [
            "100%|██████████| 468/468 [00:16<00:00, 27.81it/s]\n",
            "  1%|          | 3/468 [00:00<00:16, 28.51it/s]"
          ],
          "name": "stderr"
        },
        {
          "output_type": "stream",
          "text": [
            "Epoch  24\n"
          ],
          "name": "stdout"
        },
        {
          "output_type": "stream",
          "text": [
            "100%|██████████| 468/468 [00:16<00:00, 27.77it/s]\n",
            "  1%|          | 3/468 [00:00<00:16, 27.56it/s]"
          ],
          "name": "stderr"
        },
        {
          "output_type": "stream",
          "text": [
            "Epoch  25\n"
          ],
          "name": "stdout"
        },
        {
          "output_type": "stream",
          "text": [
            "100%|██████████| 468/468 [00:16<00:00, 27.76it/s]\n",
            "  1%|          | 3/468 [00:00<00:16, 28.07it/s]"
          ],
          "name": "stderr"
        },
        {
          "output_type": "stream",
          "text": [
            "Epoch  26\n"
          ],
          "name": "stdout"
        },
        {
          "output_type": "stream",
          "text": [
            "100%|██████████| 468/468 [00:16<00:00, 27.90it/s]\n",
            "  1%|          | 3/468 [00:00<00:16, 27.82it/s]"
          ],
          "name": "stderr"
        },
        {
          "output_type": "stream",
          "text": [
            "Epoch  27\n"
          ],
          "name": "stdout"
        },
        {
          "output_type": "stream",
          "text": [
            "100%|██████████| 468/468 [00:16<00:00, 28.24it/s]\n",
            "  1%|          | 3/468 [00:00<00:16, 28.07it/s]"
          ],
          "name": "stderr"
        },
        {
          "output_type": "stream",
          "text": [
            "Epoch  28\n"
          ],
          "name": "stdout"
        },
        {
          "output_type": "stream",
          "text": [
            "100%|██████████| 468/468 [00:16<00:00, 27.97it/s]\n",
            "  1%|          | 3/468 [00:00<00:16, 28.10it/s]"
          ],
          "name": "stderr"
        },
        {
          "output_type": "stream",
          "text": [
            "Epoch  29\n"
          ],
          "name": "stdout"
        },
        {
          "output_type": "stream",
          "text": [
            "100%|██████████| 468/468 [00:16<00:00, 27.79it/s]\n",
            "  1%|          | 3/468 [00:00<00:16, 27.73it/s]"
          ],
          "name": "stderr"
        },
        {
          "output_type": "stream",
          "text": [
            "Epoch  30\n"
          ],
          "name": "stdout"
        },
        {
          "output_type": "stream",
          "text": [
            "100%|██████████| 468/468 [00:16<00:00, 27.86it/s]\n",
            "  1%|          | 3/468 [00:00<00:16, 27.88it/s]"
          ],
          "name": "stderr"
        },
        {
          "output_type": "stream",
          "text": [
            "Epoch  31\n"
          ],
          "name": "stdout"
        },
        {
          "output_type": "stream",
          "text": [
            "100%|██████████| 468/468 [00:16<00:00, 27.89it/s]\n",
            "  1%|          | 3/468 [00:00<00:16, 27.85it/s]"
          ],
          "name": "stderr"
        },
        {
          "output_type": "stream",
          "text": [
            "Epoch  32\n"
          ],
          "name": "stdout"
        },
        {
          "output_type": "stream",
          "text": [
            "100%|██████████| 468/468 [00:16<00:00, 27.59it/s]\n",
            "  1%|          | 3/468 [00:00<00:16, 28.05it/s]"
          ],
          "name": "stderr"
        },
        {
          "output_type": "stream",
          "text": [
            "Epoch  33\n"
          ],
          "name": "stdout"
        },
        {
          "output_type": "stream",
          "text": [
            "100%|██████████| 468/468 [00:16<00:00, 27.38it/s]\n",
            "  1%|          | 3/468 [00:00<00:16, 28.21it/s]"
          ],
          "name": "stderr"
        },
        {
          "output_type": "stream",
          "text": [
            "Epoch  34\n"
          ],
          "name": "stdout"
        },
        {
          "output_type": "stream",
          "text": [
            "100%|██████████| 468/468 [00:16<00:00, 27.48it/s]\n",
            "  1%|          | 3/468 [00:00<00:16, 27.68it/s]"
          ],
          "name": "stderr"
        },
        {
          "output_type": "stream",
          "text": [
            "Epoch  35\n"
          ],
          "name": "stdout"
        },
        {
          "output_type": "stream",
          "text": [
            "100%|██████████| 468/468 [00:16<00:00, 27.71it/s]\n",
            "  1%|          | 3/468 [00:00<00:16, 28.04it/s]"
          ],
          "name": "stderr"
        },
        {
          "output_type": "stream",
          "text": [
            "Epoch  36\n"
          ],
          "name": "stdout"
        },
        {
          "output_type": "stream",
          "text": [
            "100%|██████████| 468/468 [00:16<00:00, 27.39it/s]\n",
            "  1%|          | 3/468 [00:00<00:16, 28.34it/s]"
          ],
          "name": "stderr"
        },
        {
          "output_type": "stream",
          "text": [
            "Epoch  37\n"
          ],
          "name": "stdout"
        },
        {
          "output_type": "stream",
          "text": [
            "100%|██████████| 468/468 [00:16<00:00, 27.86it/s]\n",
            "  1%|          | 3/468 [00:00<00:16, 27.78it/s]"
          ],
          "name": "stderr"
        },
        {
          "output_type": "stream",
          "text": [
            "Epoch  38\n"
          ],
          "name": "stdout"
        },
        {
          "output_type": "stream",
          "text": [
            "100%|██████████| 468/468 [00:16<00:00, 27.75it/s]\n",
            "  1%|          | 3/468 [00:00<00:16, 27.95it/s]"
          ],
          "name": "stderr"
        },
        {
          "output_type": "stream",
          "text": [
            "Epoch  39\n"
          ],
          "name": "stdout"
        },
        {
          "output_type": "stream",
          "text": [
            "100%|██████████| 468/468 [00:16<00:00, 27.54it/s]\n",
            "  1%|          | 3/468 [00:00<00:16, 28.27it/s]"
          ],
          "name": "stderr"
        },
        {
          "output_type": "stream",
          "text": [
            "Epoch  40\n"
          ],
          "name": "stdout"
        },
        {
          "output_type": "stream",
          "text": [
            "100%|██████████| 468/468 [00:16<00:00, 27.72it/s]\n",
            "  1%|          | 3/468 [00:00<00:17, 26.62it/s]"
          ],
          "name": "stderr"
        },
        {
          "output_type": "stream",
          "text": [
            "Epoch  41\n"
          ],
          "name": "stdout"
        },
        {
          "output_type": "stream",
          "text": [
            "100%|██████████| 468/468 [00:16<00:00, 27.81it/s]\n",
            "  1%|          | 3/468 [00:00<00:16, 27.71it/s]"
          ],
          "name": "stderr"
        },
        {
          "output_type": "stream",
          "text": [
            "Epoch  42\n"
          ],
          "name": "stdout"
        },
        {
          "output_type": "stream",
          "text": [
            "100%|██████████| 468/468 [00:16<00:00, 27.73it/s]\n",
            "  1%|          | 3/468 [00:00<00:16, 27.77it/s]"
          ],
          "name": "stderr"
        },
        {
          "output_type": "stream",
          "text": [
            "Epoch  43\n"
          ],
          "name": "stdout"
        },
        {
          "output_type": "stream",
          "text": [
            "100%|██████████| 468/468 [00:16<00:00, 27.53it/s]\n",
            "  1%|          | 3/468 [00:00<00:17, 26.74it/s]"
          ],
          "name": "stderr"
        },
        {
          "output_type": "stream",
          "text": [
            "Epoch  44\n"
          ],
          "name": "stdout"
        },
        {
          "output_type": "stream",
          "text": [
            "100%|██████████| 468/468 [00:16<00:00, 27.78it/s]\n",
            "  1%|          | 3/468 [00:00<00:18, 25.49it/s]"
          ],
          "name": "stderr"
        },
        {
          "output_type": "stream",
          "text": [
            "Epoch  45\n"
          ],
          "name": "stdout"
        },
        {
          "output_type": "stream",
          "text": [
            "100%|██████████| 468/468 [00:16<00:00, 28.13it/s]\n",
            "  1%|          | 3/468 [00:00<00:17, 27.32it/s]"
          ],
          "name": "stderr"
        },
        {
          "output_type": "stream",
          "text": [
            "Epoch  46\n"
          ],
          "name": "stdout"
        },
        {
          "output_type": "stream",
          "text": [
            "100%|██████████| 468/468 [00:16<00:00, 27.85it/s]\n",
            "  1%|          | 3/468 [00:00<00:16, 27.78it/s]"
          ],
          "name": "stderr"
        },
        {
          "output_type": "stream",
          "text": [
            "Epoch  47\n"
          ],
          "name": "stdout"
        },
        {
          "output_type": "stream",
          "text": [
            "100%|██████████| 468/468 [00:16<00:00, 27.77it/s]\n",
            "  1%|          | 3/468 [00:00<00:16, 27.89it/s]"
          ],
          "name": "stderr"
        },
        {
          "output_type": "stream",
          "text": [
            "Epoch  48\n"
          ],
          "name": "stdout"
        },
        {
          "output_type": "stream",
          "text": [
            "100%|██████████| 468/468 [00:16<00:00, 28.03it/s]\n",
            "  1%|          | 3/468 [00:00<00:16, 27.82it/s]"
          ],
          "name": "stderr"
        },
        {
          "output_type": "stream",
          "text": [
            "Epoch  49\n"
          ],
          "name": "stdout"
        },
        {
          "output_type": "stream",
          "text": [
            "100%|██████████| 468/468 [00:16<00:00, 27.70it/s]\n",
            "  1%|          | 3/468 [00:00<00:16, 28.08it/s]"
          ],
          "name": "stderr"
        },
        {
          "output_type": "stream",
          "text": [
            "Epoch  50\n"
          ],
          "name": "stdout"
        },
        {
          "output_type": "stream",
          "text": [
            "100%|██████████| 468/468 [00:16<00:00, 27.76it/s]\n",
            "  1%|          | 3/468 [00:00<00:16, 28.20it/s]"
          ],
          "name": "stderr"
        },
        {
          "output_type": "stream",
          "text": [
            "Epoch  51\n"
          ],
          "name": "stdout"
        },
        {
          "output_type": "stream",
          "text": [
            "100%|██████████| 468/468 [00:16<00:00, 27.49it/s]\n",
            "  1%|          | 3/468 [00:00<00:16, 27.59it/s]"
          ],
          "name": "stderr"
        },
        {
          "output_type": "stream",
          "text": [
            "Epoch  52\n"
          ],
          "name": "stdout"
        },
        {
          "output_type": "stream",
          "text": [
            "100%|██████████| 468/468 [00:16<00:00, 27.64it/s]\n",
            "  1%|          | 3/468 [00:00<00:16, 27.62it/s]"
          ],
          "name": "stderr"
        },
        {
          "output_type": "stream",
          "text": [
            "Epoch  53\n"
          ],
          "name": "stdout"
        },
        {
          "output_type": "stream",
          "text": [
            "100%|██████████| 468/468 [00:16<00:00, 27.90it/s]\n",
            "  1%|          | 3/468 [00:00<00:16, 27.51it/s]"
          ],
          "name": "stderr"
        },
        {
          "output_type": "stream",
          "text": [
            "Epoch  54\n"
          ],
          "name": "stdout"
        },
        {
          "output_type": "stream",
          "text": [
            "100%|██████████| 468/468 [00:16<00:00, 27.92it/s]\n",
            "  1%|          | 3/468 [00:00<00:17, 27.21it/s]"
          ],
          "name": "stderr"
        },
        {
          "output_type": "stream",
          "text": [
            "Epoch  55\n"
          ],
          "name": "stdout"
        },
        {
          "output_type": "stream",
          "text": [
            "100%|██████████| 468/468 [00:16<00:00, 27.81it/s]\n",
            "  1%|          | 3/468 [00:00<00:17, 27.27it/s]"
          ],
          "name": "stderr"
        },
        {
          "output_type": "stream",
          "text": [
            "Epoch  56\n"
          ],
          "name": "stdout"
        },
        {
          "output_type": "stream",
          "text": [
            "100%|██████████| 468/468 [00:16<00:00, 27.75it/s]\n",
            "  1%|          | 3/468 [00:00<00:17, 26.59it/s]"
          ],
          "name": "stderr"
        },
        {
          "output_type": "stream",
          "text": [
            "Epoch  57\n"
          ],
          "name": "stdout"
        },
        {
          "output_type": "stream",
          "text": [
            "100%|██████████| 468/468 [00:16<00:00, 27.91it/s]\n",
            "  1%|          | 3/468 [00:00<00:17, 26.25it/s]"
          ],
          "name": "stderr"
        },
        {
          "output_type": "stream",
          "text": [
            "Epoch  58\n"
          ],
          "name": "stdout"
        },
        {
          "output_type": "stream",
          "text": [
            "100%|██████████| 468/468 [00:16<00:00, 27.64it/s]\n",
            "  1%|          | 3/468 [00:00<00:17, 26.28it/s]"
          ],
          "name": "stderr"
        },
        {
          "output_type": "stream",
          "text": [
            "Epoch  59\n"
          ],
          "name": "stdout"
        },
        {
          "output_type": "stream",
          "text": [
            "100%|██████████| 468/468 [00:16<00:00, 27.66it/s]\n",
            "  1%|          | 3/468 [00:00<00:17, 27.20it/s]"
          ],
          "name": "stderr"
        },
        {
          "output_type": "stream",
          "text": [
            "Epoch  60\n"
          ],
          "name": "stdout"
        },
        {
          "output_type": "stream",
          "text": [
            "100%|██████████| 468/468 [00:16<00:00, 27.75it/s]\n",
            "  1%|          | 3/468 [00:00<00:17, 26.02it/s]"
          ],
          "name": "stderr"
        },
        {
          "output_type": "stream",
          "text": [
            "Epoch  61\n"
          ],
          "name": "stdout"
        },
        {
          "output_type": "stream",
          "text": [
            "100%|██████████| 468/468 [00:16<00:00, 27.96it/s]\n",
            "  1%|          | 3/468 [00:00<00:16, 28.13it/s]"
          ],
          "name": "stderr"
        },
        {
          "output_type": "stream",
          "text": [
            "Epoch  62\n"
          ],
          "name": "stdout"
        },
        {
          "output_type": "stream",
          "text": [
            "100%|██████████| 468/468 [00:16<00:00, 27.39it/s]\n",
            "  1%|          | 3/468 [00:00<00:16, 28.13it/s]"
          ],
          "name": "stderr"
        },
        {
          "output_type": "stream",
          "text": [
            "Epoch  63\n"
          ],
          "name": "stdout"
        },
        {
          "output_type": "stream",
          "text": [
            "100%|██████████| 468/468 [00:16<00:00, 27.80it/s]\n",
            "  1%|          | 3/468 [00:00<00:16, 27.94it/s]"
          ],
          "name": "stderr"
        },
        {
          "output_type": "stream",
          "text": [
            "Epoch  64\n"
          ],
          "name": "stdout"
        },
        {
          "output_type": "stream",
          "text": [
            "100%|██████████| 468/468 [00:16<00:00, 27.38it/s]\n",
            "  1%|          | 3/468 [00:00<00:16, 27.61it/s]"
          ],
          "name": "stderr"
        },
        {
          "output_type": "stream",
          "text": [
            "Epoch  65\n"
          ],
          "name": "stdout"
        },
        {
          "output_type": "stream",
          "text": [
            "100%|██████████| 468/468 [00:16<00:00, 27.46it/s]\n",
            "  1%|          | 3/468 [00:00<00:16, 27.89it/s]"
          ],
          "name": "stderr"
        },
        {
          "output_type": "stream",
          "text": [
            "Epoch  66\n"
          ],
          "name": "stdout"
        },
        {
          "output_type": "stream",
          "text": [
            "100%|██████████| 468/468 [00:16<00:00, 27.90it/s]\n",
            "  1%|          | 3/468 [00:00<00:16, 27.62it/s]"
          ],
          "name": "stderr"
        },
        {
          "output_type": "stream",
          "text": [
            "Epoch  67\n"
          ],
          "name": "stdout"
        },
        {
          "output_type": "stream",
          "text": [
            "100%|██████████| 468/468 [00:16<00:00, 27.94it/s]\n",
            "  1%|          | 3/468 [00:00<00:17, 26.33it/s]"
          ],
          "name": "stderr"
        },
        {
          "output_type": "stream",
          "text": [
            "Epoch  68\n"
          ],
          "name": "stdout"
        },
        {
          "output_type": "stream",
          "text": [
            "100%|██████████| 468/468 [00:16<00:00, 27.64it/s]\n",
            "  1%|          | 3/468 [00:00<00:17, 27.00it/s]"
          ],
          "name": "stderr"
        },
        {
          "output_type": "stream",
          "text": [
            "Epoch  69\n"
          ],
          "name": "stdout"
        },
        {
          "output_type": "stream",
          "text": [
            "100%|██████████| 468/468 [00:16<00:00, 27.76it/s]\n",
            "  1%|          | 3/468 [00:00<00:16, 27.50it/s]"
          ],
          "name": "stderr"
        },
        {
          "output_type": "stream",
          "text": [
            "Epoch  70\n"
          ],
          "name": "stdout"
        },
        {
          "output_type": "stream",
          "text": [
            "100%|██████████| 468/468 [00:16<00:00, 27.77it/s]\n",
            "  1%|          | 3/468 [00:00<00:16, 27.44it/s]"
          ],
          "name": "stderr"
        },
        {
          "output_type": "stream",
          "text": [
            "Epoch  71\n"
          ],
          "name": "stdout"
        },
        {
          "output_type": "stream",
          "text": [
            "100%|██████████| 468/468 [00:16<00:00, 27.61it/s]\n",
            "  1%|          | 3/468 [00:00<00:16, 27.71it/s]"
          ],
          "name": "stderr"
        },
        {
          "output_type": "stream",
          "text": [
            "Epoch  72\n"
          ],
          "name": "stdout"
        },
        {
          "output_type": "stream",
          "text": [
            "100%|██████████| 468/468 [00:16<00:00, 27.82it/s]\n",
            "  1%|          | 3/468 [00:00<00:16, 27.83it/s]"
          ],
          "name": "stderr"
        },
        {
          "output_type": "stream",
          "text": [
            "Epoch  73\n"
          ],
          "name": "stdout"
        },
        {
          "output_type": "stream",
          "text": [
            "100%|██████████| 468/468 [00:16<00:00, 27.82it/s]\n",
            "  1%|          | 3/468 [00:00<00:16, 27.83it/s]"
          ],
          "name": "stderr"
        },
        {
          "output_type": "stream",
          "text": [
            "Epoch  74\n"
          ],
          "name": "stdout"
        },
        {
          "output_type": "stream",
          "text": [
            "100%|██████████| 468/468 [00:16<00:00, 27.82it/s]\n",
            "  1%|          | 3/468 [00:00<00:16, 27.91it/s]"
          ],
          "name": "stderr"
        },
        {
          "output_type": "stream",
          "text": [
            "Epoch  75\n"
          ],
          "name": "stdout"
        },
        {
          "output_type": "stream",
          "text": [
            "100%|██████████| 468/468 [00:16<00:00, 27.65it/s]\n",
            "  1%|          | 3/468 [00:00<00:16, 27.53it/s]"
          ],
          "name": "stderr"
        },
        {
          "output_type": "stream",
          "text": [
            "Epoch  76\n"
          ],
          "name": "stdout"
        },
        {
          "output_type": "stream",
          "text": [
            "100%|██████████| 468/468 [00:16<00:00, 27.71it/s]\n",
            "  1%|          | 3/468 [00:00<00:16, 27.82it/s]"
          ],
          "name": "stderr"
        },
        {
          "output_type": "stream",
          "text": [
            "Epoch  77\n"
          ],
          "name": "stdout"
        },
        {
          "output_type": "stream",
          "text": [
            "100%|██████████| 468/468 [00:16<00:00, 27.66it/s]\n",
            "  1%|          | 3/468 [00:00<00:16, 27.67it/s]"
          ],
          "name": "stderr"
        },
        {
          "output_type": "stream",
          "text": [
            "Epoch  78\n"
          ],
          "name": "stdout"
        },
        {
          "output_type": "stream",
          "text": [
            "100%|██████████| 468/468 [00:16<00:00, 28.04it/s]\n",
            "  1%|          | 3/468 [00:00<00:16, 27.64it/s]"
          ],
          "name": "stderr"
        },
        {
          "output_type": "stream",
          "text": [
            "Epoch  79\n"
          ],
          "name": "stdout"
        },
        {
          "output_type": "stream",
          "text": [
            "100%|██████████| 468/468 [00:16<00:00, 27.71it/s]\n",
            "  1%|          | 3/468 [00:00<00:16, 27.77it/s]"
          ],
          "name": "stderr"
        },
        {
          "output_type": "stream",
          "text": [
            "Epoch  80\n"
          ],
          "name": "stdout"
        },
        {
          "output_type": "stream",
          "text": [
            "100%|██████████| 468/468 [00:16<00:00, 27.28it/s]\n",
            "  1%|          | 3/468 [00:00<00:16, 27.98it/s]"
          ],
          "name": "stderr"
        },
        {
          "output_type": "stream",
          "text": [
            "Epoch  81\n"
          ],
          "name": "stdout"
        },
        {
          "output_type": "stream",
          "text": [
            "100%|██████████| 468/468 [00:16<00:00, 27.70it/s]\n",
            "  1%|          | 3/468 [00:00<00:16, 28.05it/s]"
          ],
          "name": "stderr"
        },
        {
          "output_type": "stream",
          "text": [
            "Epoch  82\n"
          ],
          "name": "stdout"
        },
        {
          "output_type": "stream",
          "text": [
            "100%|██████████| 468/468 [00:16<00:00, 27.95it/s]\n",
            "  1%|          | 3/468 [00:00<00:16, 28.13it/s]"
          ],
          "name": "stderr"
        },
        {
          "output_type": "stream",
          "text": [
            "Epoch  83\n"
          ],
          "name": "stdout"
        },
        {
          "output_type": "stream",
          "text": [
            "100%|██████████| 468/468 [00:16<00:00, 27.78it/s]\n",
            "  1%|          | 3/468 [00:00<00:16, 28.01it/s]"
          ],
          "name": "stderr"
        },
        {
          "output_type": "stream",
          "text": [
            "Epoch  84\n"
          ],
          "name": "stdout"
        },
        {
          "output_type": "stream",
          "text": [
            "100%|██████████| 468/468 [00:16<00:00, 27.87it/s]\n",
            "  1%|          | 3/468 [00:00<00:17, 26.14it/s]"
          ],
          "name": "stderr"
        },
        {
          "output_type": "stream",
          "text": [
            "Epoch  85\n"
          ],
          "name": "stdout"
        },
        {
          "output_type": "stream",
          "text": [
            "100%|██████████| 468/468 [00:16<00:00, 27.83it/s]\n",
            "  1%|          | 3/468 [00:00<00:16, 27.91it/s]"
          ],
          "name": "stderr"
        },
        {
          "output_type": "stream",
          "text": [
            "Epoch  86\n"
          ],
          "name": "stdout"
        },
        {
          "output_type": "stream",
          "text": [
            "100%|██████████| 468/468 [00:16<00:00, 27.83it/s]\n",
            "  1%|          | 3/468 [00:00<00:16, 27.97it/s]"
          ],
          "name": "stderr"
        },
        {
          "output_type": "stream",
          "text": [
            "Epoch  87\n"
          ],
          "name": "stdout"
        },
        {
          "output_type": "stream",
          "text": [
            "100%|██████████| 468/468 [00:16<00:00, 27.87it/s]\n",
            "  1%|          | 3/468 [00:00<00:16, 27.94it/s]"
          ],
          "name": "stderr"
        },
        {
          "output_type": "stream",
          "text": [
            "Epoch  88\n"
          ],
          "name": "stdout"
        },
        {
          "output_type": "stream",
          "text": [
            "100%|██████████| 468/468 [00:16<00:00, 27.80it/s]\n",
            "  1%|          | 3/468 [00:00<00:16, 28.00it/s]"
          ],
          "name": "stderr"
        },
        {
          "output_type": "stream",
          "text": [
            "Epoch  89\n"
          ],
          "name": "stdout"
        },
        {
          "output_type": "stream",
          "text": [
            "100%|██████████| 468/468 [00:16<00:00, 27.73it/s]\n",
            "  1%|          | 3/468 [00:00<00:16, 27.88it/s]"
          ],
          "name": "stderr"
        },
        {
          "output_type": "stream",
          "text": [
            "Epoch  90\n"
          ],
          "name": "stdout"
        },
        {
          "output_type": "stream",
          "text": [
            "100%|██████████| 468/468 [00:16<00:00, 27.63it/s]\n",
            "  1%|          | 3/468 [00:00<00:16, 27.79it/s]"
          ],
          "name": "stderr"
        },
        {
          "output_type": "stream",
          "text": [
            "Epoch  91\n"
          ],
          "name": "stdout"
        },
        {
          "output_type": "stream",
          "text": [
            "100%|██████████| 468/468 [00:16<00:00, 27.71it/s]\n",
            "  1%|          | 3/468 [00:00<00:16, 27.73it/s]"
          ],
          "name": "stderr"
        },
        {
          "output_type": "stream",
          "text": [
            "Epoch  92\n"
          ],
          "name": "stdout"
        },
        {
          "output_type": "stream",
          "text": [
            "100%|██████████| 468/468 [00:16<00:00, 27.86it/s]\n",
            "  1%|          | 3/468 [00:00<00:17, 26.89it/s]"
          ],
          "name": "stderr"
        },
        {
          "output_type": "stream",
          "text": [
            "Epoch  93\n"
          ],
          "name": "stdout"
        },
        {
          "output_type": "stream",
          "text": [
            "100%|██████████| 468/468 [00:16<00:00, 27.29it/s]\n",
            "  1%|          | 3/468 [00:00<00:16, 27.54it/s]"
          ],
          "name": "stderr"
        },
        {
          "output_type": "stream",
          "text": [
            "Epoch  94\n"
          ],
          "name": "stdout"
        },
        {
          "output_type": "stream",
          "text": [
            "100%|██████████| 468/468 [00:16<00:00, 27.67it/s]\n",
            "  1%|          | 3/468 [00:00<00:16, 27.56it/s]"
          ],
          "name": "stderr"
        },
        {
          "output_type": "stream",
          "text": [
            "Epoch  95\n"
          ],
          "name": "stdout"
        },
        {
          "output_type": "stream",
          "text": [
            "100%|██████████| 468/468 [00:16<00:00, 27.74it/s]\n",
            "  1%|          | 3/468 [00:00<00:16, 27.49it/s]"
          ],
          "name": "stderr"
        },
        {
          "output_type": "stream",
          "text": [
            "Epoch  96\n"
          ],
          "name": "stdout"
        },
        {
          "output_type": "stream",
          "text": [
            "100%|██████████| 468/468 [00:16<00:00, 27.58it/s]\n",
            "  1%|          | 3/468 [00:00<00:16, 27.71it/s]"
          ],
          "name": "stderr"
        },
        {
          "output_type": "stream",
          "text": [
            "Epoch  97\n"
          ],
          "name": "stdout"
        },
        {
          "output_type": "stream",
          "text": [
            "100%|██████████| 468/468 [00:16<00:00, 27.99it/s]\n",
            "  1%|          | 3/468 [00:00<00:16, 27.87it/s]"
          ],
          "name": "stderr"
        },
        {
          "output_type": "stream",
          "text": [
            "Epoch  98\n"
          ],
          "name": "stdout"
        },
        {
          "output_type": "stream",
          "text": [
            "100%|██████████| 468/468 [00:16<00:00, 27.78it/s]\n",
            "  1%|          | 3/468 [00:00<00:16, 28.07it/s]"
          ],
          "name": "stderr"
        },
        {
          "output_type": "stream",
          "text": [
            "Epoch  99\n"
          ],
          "name": "stdout"
        },
        {
          "output_type": "stream",
          "text": [
            "100%|██████████| 468/468 [00:16<00:00, 27.76it/s]\n",
            "  1%|          | 3/468 [00:00<00:16, 27.44it/s]"
          ],
          "name": "stderr"
        },
        {
          "output_type": "stream",
          "text": [
            "Epoch  100\n"
          ],
          "name": "stdout"
        },
        {
          "output_type": "stream",
          "text": [
            "100%|██████████| 468/468 [00:16<00:00, 26.89it/s]\n",
            "  1%|          | 3/468 [00:00<00:16, 28.15it/s]"
          ],
          "name": "stderr"
        },
        {
          "output_type": "stream",
          "text": [
            "Epoch  101\n"
          ],
          "name": "stdout"
        },
        {
          "output_type": "stream",
          "text": [
            "100%|██████████| 468/468 [00:16<00:00, 27.77it/s]\n",
            "  1%|          | 3/468 [00:00<00:17, 26.60it/s]"
          ],
          "name": "stderr"
        },
        {
          "output_type": "stream",
          "text": [
            "Epoch  102\n"
          ],
          "name": "stdout"
        },
        {
          "output_type": "stream",
          "text": [
            "100%|██████████| 468/468 [00:16<00:00, 27.88it/s]\n",
            "  1%|          | 3/468 [00:00<00:17, 27.33it/s]"
          ],
          "name": "stderr"
        },
        {
          "output_type": "stream",
          "text": [
            "Epoch  103\n"
          ],
          "name": "stdout"
        },
        {
          "output_type": "stream",
          "text": [
            "100%|██████████| 468/468 [00:16<00:00, 27.19it/s]\n",
            "  1%|          | 3/468 [00:00<00:16, 27.38it/s]"
          ],
          "name": "stderr"
        },
        {
          "output_type": "stream",
          "text": [
            "Epoch  104\n"
          ],
          "name": "stdout"
        },
        {
          "output_type": "stream",
          "text": [
            "100%|██████████| 468/468 [00:16<00:00, 27.97it/s]\n",
            "  1%|          | 3/468 [00:00<00:16, 28.37it/s]"
          ],
          "name": "stderr"
        },
        {
          "output_type": "stream",
          "text": [
            "Epoch  105\n"
          ],
          "name": "stdout"
        },
        {
          "output_type": "stream",
          "text": [
            "100%|██████████| 468/468 [00:16<00:00, 27.80it/s]\n",
            "  1%|          | 3/468 [00:00<00:16, 28.16it/s]"
          ],
          "name": "stderr"
        },
        {
          "output_type": "stream",
          "text": [
            "Epoch  106\n"
          ],
          "name": "stdout"
        },
        {
          "output_type": "stream",
          "text": [
            "100%|██████████| 468/468 [00:16<00:00, 27.86it/s]\n",
            "  1%|          | 3/468 [00:00<00:16, 28.01it/s]"
          ],
          "name": "stderr"
        },
        {
          "output_type": "stream",
          "text": [
            "Epoch  107\n"
          ],
          "name": "stdout"
        },
        {
          "output_type": "stream",
          "text": [
            "100%|██████████| 468/468 [00:16<00:00, 27.87it/s]\n",
            "  1%|          | 3/468 [00:00<00:16, 28.15it/s]"
          ],
          "name": "stderr"
        },
        {
          "output_type": "stream",
          "text": [
            "Epoch  108\n"
          ],
          "name": "stdout"
        },
        {
          "output_type": "stream",
          "text": [
            "100%|██████████| 468/468 [00:16<00:00, 27.82it/s]\n",
            "  1%|          | 3/468 [00:00<00:16, 28.05it/s]"
          ],
          "name": "stderr"
        },
        {
          "output_type": "stream",
          "text": [
            "Epoch  109\n"
          ],
          "name": "stdout"
        },
        {
          "output_type": "stream",
          "text": [
            "100%|██████████| 468/468 [00:16<00:00, 27.90it/s]\n",
            "  1%|          | 3/468 [00:00<00:16, 27.84it/s]"
          ],
          "name": "stderr"
        },
        {
          "output_type": "stream",
          "text": [
            "Epoch  110\n"
          ],
          "name": "stdout"
        },
        {
          "output_type": "stream",
          "text": [
            "100%|██████████| 468/468 [00:16<00:00, 28.01it/s]\n",
            "  1%|          | 3/468 [00:00<00:16, 27.85it/s]"
          ],
          "name": "stderr"
        },
        {
          "output_type": "stream",
          "text": [
            "Epoch  111\n"
          ],
          "name": "stdout"
        },
        {
          "output_type": "stream",
          "text": [
            "100%|██████████| 468/468 [00:16<00:00, 27.84it/s]\n",
            "  1%|          | 3/468 [00:00<00:16, 28.41it/s]"
          ],
          "name": "stderr"
        },
        {
          "output_type": "stream",
          "text": [
            "Epoch  112\n"
          ],
          "name": "stdout"
        },
        {
          "output_type": "stream",
          "text": [
            "100%|██████████| 468/468 [00:16<00:00, 27.60it/s]\n",
            "  1%|          | 3/468 [00:00<00:16, 28.20it/s]"
          ],
          "name": "stderr"
        },
        {
          "output_type": "stream",
          "text": [
            "Epoch  113\n"
          ],
          "name": "stdout"
        },
        {
          "output_type": "stream",
          "text": [
            "100%|██████████| 468/468 [00:16<00:00, 27.05it/s]\n",
            "  1%|          | 3/468 [00:00<00:16, 27.78it/s]"
          ],
          "name": "stderr"
        },
        {
          "output_type": "stream",
          "text": [
            "Epoch  114\n"
          ],
          "name": "stdout"
        },
        {
          "output_type": "stream",
          "text": [
            "100%|██████████| 468/468 [00:16<00:00, 27.61it/s]\n",
            "  1%|          | 3/468 [00:00<00:16, 28.13it/s]"
          ],
          "name": "stderr"
        },
        {
          "output_type": "stream",
          "text": [
            "Epoch  115\n"
          ],
          "name": "stdout"
        },
        {
          "output_type": "stream",
          "text": [
            "100%|██████████| 468/468 [00:16<00:00, 27.78it/s]\n",
            "  1%|          | 3/468 [00:00<00:16, 28.32it/s]"
          ],
          "name": "stderr"
        },
        {
          "output_type": "stream",
          "text": [
            "Epoch  116\n"
          ],
          "name": "stdout"
        },
        {
          "output_type": "stream",
          "text": [
            "100%|██████████| 468/468 [00:16<00:00, 27.79it/s]\n",
            "  1%|          | 3/468 [00:00<00:16, 28.49it/s]"
          ],
          "name": "stderr"
        },
        {
          "output_type": "stream",
          "text": [
            "Epoch  117\n"
          ],
          "name": "stdout"
        },
        {
          "output_type": "stream",
          "text": [
            "100%|██████████| 468/468 [00:16<00:00, 28.06it/s]\n",
            "  1%|          | 3/468 [00:00<00:16, 28.19it/s]"
          ],
          "name": "stderr"
        },
        {
          "output_type": "stream",
          "text": [
            "Epoch  118\n"
          ],
          "name": "stdout"
        },
        {
          "output_type": "stream",
          "text": [
            "100%|██████████| 468/468 [00:16<00:00, 27.56it/s]\n",
            "  1%|          | 3/468 [00:00<00:17, 26.70it/s]"
          ],
          "name": "stderr"
        },
        {
          "output_type": "stream",
          "text": [
            "Epoch  119\n"
          ],
          "name": "stdout"
        },
        {
          "output_type": "stream",
          "text": [
            "100%|██████████| 468/468 [00:16<00:00, 27.75it/s]\n",
            "  1%|          | 3/468 [00:00<00:16, 28.36it/s]"
          ],
          "name": "stderr"
        },
        {
          "output_type": "stream",
          "text": [
            "Epoch  120\n"
          ],
          "name": "stdout"
        },
        {
          "output_type": "stream",
          "text": [
            "100%|██████████| 468/468 [00:16<00:00, 27.66it/s]\n",
            "  1%|          | 3/468 [00:00<00:16, 27.62it/s]"
          ],
          "name": "stderr"
        },
        {
          "output_type": "stream",
          "text": [
            "Epoch  121\n"
          ],
          "name": "stdout"
        },
        {
          "output_type": "stream",
          "text": [
            "100%|██████████| 468/468 [00:16<00:00, 27.62it/s]\n",
            "  1%|          | 3/468 [00:00<00:16, 27.53it/s]"
          ],
          "name": "stderr"
        },
        {
          "output_type": "stream",
          "text": [
            "Epoch  122\n"
          ],
          "name": "stdout"
        },
        {
          "output_type": "stream",
          "text": [
            "100%|██████████| 468/468 [00:16<00:00, 27.96it/s]\n",
            "  1%|          | 3/468 [00:00<00:16, 28.27it/s]"
          ],
          "name": "stderr"
        },
        {
          "output_type": "stream",
          "text": [
            "Epoch  123\n"
          ],
          "name": "stdout"
        },
        {
          "output_type": "stream",
          "text": [
            "100%|██████████| 468/468 [00:16<00:00, 27.83it/s]\n",
            "  1%|          | 3/468 [00:00<00:16, 28.28it/s]"
          ],
          "name": "stderr"
        },
        {
          "output_type": "stream",
          "text": [
            "Epoch  124\n"
          ],
          "name": "stdout"
        },
        {
          "output_type": "stream",
          "text": [
            "100%|██████████| 468/468 [00:16<00:00, 27.53it/s]\n",
            "  1%|          | 3/468 [00:00<00:16, 27.90it/s]"
          ],
          "name": "stderr"
        },
        {
          "output_type": "stream",
          "text": [
            "Epoch  125\n"
          ],
          "name": "stdout"
        },
        {
          "output_type": "stream",
          "text": [
            "100%|██████████| 468/468 [00:16<00:00, 27.71it/s]\n",
            "  1%|          | 3/468 [00:00<00:16, 27.77it/s]"
          ],
          "name": "stderr"
        },
        {
          "output_type": "stream",
          "text": [
            "Epoch  126\n"
          ],
          "name": "stdout"
        },
        {
          "output_type": "stream",
          "text": [
            "100%|██████████| 468/468 [00:16<00:00, 27.75it/s]\n",
            "  1%|          | 3/468 [00:00<00:16, 27.94it/s]"
          ],
          "name": "stderr"
        },
        {
          "output_type": "stream",
          "text": [
            "Epoch  127\n"
          ],
          "name": "stdout"
        },
        {
          "output_type": "stream",
          "text": [
            "100%|██████████| 468/468 [00:16<00:00, 27.69it/s]\n",
            "  1%|          | 3/468 [00:00<00:16, 27.43it/s]"
          ],
          "name": "stderr"
        },
        {
          "output_type": "stream",
          "text": [
            "Epoch  128\n"
          ],
          "name": "stdout"
        },
        {
          "output_type": "stream",
          "text": [
            "100%|██████████| 468/468 [00:16<00:00, 27.74it/s]\n",
            "  1%|          | 3/468 [00:00<00:16, 28.33it/s]"
          ],
          "name": "stderr"
        },
        {
          "output_type": "stream",
          "text": [
            "Epoch  129\n"
          ],
          "name": "stdout"
        },
        {
          "output_type": "stream",
          "text": [
            "100%|██████████| 468/468 [00:16<00:00, 27.64it/s]\n",
            "  1%|          | 3/468 [00:00<00:16, 28.02it/s]"
          ],
          "name": "stderr"
        },
        {
          "output_type": "stream",
          "text": [
            "Epoch  130\n"
          ],
          "name": "stdout"
        },
        {
          "output_type": "stream",
          "text": [
            "100%|██████████| 468/468 [00:16<00:00, 27.91it/s]\n",
            "  1%|          | 3/468 [00:00<00:16, 27.93it/s]"
          ],
          "name": "stderr"
        },
        {
          "output_type": "stream",
          "text": [
            "Epoch  131\n"
          ],
          "name": "stdout"
        },
        {
          "output_type": "stream",
          "text": [
            "100%|██████████| 468/468 [00:16<00:00, 27.68it/s]\n",
            "  1%|          | 3/468 [00:00<00:16, 27.57it/s]"
          ],
          "name": "stderr"
        },
        {
          "output_type": "stream",
          "text": [
            "Epoch  132\n"
          ],
          "name": "stdout"
        },
        {
          "output_type": "stream",
          "text": [
            "100%|██████████| 468/468 [00:16<00:00, 27.71it/s]\n",
            "  1%|          | 3/468 [00:00<00:16, 27.66it/s]"
          ],
          "name": "stderr"
        },
        {
          "output_type": "stream",
          "text": [
            "Epoch  133\n"
          ],
          "name": "stdout"
        },
        {
          "output_type": "stream",
          "text": [
            "100%|██████████| 468/468 [00:16<00:00, 27.66it/s]\n",
            "  1%|          | 3/468 [00:00<00:16, 27.99it/s]"
          ],
          "name": "stderr"
        },
        {
          "output_type": "stream",
          "text": [
            "Epoch  134\n"
          ],
          "name": "stdout"
        },
        {
          "output_type": "stream",
          "text": [
            "100%|██████████| 468/468 [00:16<00:00, 27.99it/s]\n",
            "  1%|          | 3/468 [00:00<00:16, 28.02it/s]"
          ],
          "name": "stderr"
        },
        {
          "output_type": "stream",
          "text": [
            "Epoch  135\n"
          ],
          "name": "stdout"
        },
        {
          "output_type": "stream",
          "text": [
            "100%|██████████| 468/468 [00:16<00:00, 27.98it/s]\n",
            "  1%|          | 3/468 [00:00<00:16, 27.75it/s]"
          ],
          "name": "stderr"
        },
        {
          "output_type": "stream",
          "text": [
            "Epoch  136\n"
          ],
          "name": "stdout"
        },
        {
          "output_type": "stream",
          "text": [
            "100%|██████████| 468/468 [00:16<00:00, 27.99it/s]\n",
            "  1%|          | 3/468 [00:00<00:16, 28.00it/s]"
          ],
          "name": "stderr"
        },
        {
          "output_type": "stream",
          "text": [
            "Epoch  137\n"
          ],
          "name": "stdout"
        },
        {
          "output_type": "stream",
          "text": [
            "100%|██████████| 468/468 [00:16<00:00, 27.89it/s]\n",
            "  1%|          | 3/468 [00:00<00:16, 27.76it/s]"
          ],
          "name": "stderr"
        },
        {
          "output_type": "stream",
          "text": [
            "Epoch  138\n"
          ],
          "name": "stdout"
        },
        {
          "output_type": "stream",
          "text": [
            "100%|██████████| 468/468 [00:16<00:00, 27.63it/s]\n",
            "  1%|          | 3/468 [00:00<00:16, 27.53it/s]"
          ],
          "name": "stderr"
        },
        {
          "output_type": "stream",
          "text": [
            "Epoch  139\n"
          ],
          "name": "stdout"
        },
        {
          "output_type": "stream",
          "text": [
            "100%|██████████| 468/468 [00:16<00:00, 27.81it/s]\n",
            "  1%|          | 3/468 [00:00<00:16, 28.22it/s]"
          ],
          "name": "stderr"
        },
        {
          "output_type": "stream",
          "text": [
            "Epoch  140\n"
          ],
          "name": "stdout"
        },
        {
          "output_type": "stream",
          "text": [
            "100%|██████████| 468/468 [00:16<00:00, 27.95it/s]\n",
            "  1%|          | 3/468 [00:00<00:16, 27.95it/s]"
          ],
          "name": "stderr"
        },
        {
          "output_type": "stream",
          "text": [
            "Epoch  141\n"
          ],
          "name": "stdout"
        },
        {
          "output_type": "stream",
          "text": [
            "100%|██████████| 468/468 [00:16<00:00, 27.58it/s]\n",
            "  1%|          | 3/468 [00:00<00:16, 28.01it/s]"
          ],
          "name": "stderr"
        },
        {
          "output_type": "stream",
          "text": [
            "Epoch  142\n"
          ],
          "name": "stdout"
        },
        {
          "output_type": "stream",
          "text": [
            "100%|██████████| 468/468 [00:16<00:00, 27.67it/s]\n",
            "  1%|          | 3/468 [00:00<00:16, 28.17it/s]"
          ],
          "name": "stderr"
        },
        {
          "output_type": "stream",
          "text": [
            "Epoch  143\n"
          ],
          "name": "stdout"
        },
        {
          "output_type": "stream",
          "text": [
            "100%|██████████| 468/468 [00:16<00:00, 27.65it/s]\n",
            "  1%|          | 3/468 [00:00<00:16, 27.84it/s]"
          ],
          "name": "stderr"
        },
        {
          "output_type": "stream",
          "text": [
            "Epoch  144\n"
          ],
          "name": "stdout"
        },
        {
          "output_type": "stream",
          "text": [
            "100%|██████████| 468/468 [00:16<00:00, 27.41it/s]\n",
            "  1%|          | 3/468 [00:00<00:16, 28.32it/s]"
          ],
          "name": "stderr"
        },
        {
          "output_type": "stream",
          "text": [
            "Epoch  145\n"
          ],
          "name": "stdout"
        },
        {
          "output_type": "stream",
          "text": [
            "100%|██████████| 468/468 [00:16<00:00, 27.87it/s]\n",
            "  1%|          | 3/468 [00:00<00:16, 28.05it/s]"
          ],
          "name": "stderr"
        },
        {
          "output_type": "stream",
          "text": [
            "Epoch  146\n"
          ],
          "name": "stdout"
        },
        {
          "output_type": "stream",
          "text": [
            "100%|██████████| 468/468 [00:16<00:00, 27.72it/s]\n",
            "  1%|          | 3/468 [00:00<00:16, 27.90it/s]"
          ],
          "name": "stderr"
        },
        {
          "output_type": "stream",
          "text": [
            "Epoch  147\n"
          ],
          "name": "stdout"
        },
        {
          "output_type": "stream",
          "text": [
            "100%|██████████| 468/468 [00:16<00:00, 27.60it/s]\n",
            "  1%|          | 3/468 [00:00<00:16, 28.22it/s]"
          ],
          "name": "stderr"
        },
        {
          "output_type": "stream",
          "text": [
            "Epoch  148\n"
          ],
          "name": "stdout"
        },
        {
          "output_type": "stream",
          "text": [
            "100%|██████████| 468/468 [00:16<00:00, 27.78it/s]\n",
            "  1%|          | 3/468 [00:00<00:16, 27.92it/s]"
          ],
          "name": "stderr"
        },
        {
          "output_type": "stream",
          "text": [
            "Epoch  149\n"
          ],
          "name": "stdout"
        },
        {
          "output_type": "stream",
          "text": [
            "100%|██████████| 468/468 [00:16<00:00, 27.87it/s]\n",
            "  1%|          | 3/468 [00:00<00:16, 27.98it/s]"
          ],
          "name": "stderr"
        },
        {
          "output_type": "stream",
          "text": [
            "Epoch  150\n"
          ],
          "name": "stdout"
        },
        {
          "output_type": "stream",
          "text": [
            "100%|██████████| 468/468 [00:16<00:00, 27.65it/s]\n",
            "  1%|          | 3/468 [00:00<00:16, 27.91it/s]"
          ],
          "name": "stderr"
        },
        {
          "output_type": "stream",
          "text": [
            "Epoch  151\n"
          ],
          "name": "stdout"
        },
        {
          "output_type": "stream",
          "text": [
            "100%|██████████| 468/468 [00:16<00:00, 27.43it/s]\n",
            "  1%|          | 3/468 [00:00<00:16, 28.30it/s]"
          ],
          "name": "stderr"
        },
        {
          "output_type": "stream",
          "text": [
            "Epoch  152\n"
          ],
          "name": "stdout"
        },
        {
          "output_type": "stream",
          "text": [
            "100%|██████████| 468/468 [00:16<00:00, 27.82it/s]\n",
            "  1%|          | 3/468 [00:00<00:16, 27.99it/s]"
          ],
          "name": "stderr"
        },
        {
          "output_type": "stream",
          "text": [
            "Epoch  153\n"
          ],
          "name": "stdout"
        },
        {
          "output_type": "stream",
          "text": [
            "100%|██████████| 468/468 [00:16<00:00, 27.94it/s]\n",
            "  1%|          | 3/468 [00:00<00:16, 27.81it/s]"
          ],
          "name": "stderr"
        },
        {
          "output_type": "stream",
          "text": [
            "Epoch  154\n"
          ],
          "name": "stdout"
        },
        {
          "output_type": "stream",
          "text": [
            "100%|██████████| 468/468 [00:16<00:00, 27.66it/s]\n",
            "  1%|          | 3/468 [00:00<00:16, 27.91it/s]"
          ],
          "name": "stderr"
        },
        {
          "output_type": "stream",
          "text": [
            "Epoch  155\n"
          ],
          "name": "stdout"
        },
        {
          "output_type": "stream",
          "text": [
            "100%|██████████| 468/468 [00:16<00:00, 27.62it/s]\n",
            "  1%|          | 3/468 [00:00<00:16, 27.89it/s]"
          ],
          "name": "stderr"
        },
        {
          "output_type": "stream",
          "text": [
            "Epoch  156\n"
          ],
          "name": "stdout"
        },
        {
          "output_type": "stream",
          "text": [
            "100%|██████████| 468/468 [00:16<00:00, 28.00it/s]\n",
            "  1%|          | 3/468 [00:00<00:16, 27.91it/s]"
          ],
          "name": "stderr"
        },
        {
          "output_type": "stream",
          "text": [
            "Epoch  157\n"
          ],
          "name": "stdout"
        },
        {
          "output_type": "stream",
          "text": [
            "100%|██████████| 468/468 [00:16<00:00, 27.72it/s]\n",
            "  1%|          | 3/468 [00:00<00:16, 28.17it/s]"
          ],
          "name": "stderr"
        },
        {
          "output_type": "stream",
          "text": [
            "Epoch  158\n"
          ],
          "name": "stdout"
        },
        {
          "output_type": "stream",
          "text": [
            "100%|██████████| 468/468 [00:16<00:00, 27.28it/s]\n",
            "  1%|          | 3/468 [00:00<00:16, 27.73it/s]"
          ],
          "name": "stderr"
        },
        {
          "output_type": "stream",
          "text": [
            "Epoch  159\n"
          ],
          "name": "stdout"
        },
        {
          "output_type": "stream",
          "text": [
            "100%|██████████| 468/468 [00:16<00:00, 27.71it/s]\n",
            "  1%|          | 3/468 [00:00<00:16, 28.03it/s]"
          ],
          "name": "stderr"
        },
        {
          "output_type": "stream",
          "text": [
            "Epoch  160\n"
          ],
          "name": "stdout"
        },
        {
          "output_type": "stream",
          "text": [
            "100%|██████████| 468/468 [00:16<00:00, 27.94it/s]\n",
            "  1%|          | 3/468 [00:00<00:17, 27.32it/s]"
          ],
          "name": "stderr"
        },
        {
          "output_type": "stream",
          "text": [
            "Epoch  161\n"
          ],
          "name": "stdout"
        },
        {
          "output_type": "stream",
          "text": [
            "100%|██████████| 468/468 [00:16<00:00, 27.94it/s]\n",
            "  1%|          | 3/468 [00:00<00:16, 28.18it/s]"
          ],
          "name": "stderr"
        },
        {
          "output_type": "stream",
          "text": [
            "Epoch  162\n"
          ],
          "name": "stdout"
        },
        {
          "output_type": "stream",
          "text": [
            "100%|██████████| 468/468 [00:16<00:00, 27.80it/s]\n",
            "  1%|          | 3/468 [00:00<00:16, 27.66it/s]"
          ],
          "name": "stderr"
        },
        {
          "output_type": "stream",
          "text": [
            "Epoch  163\n"
          ],
          "name": "stdout"
        },
        {
          "output_type": "stream",
          "text": [
            "100%|██████████| 468/468 [00:16<00:00, 27.78it/s]\n",
            "  1%|          | 3/468 [00:00<00:16, 28.09it/s]"
          ],
          "name": "stderr"
        },
        {
          "output_type": "stream",
          "text": [
            "Epoch  164\n"
          ],
          "name": "stdout"
        },
        {
          "output_type": "stream",
          "text": [
            "100%|██████████| 468/468 [00:16<00:00, 27.77it/s]\n",
            "  1%|          | 3/468 [00:00<00:16, 28.01it/s]"
          ],
          "name": "stderr"
        },
        {
          "output_type": "stream",
          "text": [
            "Epoch  165\n"
          ],
          "name": "stdout"
        },
        {
          "output_type": "stream",
          "text": [
            "100%|██████████| 468/468 [00:16<00:00, 27.54it/s]\n",
            "  1%|          | 3/468 [00:00<00:16, 27.80it/s]"
          ],
          "name": "stderr"
        },
        {
          "output_type": "stream",
          "text": [
            "Epoch  166\n"
          ],
          "name": "stdout"
        },
        {
          "output_type": "stream",
          "text": [
            "100%|██████████| 468/468 [00:16<00:00, 27.92it/s]\n",
            "  1%|          | 3/468 [00:00<00:16, 27.66it/s]"
          ],
          "name": "stderr"
        },
        {
          "output_type": "stream",
          "text": [
            "Epoch  167\n"
          ],
          "name": "stdout"
        },
        {
          "output_type": "stream",
          "text": [
            "100%|██████████| 468/468 [00:16<00:00, 27.77it/s]\n",
            "  1%|          | 3/468 [00:00<00:16, 27.86it/s]"
          ],
          "name": "stderr"
        },
        {
          "output_type": "stream",
          "text": [
            "Epoch  168\n"
          ],
          "name": "stdout"
        },
        {
          "output_type": "stream",
          "text": [
            "100%|██████████| 468/468 [00:16<00:00, 27.92it/s]\n",
            "  1%|          | 3/468 [00:00<00:16, 28.34it/s]"
          ],
          "name": "stderr"
        },
        {
          "output_type": "stream",
          "text": [
            "Epoch  169\n"
          ],
          "name": "stdout"
        },
        {
          "output_type": "stream",
          "text": [
            "100%|██████████| 468/468 [00:16<00:00, 27.50it/s]\n",
            "  1%|          | 3/468 [00:00<00:17, 26.13it/s]"
          ],
          "name": "stderr"
        },
        {
          "output_type": "stream",
          "text": [
            "Epoch  170\n"
          ],
          "name": "stdout"
        },
        {
          "output_type": "stream",
          "text": [
            "100%|██████████| 468/468 [00:16<00:00, 27.66it/s]\n",
            "  1%|          | 3/468 [00:00<00:16, 27.76it/s]"
          ],
          "name": "stderr"
        },
        {
          "output_type": "stream",
          "text": [
            "Epoch  171\n"
          ],
          "name": "stdout"
        },
        {
          "output_type": "stream",
          "text": [
            "100%|██████████| 468/468 [00:16<00:00, 27.52it/s]\n",
            "  1%|          | 3/468 [00:00<00:16, 27.87it/s]"
          ],
          "name": "stderr"
        },
        {
          "output_type": "stream",
          "text": [
            "Epoch  172\n"
          ],
          "name": "stdout"
        },
        {
          "output_type": "stream",
          "text": [
            "100%|██████████| 468/468 [00:16<00:00, 27.85it/s]\n",
            "  1%|          | 3/468 [00:00<00:16, 27.83it/s]"
          ],
          "name": "stderr"
        },
        {
          "output_type": "stream",
          "text": [
            "Epoch  173\n"
          ],
          "name": "stdout"
        },
        {
          "output_type": "stream",
          "text": [
            "100%|██████████| 468/468 [00:16<00:00, 27.78it/s]\n",
            "  1%|          | 3/468 [00:00<00:16, 27.94it/s]"
          ],
          "name": "stderr"
        },
        {
          "output_type": "stream",
          "text": [
            "Epoch  174\n"
          ],
          "name": "stdout"
        },
        {
          "output_type": "stream",
          "text": [
            "100%|██████████| 468/468 [00:16<00:00, 27.86it/s]\n",
            "  1%|          | 3/468 [00:00<00:17, 27.15it/s]"
          ],
          "name": "stderr"
        },
        {
          "output_type": "stream",
          "text": [
            "Epoch  175\n"
          ],
          "name": "stdout"
        },
        {
          "output_type": "stream",
          "text": [
            "100%|██████████| 468/468 [00:16<00:00, 28.10it/s]\n",
            "  1%|          | 3/468 [00:00<00:16, 27.86it/s]"
          ],
          "name": "stderr"
        },
        {
          "output_type": "stream",
          "text": [
            "Epoch  176\n"
          ],
          "name": "stdout"
        },
        {
          "output_type": "stream",
          "text": [
            "100%|██████████| 468/468 [00:16<00:00, 27.38it/s]\n",
            "  1%|          | 3/468 [00:00<00:16, 27.92it/s]"
          ],
          "name": "stderr"
        },
        {
          "output_type": "stream",
          "text": [
            "Epoch  177\n"
          ],
          "name": "stdout"
        },
        {
          "output_type": "stream",
          "text": [
            "100%|██████████| 468/468 [00:16<00:00, 27.66it/s]\n",
            "  1%|          | 3/468 [00:00<00:16, 28.29it/s]"
          ],
          "name": "stderr"
        },
        {
          "output_type": "stream",
          "text": [
            "Epoch  178\n"
          ],
          "name": "stdout"
        },
        {
          "output_type": "stream",
          "text": [
            "100%|██████████| 468/468 [00:16<00:00, 27.84it/s]\n",
            "  1%|          | 3/468 [00:00<00:16, 27.98it/s]"
          ],
          "name": "stderr"
        },
        {
          "output_type": "stream",
          "text": [
            "Epoch  179\n"
          ],
          "name": "stdout"
        },
        {
          "output_type": "stream",
          "text": [
            "100%|██████████| 468/468 [00:16<00:00, 27.84it/s]\n",
            "  1%|          | 3/468 [00:00<00:17, 27.07it/s]"
          ],
          "name": "stderr"
        },
        {
          "output_type": "stream",
          "text": [
            "Epoch  180\n"
          ],
          "name": "stdout"
        },
        {
          "output_type": "stream",
          "text": [
            "100%|██████████| 468/468 [00:16<00:00, 27.72it/s]\n",
            "  1%|          | 3/468 [00:00<00:16, 27.70it/s]"
          ],
          "name": "stderr"
        },
        {
          "output_type": "stream",
          "text": [
            "Epoch  181\n"
          ],
          "name": "stdout"
        },
        {
          "output_type": "stream",
          "text": [
            "100%|██████████| 468/468 [00:16<00:00, 27.72it/s]\n",
            "  1%|          | 3/468 [00:00<00:16, 28.17it/s]"
          ],
          "name": "stderr"
        },
        {
          "output_type": "stream",
          "text": [
            "Epoch  182\n"
          ],
          "name": "stdout"
        },
        {
          "output_type": "stream",
          "text": [
            "100%|██████████| 468/468 [00:16<00:00, 27.51it/s]\n",
            "  1%|          | 3/468 [00:00<00:16, 28.04it/s]"
          ],
          "name": "stderr"
        },
        {
          "output_type": "stream",
          "text": [
            "Epoch  183\n"
          ],
          "name": "stdout"
        },
        {
          "output_type": "stream",
          "text": [
            "100%|██████████| 468/468 [00:16<00:00, 27.69it/s]\n",
            "  1%|          | 3/468 [00:00<00:16, 28.02it/s]"
          ],
          "name": "stderr"
        },
        {
          "output_type": "stream",
          "text": [
            "Epoch  184\n"
          ],
          "name": "stdout"
        },
        {
          "output_type": "stream",
          "text": [
            "100%|██████████| 468/468 [00:16<00:00, 27.26it/s]\n",
            "  1%|          | 3/468 [00:00<00:16, 27.51it/s]"
          ],
          "name": "stderr"
        },
        {
          "output_type": "stream",
          "text": [
            "Epoch  185\n"
          ],
          "name": "stdout"
        },
        {
          "output_type": "stream",
          "text": [
            "100%|██████████| 468/468 [00:16<00:00, 27.78it/s]\n",
            "  1%|          | 3/468 [00:00<00:16, 27.99it/s]"
          ],
          "name": "stderr"
        },
        {
          "output_type": "stream",
          "text": [
            "Epoch  186\n"
          ],
          "name": "stdout"
        },
        {
          "output_type": "stream",
          "text": [
            "100%|██████████| 468/468 [00:16<00:00, 27.73it/s]\n",
            "  1%|          | 3/468 [00:00<00:16, 28.10it/s]"
          ],
          "name": "stderr"
        },
        {
          "output_type": "stream",
          "text": [
            "Epoch  187\n"
          ],
          "name": "stdout"
        },
        {
          "output_type": "stream",
          "text": [
            "100%|██████████| 468/468 [00:16<00:00, 27.86it/s]\n",
            "  1%|          | 3/468 [00:00<00:16, 27.72it/s]"
          ],
          "name": "stderr"
        },
        {
          "output_type": "stream",
          "text": [
            "Epoch  188\n"
          ],
          "name": "stdout"
        },
        {
          "output_type": "stream",
          "text": [
            "100%|██████████| 468/468 [00:16<00:00, 27.91it/s]\n",
            "  1%|          | 3/468 [00:00<00:16, 27.82it/s]"
          ],
          "name": "stderr"
        },
        {
          "output_type": "stream",
          "text": [
            "Epoch  189\n"
          ],
          "name": "stdout"
        },
        {
          "output_type": "stream",
          "text": [
            "100%|██████████| 468/468 [00:16<00:00, 27.79it/s]\n",
            "  1%|          | 3/468 [00:00<00:16, 28.31it/s]"
          ],
          "name": "stderr"
        },
        {
          "output_type": "stream",
          "text": [
            "Epoch  190\n"
          ],
          "name": "stdout"
        },
        {
          "output_type": "stream",
          "text": [
            "100%|██████████| 468/468 [00:16<00:00, 27.74it/s]\n",
            "  1%|          | 3/468 [00:00<00:16, 28.17it/s]"
          ],
          "name": "stderr"
        },
        {
          "output_type": "stream",
          "text": [
            "Epoch  191\n"
          ],
          "name": "stdout"
        },
        {
          "output_type": "stream",
          "text": [
            "100%|██████████| 468/468 [00:16<00:00, 27.43it/s]\n",
            "  1%|          | 3/468 [00:00<00:16, 27.75it/s]"
          ],
          "name": "stderr"
        },
        {
          "output_type": "stream",
          "text": [
            "Epoch  192\n"
          ],
          "name": "stdout"
        },
        {
          "output_type": "stream",
          "text": [
            "100%|██████████| 468/468 [00:16<00:00, 27.66it/s]\n",
            "  1%|          | 3/468 [00:00<00:17, 26.31it/s]"
          ],
          "name": "stderr"
        },
        {
          "output_type": "stream",
          "text": [
            "Epoch  193\n"
          ],
          "name": "stdout"
        },
        {
          "output_type": "stream",
          "text": [
            "100%|██████████| 468/468 [00:16<00:00, 27.26it/s]\n",
            "  1%|          | 3/468 [00:00<00:17, 26.31it/s]"
          ],
          "name": "stderr"
        },
        {
          "output_type": "stream",
          "text": [
            "Epoch  194\n"
          ],
          "name": "stdout"
        },
        {
          "output_type": "stream",
          "text": [
            "100%|██████████| 468/468 [00:16<00:00, 27.97it/s]\n",
            "  1%|          | 3/468 [00:00<00:16, 27.75it/s]"
          ],
          "name": "stderr"
        },
        {
          "output_type": "stream",
          "text": [
            "Epoch  195\n"
          ],
          "name": "stdout"
        },
        {
          "output_type": "stream",
          "text": [
            "100%|██████████| 468/468 [00:16<00:00, 27.62it/s]\n",
            "  1%|          | 3/468 [00:00<00:16, 27.71it/s]"
          ],
          "name": "stderr"
        },
        {
          "output_type": "stream",
          "text": [
            "Epoch  196\n"
          ],
          "name": "stdout"
        },
        {
          "output_type": "stream",
          "text": [
            "100%|██████████| 468/468 [00:16<00:00, 27.90it/s]\n",
            "  1%|          | 3/468 [00:00<00:16, 27.92it/s]"
          ],
          "name": "stderr"
        },
        {
          "output_type": "stream",
          "text": [
            "Epoch  197\n"
          ],
          "name": "stdout"
        },
        {
          "output_type": "stream",
          "text": [
            "100%|██████████| 468/468 [00:16<00:00, 27.78it/s]\n",
            "  1%|          | 3/468 [00:00<00:16, 28.07it/s]"
          ],
          "name": "stderr"
        },
        {
          "output_type": "stream",
          "text": [
            "Epoch  198\n"
          ],
          "name": "stdout"
        },
        {
          "output_type": "stream",
          "text": [
            "100%|██████████| 468/468 [00:16<00:00, 27.66it/s]\n",
            "  1%|          | 3/468 [00:00<00:17, 26.99it/s]"
          ],
          "name": "stderr"
        },
        {
          "output_type": "stream",
          "text": [
            "Epoch  199\n"
          ],
          "name": "stdout"
        },
        {
          "output_type": "stream",
          "text": [
            "100%|██████████| 468/468 [00:16<00:00, 27.76it/s]\n",
            "  1%|          | 3/468 [00:00<00:16, 27.77it/s]"
          ],
          "name": "stderr"
        },
        {
          "output_type": "stream",
          "text": [
            "Epoch  200\n"
          ],
          "name": "stdout"
        },
        {
          "output_type": "stream",
          "text": [
            "100%|██████████| 468/468 [00:16<00:00, 28.01it/s]\n",
            "  1%|          | 3/468 [00:00<00:16, 27.68it/s]"
          ],
          "name": "stderr"
        },
        {
          "output_type": "stream",
          "text": [
            "Epoch  201\n"
          ],
          "name": "stdout"
        },
        {
          "output_type": "stream",
          "text": [
            "100%|██████████| 468/468 [00:16<00:00, 27.60it/s]\n",
            "  1%|          | 3/468 [00:00<00:16, 27.58it/s]"
          ],
          "name": "stderr"
        },
        {
          "output_type": "stream",
          "text": [
            "Epoch  202\n"
          ],
          "name": "stdout"
        },
        {
          "output_type": "stream",
          "text": [
            "100%|██████████| 468/468 [00:16<00:00, 27.45it/s]\n",
            "  1%|          | 3/468 [00:00<00:16, 27.66it/s]"
          ],
          "name": "stderr"
        },
        {
          "output_type": "stream",
          "text": [
            "Epoch  203\n"
          ],
          "name": "stdout"
        },
        {
          "output_type": "stream",
          "text": [
            "100%|██████████| 468/468 [00:16<00:00, 27.52it/s]\n",
            "  1%|          | 3/468 [00:00<00:16, 27.82it/s]"
          ],
          "name": "stderr"
        },
        {
          "output_type": "stream",
          "text": [
            "Epoch  204\n"
          ],
          "name": "stdout"
        },
        {
          "output_type": "stream",
          "text": [
            "100%|██████████| 468/468 [00:16<00:00, 27.66it/s]\n",
            "  1%|          | 3/468 [00:00<00:17, 27.10it/s]"
          ],
          "name": "stderr"
        },
        {
          "output_type": "stream",
          "text": [
            "Epoch  205\n"
          ],
          "name": "stdout"
        },
        {
          "output_type": "stream",
          "text": [
            "100%|██████████| 468/468 [00:16<00:00, 27.54it/s]\n",
            "  1%|          | 3/468 [00:00<00:16, 28.01it/s]"
          ],
          "name": "stderr"
        },
        {
          "output_type": "stream",
          "text": [
            "Epoch  206\n"
          ],
          "name": "stdout"
        },
        {
          "output_type": "stream",
          "text": [
            "100%|██████████| 468/468 [00:16<00:00, 27.80it/s]\n",
            "  1%|          | 3/468 [00:00<00:16, 27.93it/s]"
          ],
          "name": "stderr"
        },
        {
          "output_type": "stream",
          "text": [
            "Epoch  207\n"
          ],
          "name": "stdout"
        },
        {
          "output_type": "stream",
          "text": [
            "100%|██████████| 468/468 [00:16<00:00, 27.64it/s]\n",
            "  1%|          | 3/468 [00:00<00:16, 27.81it/s]"
          ],
          "name": "stderr"
        },
        {
          "output_type": "stream",
          "text": [
            "Epoch  208\n"
          ],
          "name": "stdout"
        },
        {
          "output_type": "stream",
          "text": [
            "100%|██████████| 468/468 [00:16<00:00, 27.77it/s]\n",
            "  1%|          | 3/468 [00:00<00:16, 27.92it/s]"
          ],
          "name": "stderr"
        },
        {
          "output_type": "stream",
          "text": [
            "Epoch  209\n"
          ],
          "name": "stdout"
        },
        {
          "output_type": "stream",
          "text": [
            "100%|██████████| 468/468 [00:16<00:00, 28.01it/s]\n",
            "  1%|          | 3/468 [00:00<00:16, 27.42it/s]"
          ],
          "name": "stderr"
        },
        {
          "output_type": "stream",
          "text": [
            "Epoch  210\n"
          ],
          "name": "stdout"
        },
        {
          "output_type": "stream",
          "text": [
            "100%|██████████| 468/468 [00:16<00:00, 27.37it/s]\n",
            "  1%|          | 3/468 [00:00<00:17, 26.59it/s]"
          ],
          "name": "stderr"
        },
        {
          "output_type": "stream",
          "text": [
            "Epoch  211\n"
          ],
          "name": "stdout"
        },
        {
          "output_type": "stream",
          "text": [
            "100%|██████████| 468/468 [00:16<00:00, 27.93it/s]\n",
            "  1%|          | 3/468 [00:00<00:17, 26.17it/s]"
          ],
          "name": "stderr"
        },
        {
          "output_type": "stream",
          "text": [
            "Epoch  212\n"
          ],
          "name": "stdout"
        },
        {
          "output_type": "stream",
          "text": [
            "100%|██████████| 468/468 [00:16<00:00, 27.89it/s]\n",
            "  1%|          | 3/468 [00:00<00:17, 27.05it/s]"
          ],
          "name": "stderr"
        },
        {
          "output_type": "stream",
          "text": [
            "Epoch  213\n"
          ],
          "name": "stdout"
        },
        {
          "output_type": "stream",
          "text": [
            "100%|██████████| 468/468 [00:17<00:00, 27.66it/s]\n",
            "  1%|          | 3/468 [00:00<00:16, 28.57it/s]"
          ],
          "name": "stderr"
        },
        {
          "output_type": "stream",
          "text": [
            "Epoch  214\n"
          ],
          "name": "stdout"
        },
        {
          "output_type": "stream",
          "text": [
            "100%|██████████| 468/468 [00:17<00:00, 27.26it/s]\n",
            "  1%|          | 3/468 [00:00<00:16, 28.23it/s]"
          ],
          "name": "stderr"
        },
        {
          "output_type": "stream",
          "text": [
            "Epoch  215\n"
          ],
          "name": "stdout"
        },
        {
          "output_type": "stream",
          "text": [
            "100%|██████████| 468/468 [00:17<00:00, 27.39it/s]\n",
            "  1%|          | 3/468 [00:00<00:16, 27.65it/s]"
          ],
          "name": "stderr"
        },
        {
          "output_type": "stream",
          "text": [
            "Epoch  216\n"
          ],
          "name": "stdout"
        },
        {
          "output_type": "stream",
          "text": [
            "100%|██████████| 468/468 [00:17<00:00, 27.37it/s]\n",
            "  1%|          | 3/468 [00:00<00:16, 28.71it/s]"
          ],
          "name": "stderr"
        },
        {
          "output_type": "stream",
          "text": [
            "Epoch  217\n"
          ],
          "name": "stdout"
        },
        {
          "output_type": "stream",
          "text": [
            "100%|██████████| 468/468 [00:17<00:00, 27.51it/s]\n",
            "  1%|          | 3/468 [00:00<00:17, 27.26it/s]"
          ],
          "name": "stderr"
        },
        {
          "output_type": "stream",
          "text": [
            "Epoch  218\n"
          ],
          "name": "stdout"
        },
        {
          "output_type": "stream",
          "text": [
            "100%|██████████| 468/468 [00:17<00:00, 27.83it/s]\n",
            "  1%|          | 3/468 [00:00<00:17, 26.89it/s]"
          ],
          "name": "stderr"
        },
        {
          "output_type": "stream",
          "text": [
            "Epoch  219\n"
          ],
          "name": "stdout"
        },
        {
          "output_type": "stream",
          "text": [
            "100%|██████████| 468/468 [00:16<00:00, 27.86it/s]\n",
            "  1%|          | 3/468 [00:00<00:16, 28.23it/s]"
          ],
          "name": "stderr"
        },
        {
          "output_type": "stream",
          "text": [
            "Epoch  220\n"
          ],
          "name": "stdout"
        },
        {
          "output_type": "stream",
          "text": [
            "100%|██████████| 468/468 [00:16<00:00, 27.75it/s]\n",
            "  1%|          | 3/468 [00:00<00:16, 28.15it/s]"
          ],
          "name": "stderr"
        },
        {
          "output_type": "stream",
          "text": [
            "Epoch  221\n"
          ],
          "name": "stdout"
        },
        {
          "output_type": "stream",
          "text": [
            "100%|██████████| 468/468 [00:16<00:00, 27.63it/s]\n",
            "  1%|          | 3/468 [00:00<00:16, 28.19it/s]"
          ],
          "name": "stderr"
        },
        {
          "output_type": "stream",
          "text": [
            "Epoch  222\n"
          ],
          "name": "stdout"
        },
        {
          "output_type": "stream",
          "text": [
            "100%|██████████| 468/468 [00:16<00:00, 28.02it/s]\n",
            "  1%|          | 3/468 [00:00<00:16, 27.87it/s]"
          ],
          "name": "stderr"
        },
        {
          "output_type": "stream",
          "text": [
            "Epoch  223\n"
          ],
          "name": "stdout"
        },
        {
          "output_type": "stream",
          "text": [
            "100%|██████████| 468/468 [00:16<00:00, 27.78it/s]\n",
            "  1%|          | 3/468 [00:00<00:16, 27.89it/s]"
          ],
          "name": "stderr"
        },
        {
          "output_type": "stream",
          "text": [
            "Epoch  224\n"
          ],
          "name": "stdout"
        },
        {
          "output_type": "stream",
          "text": [
            "100%|██████████| 468/468 [00:16<00:00, 27.84it/s]\n",
            "  1%|          | 3/468 [00:00<00:16, 28.12it/s]"
          ],
          "name": "stderr"
        },
        {
          "output_type": "stream",
          "text": [
            "Epoch  225\n"
          ],
          "name": "stdout"
        },
        {
          "output_type": "stream",
          "text": [
            "100%|██████████| 468/468 [00:16<00:00, 27.75it/s]\n",
            "  1%|          | 3/468 [00:00<00:16, 28.32it/s]"
          ],
          "name": "stderr"
        },
        {
          "output_type": "stream",
          "text": [
            "Epoch  226\n"
          ],
          "name": "stdout"
        },
        {
          "output_type": "stream",
          "text": [
            "100%|██████████| 468/468 [00:16<00:00, 28.04it/s]\n",
            "  1%|          | 3/468 [00:00<00:16, 27.72it/s]"
          ],
          "name": "stderr"
        },
        {
          "output_type": "stream",
          "text": [
            "Epoch  227\n"
          ],
          "name": "stdout"
        },
        {
          "output_type": "stream",
          "text": [
            "100%|██████████| 468/468 [00:16<00:00, 27.95it/s]\n",
            "  1%|          | 3/468 [00:00<00:16, 27.92it/s]"
          ],
          "name": "stderr"
        },
        {
          "output_type": "stream",
          "text": [
            "Epoch  228\n"
          ],
          "name": "stdout"
        },
        {
          "output_type": "stream",
          "text": [
            "100%|██████████| 468/468 [00:16<00:00, 28.12it/s]\n",
            "  1%|          | 3/468 [00:00<00:16, 28.24it/s]"
          ],
          "name": "stderr"
        },
        {
          "output_type": "stream",
          "text": [
            "Epoch  229\n"
          ],
          "name": "stdout"
        },
        {
          "output_type": "stream",
          "text": [
            "100%|██████████| 468/468 [00:16<00:00, 27.81it/s]\n",
            "  1%|          | 3/468 [00:00<00:16, 27.76it/s]"
          ],
          "name": "stderr"
        },
        {
          "output_type": "stream",
          "text": [
            "Epoch  230\n"
          ],
          "name": "stdout"
        },
        {
          "output_type": "stream",
          "text": [
            "100%|██████████| 468/468 [00:16<00:00, 28.05it/s]\n",
            "  1%|          | 3/468 [00:00<00:16, 27.81it/s]"
          ],
          "name": "stderr"
        },
        {
          "output_type": "stream",
          "text": [
            "Epoch  231\n"
          ],
          "name": "stdout"
        },
        {
          "output_type": "stream",
          "text": [
            "100%|██████████| 468/468 [00:16<00:00, 27.73it/s]\n",
            "  1%|          | 3/468 [00:00<00:16, 27.81it/s]"
          ],
          "name": "stderr"
        },
        {
          "output_type": "stream",
          "text": [
            "Epoch  232\n"
          ],
          "name": "stdout"
        },
        {
          "output_type": "stream",
          "text": [
            "100%|██████████| 468/468 [00:16<00:00, 27.65it/s]\n",
            "  1%|          | 3/468 [00:00<00:16, 27.86it/s]"
          ],
          "name": "stderr"
        },
        {
          "output_type": "stream",
          "text": [
            "Epoch  233\n"
          ],
          "name": "stdout"
        },
        {
          "output_type": "stream",
          "text": [
            "100%|██████████| 468/468 [00:16<00:00, 27.42it/s]\n",
            "  1%|          | 3/468 [00:00<00:16, 28.32it/s]"
          ],
          "name": "stderr"
        },
        {
          "output_type": "stream",
          "text": [
            "Epoch  234\n"
          ],
          "name": "stdout"
        },
        {
          "output_type": "stream",
          "text": [
            "100%|██████████| 468/468 [00:16<00:00, 27.60it/s]\n",
            "  1%|          | 3/468 [00:00<00:16, 27.45it/s]"
          ],
          "name": "stderr"
        },
        {
          "output_type": "stream",
          "text": [
            "Epoch  235\n"
          ],
          "name": "stdout"
        },
        {
          "output_type": "stream",
          "text": [
            "100%|██████████| 468/468 [00:16<00:00, 27.69it/s]\n",
            "  1%|          | 3/468 [00:00<00:17, 26.84it/s]"
          ],
          "name": "stderr"
        },
        {
          "output_type": "stream",
          "text": [
            "Epoch  236\n"
          ],
          "name": "stdout"
        },
        {
          "output_type": "stream",
          "text": [
            "100%|██████████| 468/468 [00:16<00:00, 27.67it/s]\n",
            "  1%|          | 3/468 [00:00<00:17, 26.99it/s]"
          ],
          "name": "stderr"
        },
        {
          "output_type": "stream",
          "text": [
            "Epoch  237\n"
          ],
          "name": "stdout"
        },
        {
          "output_type": "stream",
          "text": [
            "100%|██████████| 468/468 [00:16<00:00, 27.92it/s]\n",
            "  1%|          | 3/468 [00:00<00:16, 28.24it/s]"
          ],
          "name": "stderr"
        },
        {
          "output_type": "stream",
          "text": [
            "Epoch  238\n"
          ],
          "name": "stdout"
        },
        {
          "output_type": "stream",
          "text": [
            "100%|██████████| 468/468 [00:16<00:00, 27.90it/s]\n",
            "  1%|          | 3/468 [00:00<00:17, 27.22it/s]"
          ],
          "name": "stderr"
        },
        {
          "output_type": "stream",
          "text": [
            "Epoch  239\n"
          ],
          "name": "stdout"
        },
        {
          "output_type": "stream",
          "text": [
            "100%|██████████| 468/468 [00:16<00:00, 27.74it/s]\n",
            "  1%|          | 3/468 [00:00<00:17, 26.79it/s]"
          ],
          "name": "stderr"
        },
        {
          "output_type": "stream",
          "text": [
            "Epoch  240\n"
          ],
          "name": "stdout"
        },
        {
          "output_type": "stream",
          "text": [
            "100%|██████████| 468/468 [00:16<00:00, 27.76it/s]\n",
            "  1%|          | 3/468 [00:00<00:16, 28.03it/s]"
          ],
          "name": "stderr"
        },
        {
          "output_type": "stream",
          "text": [
            "Epoch  241\n"
          ],
          "name": "stdout"
        },
        {
          "output_type": "stream",
          "text": [
            "100%|██████████| 468/468 [00:16<00:00, 27.72it/s]\n",
            "  1%|          | 3/468 [00:00<00:17, 27.17it/s]"
          ],
          "name": "stderr"
        },
        {
          "output_type": "stream",
          "text": [
            "Epoch  242\n"
          ],
          "name": "stdout"
        },
        {
          "output_type": "stream",
          "text": [
            "100%|██████████| 468/468 [00:16<00:00, 28.15it/s]\n",
            "  1%|          | 3/468 [00:00<00:16, 28.12it/s]"
          ],
          "name": "stderr"
        },
        {
          "output_type": "stream",
          "text": [
            "Epoch  243\n"
          ],
          "name": "stdout"
        },
        {
          "output_type": "stream",
          "text": [
            "100%|██████████| 468/468 [00:16<00:00, 28.00it/s]\n",
            "  1%|          | 3/468 [00:00<00:16, 27.91it/s]"
          ],
          "name": "stderr"
        },
        {
          "output_type": "stream",
          "text": [
            "Epoch  244\n"
          ],
          "name": "stdout"
        },
        {
          "output_type": "stream",
          "text": [
            "100%|██████████| 468/468 [00:16<00:00, 27.97it/s]\n",
            "  1%|          | 3/468 [00:00<00:17, 27.01it/s]"
          ],
          "name": "stderr"
        },
        {
          "output_type": "stream",
          "text": [
            "Epoch  245\n"
          ],
          "name": "stdout"
        },
        {
          "output_type": "stream",
          "text": [
            "100%|██████████| 468/468 [00:16<00:00, 27.81it/s]\n",
            "  1%|          | 3/468 [00:00<00:16, 27.65it/s]"
          ],
          "name": "stderr"
        },
        {
          "output_type": "stream",
          "text": [
            "Epoch  246\n"
          ],
          "name": "stdout"
        },
        {
          "output_type": "stream",
          "text": [
            "100%|██████████| 468/468 [00:16<00:00, 27.80it/s]\n",
            "  1%|          | 3/468 [00:00<00:17, 27.19it/s]"
          ],
          "name": "stderr"
        },
        {
          "output_type": "stream",
          "text": [
            "Epoch  247\n"
          ],
          "name": "stdout"
        },
        {
          "output_type": "stream",
          "text": [
            "100%|██████████| 468/468 [00:16<00:00, 28.07it/s]\n",
            "  1%|          | 3/468 [00:00<00:16, 28.10it/s]"
          ],
          "name": "stderr"
        },
        {
          "output_type": "stream",
          "text": [
            "Epoch  248\n"
          ],
          "name": "stdout"
        },
        {
          "output_type": "stream",
          "text": [
            "100%|██████████| 468/468 [00:16<00:00, 27.85it/s]\n",
            "  1%|          | 3/468 [00:00<00:16, 27.44it/s]"
          ],
          "name": "stderr"
        },
        {
          "output_type": "stream",
          "text": [
            "Epoch  249\n"
          ],
          "name": "stdout"
        },
        {
          "output_type": "stream",
          "text": [
            "100%|██████████| 468/468 [00:16<00:00, 27.87it/s]\n",
            "  1%|          | 3/468 [00:00<00:16, 28.12it/s]"
          ],
          "name": "stderr"
        },
        {
          "output_type": "stream",
          "text": [
            "Epoch  250\n"
          ],
          "name": "stdout"
        },
        {
          "output_type": "stream",
          "text": [
            "100%|██████████| 468/468 [00:16<00:00, 27.75it/s]\n",
            "  1%|          | 3/468 [00:00<00:16, 28.12it/s]"
          ],
          "name": "stderr"
        },
        {
          "output_type": "stream",
          "text": [
            "Epoch  251\n"
          ],
          "name": "stdout"
        },
        {
          "output_type": "stream",
          "text": [
            "100%|██████████| 468/468 [00:16<00:00, 27.71it/s]\n",
            "  1%|          | 3/468 [00:00<00:16, 28.01it/s]"
          ],
          "name": "stderr"
        },
        {
          "output_type": "stream",
          "text": [
            "Epoch  252\n"
          ],
          "name": "stdout"
        },
        {
          "output_type": "stream",
          "text": [
            "100%|██████████| 468/468 [00:16<00:00, 27.74it/s]\n",
            "  1%|          | 3/468 [00:00<00:16, 27.73it/s]"
          ],
          "name": "stderr"
        },
        {
          "output_type": "stream",
          "text": [
            "Epoch  253\n"
          ],
          "name": "stdout"
        },
        {
          "output_type": "stream",
          "text": [
            "100%|██████████| 468/468 [00:16<00:00, 27.69it/s]\n",
            "  1%|          | 3/468 [00:00<00:16, 27.99it/s]"
          ],
          "name": "stderr"
        },
        {
          "output_type": "stream",
          "text": [
            "Epoch  254\n"
          ],
          "name": "stdout"
        },
        {
          "output_type": "stream",
          "text": [
            "100%|██████████| 468/468 [00:16<00:00, 27.45it/s]\n",
            "  1%|          | 3/468 [00:00<00:16, 27.66it/s]"
          ],
          "name": "stderr"
        },
        {
          "output_type": "stream",
          "text": [
            "Epoch  255\n"
          ],
          "name": "stdout"
        },
        {
          "output_type": "stream",
          "text": [
            "100%|██████████| 468/468 [00:16<00:00, 28.00it/s]\n",
            "  1%|          | 3/468 [00:00<00:16, 28.11it/s]"
          ],
          "name": "stderr"
        },
        {
          "output_type": "stream",
          "text": [
            "Epoch  256\n"
          ],
          "name": "stdout"
        },
        {
          "output_type": "stream",
          "text": [
            "100%|██████████| 468/468 [00:16<00:00, 27.29it/s]\n",
            "  1%|          | 3/468 [00:00<00:16, 28.16it/s]"
          ],
          "name": "stderr"
        },
        {
          "output_type": "stream",
          "text": [
            "Epoch  257\n"
          ],
          "name": "stdout"
        },
        {
          "output_type": "stream",
          "text": [
            "100%|██████████| 468/468 [00:16<00:00, 27.88it/s]\n",
            "  1%|          | 3/468 [00:00<00:16, 28.21it/s]"
          ],
          "name": "stderr"
        },
        {
          "output_type": "stream",
          "text": [
            "Epoch  258\n"
          ],
          "name": "stdout"
        },
        {
          "output_type": "stream",
          "text": [
            "100%|██████████| 468/468 [00:19<00:00, 23.49it/s]\n",
            "  1%|          | 3/468 [00:00<00:16, 27.59it/s]"
          ],
          "name": "stderr"
        },
        {
          "output_type": "stream",
          "text": [
            "Epoch  259\n"
          ],
          "name": "stdout"
        },
        {
          "output_type": "stream",
          "text": [
            " 17%|█▋        | 81/468 [00:02<00:13, 27.97it/s]"
          ],
          "name": "stderr"
        }
      ]
    },
    {
      "metadata": {
        "colab_type": "code",
        "id": "eIcEcmWnfvgb",
        "colab": {
          "base_uri": "https://localhost:8080/",
          "height": 377
        },
        "outputId": "104c5f49-eacd-4eca-ab52-51a70e439013"
      },
      "cell_type": "code",
      "source": [
        "np.random.normal(0,0.5,100)"
      ],
      "execution_count": 53,
      "outputs": [
        {
          "output_type": "execute_result",
          "data": {
            "text/plain": [
              "array([-0.30479498, -0.04781905, -0.58982528, -0.0856768 , -0.79420526,\n",
              "       -0.14662268,  0.23760706, -0.99880224,  0.08495879, -1.12992415,\n",
              "        0.32144725,  0.35524205, -0.40133707,  0.02509822, -0.24034346,\n",
              "       -0.9439794 ,  0.01223737, -0.76501903,  0.29853895, -1.15963378,\n",
              "       -0.15990264,  0.02691492, -0.72875833, -0.05602724, -0.46949571,\n",
              "        0.16322543, -0.27831954, -0.18893298,  0.03043214,  0.19264321,\n",
              "       -0.60658783, -0.16780432,  0.30148985,  0.62487804, -0.19764769,\n",
              "       -0.08004311,  0.35219642, -0.2694235 , -0.33462224,  0.22143172,\n",
              "        0.17455474, -0.8183204 ,  0.08374811, -0.29790918, -0.48841535,\n",
              "       -0.127108  , -0.10130079,  0.33459623,  0.14790698,  0.73556625,\n",
              "       -0.05196908,  0.05111316, -0.07778188, -0.05164113,  1.04243831,\n",
              "        0.74053068,  0.5366459 , -0.14636509, -0.26397675,  0.44909263,\n",
              "       -0.78133778,  0.17276059,  0.83313374,  0.2281152 ,  0.18987381,\n",
              "       -0.53061638, -0.23725236, -0.3988584 ,  0.19980817, -1.02927129,\n",
              "        0.10503513, -0.40485176, -0.21861031, -0.83269456,  0.63723948,\n",
              "       -0.38693874, -0.0155957 ,  0.28849202, -0.74173712,  0.04989286,\n",
              "        0.2264589 ,  0.08866137,  0.4018689 , -0.45853052,  0.7076323 ,\n",
              "       -0.93129401, -0.26380606,  1.46900076, -0.04063986, -0.3099526 ,\n",
              "        1.00376978, -0.02060542, -0.58238922,  0.00251407, -0.5587478 ,\n",
              "        0.32076447,  0.599982  ,  0.68337538,  0.58658882, -0.41956114])"
            ]
          },
          "metadata": {
            "tags": []
          },
          "execution_count": 53
        }
      ]
    },
    {
      "metadata": {
        "id": "-OYJx2I61Q_r",
        "colab_type": "text"
      },
      "cell_type": "markdown",
      "source": [
        "[-1.1512663, 0.75990146, -0.07928658, 0.89759046, -1.0752685, -0.04958897, -0.58323795, -0.9667478, -0.020348074, -0.10809761, 0.109084845, 0.44082952, -0.29703644, -1.21371, 0.8394581, 0.7864342, 0.24612193, -1.5498476, -0.5397871, -0.25567988, 0.94975275, -0.5746415, 0.18157484, -0.43186602, 0.5442024, 0.100124024, 0.148687, 0.8796696, 1.060995, 1.3052207, 0.5313458, 0.20374165, -2.0176451, 0.15763642, 0.12320343, -0.23069042, 0.62309045, 0.073851995, 1.5036901, 2.4742455, 0.5990371, 1.443565, 0.072426654, 1.0017805, 0.9117917, 1.1601397, 0.2997919, 1.1081717, -0.7863632, 0.15529813]"
      ]
    },
    {
      "metadata": {
        "id": "2ZUlPMHW0r1U",
        "colab_type": "code",
        "colab": {
          "base_uri": "https://localhost:8080/",
          "height": 377
        },
        "outputId": "17373c8f-04c3-4a7b-ae6f-9d2fb891bbbc"
      },
      "cell_type": "code",
      "source": [
        "np.random.uniform(-1,1,100)"
      ],
      "execution_count": 55,
      "outputs": [
        {
          "output_type": "execute_result",
          "data": {
            "text/plain": [
              "array([ 0.20139702,  0.37633177, -0.11283478,  0.57715844,  0.59499837,\n",
              "        0.86171893, -0.53381057,  0.32620691,  0.09807105, -0.62168485,\n",
              "        0.89433196, -0.2495789 , -0.71121111,  0.44017826,  0.70848689,\n",
              "       -0.92606737, -0.22454447, -0.5427952 , -0.27811206, -0.90673667,\n",
              "        0.07892621, -0.04722506, -0.55555831,  0.19787218,  0.06069673,\n",
              "       -0.79903465, -0.50855827, -0.85335836, -0.01471033,  0.56443733,\n",
              "        0.03400191,  0.06224745, -0.16993303, -0.92149615, -0.30636713,\n",
              "       -0.6765669 , -0.66825855,  0.02690975,  0.18703621,  0.06525373,\n",
              "       -0.34750046,  0.11686265, -0.74464141, -0.03990172, -0.63795221,\n",
              "       -0.77729671, -0.28291146,  0.69819036, -0.41767232, -0.57157485,\n",
              "       -0.92331313, -0.12684038, -0.3341903 , -0.90250394, -0.02418792,\n",
              "        0.86243247, -0.09614144, -0.8515106 , -0.52416061,  0.77777865,\n",
              "       -0.6662412 ,  0.14768708,  0.34199514,  0.09559197,  0.1780559 ,\n",
              "        0.53055641, -0.47582185,  0.17903818,  0.55464345,  0.84738521,\n",
              "        0.59340575, -0.6977355 , -0.7472784 , -0.66717808,  0.41534731,\n",
              "        0.33746666,  0.25919735, -0.13074998,  0.4126528 ,  0.52502229,\n",
              "        0.96332413,  0.82539247,  0.03546408, -0.68856284,  0.61919422,\n",
              "        0.19531137, -0.82741688,  0.26780082,  0.18502893, -0.42845568,\n",
              "        0.72629306,  0.43685287,  0.9129541 ,  0.05278823, -0.1022111 ,\n",
              "       -0.91014064, -0.52129068,  0.04338382, -0.87960662, -0.55834616])"
            ]
          },
          "metadata": {
            "tags": []
          },
          "execution_count": 55
        }
      ]
    },
    {
      "metadata": {
        "id": "oyS58WGb1gGm",
        "colab_type": "code",
        "colab": {}
      },
      "cell_type": "code",
      "source": [
        ""
      ],
      "execution_count": 0,
      "outputs": []
    }
  ]
}